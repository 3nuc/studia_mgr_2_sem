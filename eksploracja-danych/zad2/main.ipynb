{
 "cells": [
  {
   "cell_type": "markdown",
   "metadata": {},
   "source": [
    "Zadanie polegające na sprawdzeniu w jaki sposób wypełnianie braków danych wpływa na podstawowe statystyki zmiennych losowych.\n",
    "\n",
    "    Wygeneruj dwie próbki 500-1000 elementowe (dowolny sposób - rozkład jednostajny; rozkład normalny)\n",
    "\n",
    "Dla obu próbek powtórz:\n",
    "\n",
    "    Oblicz dla próbki podstawowe statystyki - średnią, odchylenie standardowe, min, max, medianę, kwartyle\n",
    "    Na podstawie oryginalnej próbki stwórz serię próbek usuwając 10%, 20%, 30%, 40%, 50%, 60%, 70%, 80% danych (w każdej próbce powinny być usuwane te same elementy, tylko rozszerzamy zakres usuniętych obserwacji)\n",
    "    Oblicz podstawowe statystyki dla tych próbek (tak jak w pkt. 2.)\n",
    "    Wypełnij nowe próbki\n",
    "        wartością średnią (z pkt. 4 odpowiednią dla każdej kolumny, np. dla kolumny z usuniętymi 20% danymi, liczymy średnią z wartościami pustymi i następnie tą średnią uzupełniamy braki w tej kolumnie)\n",
    "        medianą\n",
    "        wylosowanymi w sposób losowy nowymi wartościami (najlepiej z tego samego rozkładu jak dane oryginalne z pierwszej próbki)\n",
    "    Oblicz podstawowe statystyki dla wypełnionych danych i przeanalizuj\n",
    "        jak wpływa na statystyki brak danych (zwiększający się procent braków)\n",
    "        jak wpływa wypełnianie braków średnią, medianą\n",
    "        jak wpływa wypełnianie braków losowymi wartościami\n",
    "\n",
    "\n",
    "Mile widziany będzie wykres z procentem braków na osi X oraz wybranymi statystykami na osi Y. Można zrobić oddzielny wykres dla statystyk pozycyjnych oraz oddzielny dla rozproszenia (odchylenie standardowe).\n"
   ]
  },
  {
   "cell_type": "code",
   "execution_count": 9,
   "metadata": {},
   "outputs": [],
   "source": [
    "import numpy\n",
    "import pandas as pd\n",
    "import math\n",
    "size = 1000\n",
    "# Wygeneruj próbke rozklad jednostajny\n",
    "df_uniform = pd.DataFrame(numpy.random.uniform(size=size))\n",
    "\n",
    "# Rozklad normalny\n",
    "df_normal = pd.DataFrame(numpy.random.normal(165.5, 7.5, size=size))\n",
    "\n"
   ]
  },
  {
   "cell_type": "code",
   "execution_count": null,
   "metadata": {},
   "outputs": [],
   "source": []
  },
  {
   "cell_type": "code",
   "execution_count": 10,
   "metadata": {},
   "outputs": [
    {
     "data": {
      "text/plain": "'uniform'"
     },
     "metadata": {
      "transient": {}
     },
     "output_type": "display_data"
    },
    {
     "data": {
      "text/html": "<div>\n<style scoped>\n    .dataframe tbody tr th:only-of-type {\n        vertical-align: middle;\n    }\n\n    .dataframe tbody tr th {\n        vertical-align: top;\n    }\n\n    .dataframe thead th {\n        text-align: right;\n    }\n</style>\n<table border=\"1\" class=\"dataframe\">\n  <thead>\n    <tr style=\"text-align: right;\">\n      <th></th>\n      <th>n</th>\n      <th>śr. arytm.</th>\n      <th>odch. std</th>\n      <th>mediana</th>\n      <th>min</th>\n      <th>max</th>\n      <th>I kwantyl</th>\n      <th>III kwantyl</th>\n    </tr>\n  </thead>\n  <tbody>\n    <tr>\n      <th>0</th>\n      <td>1000</td>\n      <td>0.500603</td>\n      <td>0.289446</td>\n      <td>0.50063</td>\n      <td>0.000123</td>\n      <td>0.998462</td>\n      <td>0.248216</td>\n      <td>0.758091</td>\n    </tr>\n  </tbody>\n</table>\n</div>",
      "text/plain": "      n  śr. arytm.  odch. std  mediana       min       max  I kwantyl  \\\n0  1000    0.500603   0.289446  0.50063  0.000123  0.998462   0.248216   \n\n   III kwantyl  \n0     0.758091  "
     },
     "metadata": {
      "transient": {}
     },
     "output_type": "display_data"
    },
    {
     "data": {
      "text/plain": "'normal'"
     },
     "metadata": {
      "transient": {}
     },
     "output_type": "display_data"
    },
    {
     "data": {
      "text/html": "<div>\n<style scoped>\n    .dataframe tbody tr th:only-of-type {\n        vertical-align: middle;\n    }\n\n    .dataframe tbody tr th {\n        vertical-align: top;\n    }\n\n    .dataframe thead th {\n        text-align: right;\n    }\n</style>\n<table border=\"1\" class=\"dataframe\">\n  <thead>\n    <tr style=\"text-align: right;\">\n      <th></th>\n      <th>n</th>\n      <th>śr. arytm.</th>\n      <th>odch. std</th>\n      <th>mediana</th>\n      <th>min</th>\n      <th>max</th>\n      <th>I kwantyl</th>\n      <th>III kwantyl</th>\n    </tr>\n  </thead>\n  <tbody>\n    <tr>\n      <th>0</th>\n      <td>1000</td>\n      <td>165.859899</td>\n      <td>7.675793</td>\n      <td>165.923853</td>\n      <td>145.113165</td>\n      <td>187.388611</td>\n      <td>160.791239</td>\n      <td>171.056804</td>\n    </tr>\n  </tbody>\n</table>\n</div>",
      "text/plain": "      n  śr. arytm.  odch. std     mediana         min         max  \\\n0  1000  165.859899   7.675793  165.923853  145.113165  187.388611   \n\n    I kwantyl  III kwantyl  \n0  160.791239   171.056804  "
     },
     "metadata": {
      "transient": {}
     },
     "output_type": "display_data"
    }
   ],
   "source": [
    "from IPython.display import display\n",
    "def print_basic_stats(df):\n",
    "  #n\n",
    "  n = len(df)\n",
    "  # print(\"n\", n)\n",
    "\n",
    "  # śr ar.\n",
    "  mean = df.mean(axis=0)\n",
    "  # print(\"mean\",mean)\n",
    "  \n",
    "  # odch_st\n",
    "  std = df.std()\n",
    "  #print(\"std\",std)\n",
    "  \n",
    "  # Me\n",
    "  median = df.median()\n",
    "  #print(\"mediuan\", median)\n",
    "\n",
    "  # Q1\n",
    "  # Q3\n",
    "  # min;max\n",
    "  max = df.max()\n",
    "  min = df.min()\n",
    "  \n",
    "  q1 = df.quantile(0.25)\n",
    "  q3 = df.quantile(0.75)\n",
    "  # print(\"maxmin\", max, min)\n",
    "  _table = pd.DataFrame([[n, mean, std, median, min, max, q1, q3 ]], columns=[\"n\", \"śr. arytm.\", \"odch. std\", \"mediana\", \"min\", \"max\", \"I kwantyl\", \"III kwantyl\"]) # \"mean\", \"std\", \"median\", \"max\", \"min\"])\n",
    "  display(_table)\n",
    "def snip_every_x_result(set, x):\n",
    "  return set[::x]\n",
    "  \n",
    "\n",
    "display('uniform')\n",
    "print_basic_stats(df_uniform[0])\n",
    "\n",
    "\n",
    "display('normal')\n",
    "print_basic_stats(df_normal[0])\n"
   ]
  },
  {
   "cell_type": "code",
   "execution_count": 11,
   "metadata": {},
   "outputs": [
    {
     "data": {
      "text/plain": "'ROZKLAD NORMALNY'"
     },
     "metadata": {
      "transient": {}
     },
     "output_type": "display_data"
    },
    {
     "data": {
      "text/plain": "0.0"
     },
     "metadata": {
      "transient": {}
     },
     "output_type": "display_data"
    },
    {
     "data": {
      "text/html": "<div>\n<style scoped>\n    .dataframe tbody tr th:only-of-type {\n        vertical-align: middle;\n    }\n\n    .dataframe tbody tr th {\n        vertical-align: top;\n    }\n\n    .dataframe thead th {\n        text-align: right;\n    }\n</style>\n<table border=\"1\" class=\"dataframe\">\n  <thead>\n    <tr style=\"text-align: right;\">\n      <th></th>\n      <th>n</th>\n      <th>śr. arytm.</th>\n      <th>odch. std</th>\n      <th>mediana</th>\n      <th>min</th>\n      <th>max</th>\n      <th>I kwantyl</th>\n      <th>III kwantyl</th>\n    </tr>\n  </thead>\n  <tbody>\n    <tr>\n      <th>0</th>\n      <td>1000</td>\n      <td>165.859899</td>\n      <td>7.675793</td>\n      <td>165.923853</td>\n      <td>145.113165</td>\n      <td>187.388611</td>\n      <td>160.791239</td>\n      <td>171.056804</td>\n    </tr>\n  </tbody>\n</table>\n</div>",
      "text/plain": "      n  śr. arytm.  odch. std     mediana         min         max  \\\n0  1000  165.859899   7.675793  165.923853  145.113165  187.388611   \n\n    I kwantyl  III kwantyl  \n0  160.791239   171.056804  "
     },
     "metadata": {
      "transient": {}
     },
     "output_type": "display_data"
    },
    {
     "data": {
      "text/plain": "0.1"
     },
     "metadata": {
      "transient": {}
     },
     "output_type": "display_data"
    },
    {
     "data": {
      "text/html": "<div>\n<style scoped>\n    .dataframe tbody tr th:only-of-type {\n        vertical-align: middle;\n    }\n\n    .dataframe tbody tr th {\n        vertical-align: top;\n    }\n\n    .dataframe thead th {\n        text-align: right;\n    }\n</style>\n<table border=\"1\" class=\"dataframe\">\n  <thead>\n    <tr style=\"text-align: right;\">\n      <th></th>\n      <th>n</th>\n      <th>śr. arytm.</th>\n      <th>odch. std</th>\n      <th>mediana</th>\n      <th>min</th>\n      <th>max</th>\n      <th>I kwantyl</th>\n      <th>III kwantyl</th>\n    </tr>\n  </thead>\n  <tbody>\n    <tr>\n      <th>0</th>\n      <td>1000</td>\n      <td>165.697748</td>\n      <td>7.702661</td>\n      <td>165.736226</td>\n      <td>145.113165</td>\n      <td>187.388611</td>\n      <td>160.665866</td>\n      <td>170.817722</td>\n    </tr>\n  </tbody>\n</table>\n</div>",
      "text/plain": "      n  śr. arytm.  odch. std     mediana         min         max  \\\n0  1000  165.697748   7.702661  165.736226  145.113165  187.388611   \n\n    I kwantyl  III kwantyl  \n0  160.665866   170.817722  "
     },
     "metadata": {
      "transient": {}
     },
     "output_type": "display_data"
    },
    {
     "data": {
      "text/plain": "0.2"
     },
     "metadata": {
      "transient": {}
     },
     "output_type": "display_data"
    },
    {
     "data": {
      "text/html": "<div>\n<style scoped>\n    .dataframe tbody tr th:only-of-type {\n        vertical-align: middle;\n    }\n\n    .dataframe tbody tr th {\n        vertical-align: top;\n    }\n\n    .dataframe thead th {\n        text-align: right;\n    }\n</style>\n<table border=\"1\" class=\"dataframe\">\n  <thead>\n    <tr style=\"text-align: right;\">\n      <th></th>\n      <th>n</th>\n      <th>śr. arytm.</th>\n      <th>odch. std</th>\n      <th>mediana</th>\n      <th>min</th>\n      <th>max</th>\n      <th>I kwantyl</th>\n      <th>III kwantyl</th>\n    </tr>\n  </thead>\n  <tbody>\n    <tr>\n      <th>0</th>\n      <td>1000</td>\n      <td>165.86388</td>\n      <td>7.656686</td>\n      <td>165.819267</td>\n      <td>145.113165</td>\n      <td>187.388611</td>\n      <td>160.840468</td>\n      <td>170.969225</td>\n    </tr>\n  </tbody>\n</table>\n</div>",
      "text/plain": "      n  śr. arytm.  odch. std     mediana         min         max  \\\n0  1000   165.86388   7.656686  165.819267  145.113165  187.388611   \n\n    I kwantyl  III kwantyl  \n0  160.840468   170.969225  "
     },
     "metadata": {
      "transient": {}
     },
     "output_type": "display_data"
    },
    {
     "data": {
      "text/plain": "0.3"
     },
     "metadata": {
      "transient": {}
     },
     "output_type": "display_data"
    },
    {
     "data": {
      "text/html": "<div>\n<style scoped>\n    .dataframe tbody tr th:only-of-type {\n        vertical-align: middle;\n    }\n\n    .dataframe tbody tr th {\n        vertical-align: top;\n    }\n\n    .dataframe thead th {\n        text-align: right;\n    }\n</style>\n<table border=\"1\" class=\"dataframe\">\n  <thead>\n    <tr style=\"text-align: right;\">\n      <th></th>\n      <th>n</th>\n      <th>śr. arytm.</th>\n      <th>odch. std</th>\n      <th>mediana</th>\n      <th>min</th>\n      <th>max</th>\n      <th>I kwantyl</th>\n      <th>III kwantyl</th>\n    </tr>\n  </thead>\n  <tbody>\n    <tr>\n      <th>0</th>\n      <td>1000</td>\n      <td>165.835121</td>\n      <td>7.773147</td>\n      <td>165.77688</td>\n      <td>145.113165</td>\n      <td>187.388611</td>\n      <td>160.62938</td>\n      <td>171.056867</td>\n    </tr>\n  </tbody>\n</table>\n</div>",
      "text/plain": "      n  śr. arytm.  odch. std    mediana         min         max  I kwantyl  \\\n0  1000  165.835121   7.773147  165.77688  145.113165  187.388611  160.62938   \n\n   III kwantyl  \n0   171.056867  "
     },
     "metadata": {
      "transient": {}
     },
     "output_type": "display_data"
    },
    {
     "data": {
      "text/plain": "0.4"
     },
     "metadata": {
      "transient": {}
     },
     "output_type": "display_data"
    },
    {
     "data": {
      "text/html": "<div>\n<style scoped>\n    .dataframe tbody tr th:only-of-type {\n        vertical-align: middle;\n    }\n\n    .dataframe tbody tr th {\n        vertical-align: top;\n    }\n\n    .dataframe thead th {\n        text-align: right;\n    }\n</style>\n<table border=\"1\" class=\"dataframe\">\n  <thead>\n    <tr style=\"text-align: right;\">\n      <th></th>\n      <th>n</th>\n      <th>śr. arytm.</th>\n      <th>odch. std</th>\n      <th>mediana</th>\n      <th>min</th>\n      <th>max</th>\n      <th>I kwantyl</th>\n      <th>III kwantyl</th>\n    </tr>\n  </thead>\n  <tbody>\n    <tr>\n      <th>0</th>\n      <td>1000</td>\n      <td>166.081207</td>\n      <td>7.748459</td>\n      <td>165.935882</td>\n      <td>145.113165</td>\n      <td>187.388611</td>\n      <td>160.791239</td>\n      <td>171.454993</td>\n    </tr>\n  </tbody>\n</table>\n</div>",
      "text/plain": "      n  śr. arytm.  odch. std     mediana         min         max  \\\n0  1000  166.081207   7.748459  165.935882  145.113165  187.388611   \n\n    I kwantyl  III kwantyl  \n0  160.791239   171.454993  "
     },
     "metadata": {
      "transient": {}
     },
     "output_type": "display_data"
    },
    {
     "data": {
      "text/plain": "0.5"
     },
     "metadata": {
      "transient": {}
     },
     "output_type": "display_data"
    },
    {
     "data": {
      "text/html": "<div>\n<style scoped>\n    .dataframe tbody tr th:only-of-type {\n        vertical-align: middle;\n    }\n\n    .dataframe tbody tr th {\n        vertical-align: top;\n    }\n\n    .dataframe thead th {\n        text-align: right;\n    }\n</style>\n<table border=\"1\" class=\"dataframe\">\n  <thead>\n    <tr style=\"text-align: right;\">\n      <th></th>\n      <th>n</th>\n      <th>śr. arytm.</th>\n      <th>odch. std</th>\n      <th>mediana</th>\n      <th>min</th>\n      <th>max</th>\n      <th>I kwantyl</th>\n      <th>III kwantyl</th>\n    </tr>\n  </thead>\n  <tbody>\n    <tr>\n      <th>0</th>\n      <td>1000</td>\n      <td>166.126277</td>\n      <td>7.772647</td>\n      <td>166.086782</td>\n      <td>145.113165</td>\n      <td>187.388611</td>\n      <td>160.614945</td>\n      <td>171.585871</td>\n    </tr>\n  </tbody>\n</table>\n</div>",
      "text/plain": "      n  śr. arytm.  odch. std     mediana         min         max  \\\n0  1000  166.126277   7.772647  166.086782  145.113165  187.388611   \n\n    I kwantyl  III kwantyl  \n0  160.614945   171.585871  "
     },
     "metadata": {
      "transient": {}
     },
     "output_type": "display_data"
    },
    {
     "data": {
      "text/plain": "0.6"
     },
     "metadata": {
      "transient": {}
     },
     "output_type": "display_data"
    },
    {
     "data": {
      "text/html": "<div>\n<style scoped>\n    .dataframe tbody tr th:only-of-type {\n        vertical-align: middle;\n    }\n\n    .dataframe tbody tr th {\n        vertical-align: top;\n    }\n\n    .dataframe thead th {\n        text-align: right;\n    }\n</style>\n<table border=\"1\" class=\"dataframe\">\n  <thead>\n    <tr style=\"text-align: right;\">\n      <th></th>\n      <th>n</th>\n      <th>śr. arytm.</th>\n      <th>odch. std</th>\n      <th>mediana</th>\n      <th>min</th>\n      <th>max</th>\n      <th>I kwantyl</th>\n      <th>III kwantyl</th>\n    </tr>\n  </thead>\n  <tbody>\n    <tr>\n      <th>0</th>\n      <td>1000</td>\n      <td>166.046335</td>\n      <td>7.703287</td>\n      <td>165.857429</td>\n      <td>145.113165</td>\n      <td>187.388611</td>\n      <td>160.614945</td>\n      <td>171.374818</td>\n    </tr>\n  </tbody>\n</table>\n</div>",
      "text/plain": "      n  śr. arytm.  odch. std     mediana         min         max  \\\n0  1000  166.046335   7.703287  165.857429  145.113165  187.388611   \n\n    I kwantyl  III kwantyl  \n0  160.614945   171.374818  "
     },
     "metadata": {
      "transient": {}
     },
     "output_type": "display_data"
    },
    {
     "data": {
      "text/plain": "0.7"
     },
     "metadata": {
      "transient": {}
     },
     "output_type": "display_data"
    },
    {
     "data": {
      "text/html": "<div>\n<style scoped>\n    .dataframe tbody tr th:only-of-type {\n        vertical-align: middle;\n    }\n\n    .dataframe tbody tr th {\n        vertical-align: top;\n    }\n\n    .dataframe thead th {\n        text-align: right;\n    }\n</style>\n<table border=\"1\" class=\"dataframe\">\n  <thead>\n    <tr style=\"text-align: right;\">\n      <th></th>\n      <th>n</th>\n      <th>śr. arytm.</th>\n      <th>odch. std</th>\n      <th>mediana</th>\n      <th>min</th>\n      <th>max</th>\n      <th>I kwantyl</th>\n      <th>III kwantyl</th>\n    </tr>\n  </thead>\n  <tbody>\n    <tr>\n      <th>0</th>\n      <td>1000</td>\n      <td>165.830493</td>\n      <td>7.899246</td>\n      <td>165.632825</td>\n      <td>145.113165</td>\n      <td>187.388611</td>\n      <td>160.492167</td>\n      <td>171.351666</td>\n    </tr>\n  </tbody>\n</table>\n</div>",
      "text/plain": "      n  śr. arytm.  odch. std     mediana         min         max  \\\n0  1000  165.830493   7.899246  165.632825  145.113165  187.388611   \n\n    I kwantyl  III kwantyl  \n0  160.492167   171.351666  "
     },
     "metadata": {
      "transient": {}
     },
     "output_type": "display_data"
    },
    {
     "data": {
      "text/plain": "0.8"
     },
     "metadata": {
      "transient": {}
     },
     "output_type": "display_data"
    },
    {
     "data": {
      "text/html": "<div>\n<style scoped>\n    .dataframe tbody tr th:only-of-type {\n        vertical-align: middle;\n    }\n\n    .dataframe tbody tr th {\n        vertical-align: top;\n    }\n\n    .dataframe thead th {\n        text-align: right;\n    }\n</style>\n<table border=\"1\" class=\"dataframe\">\n  <thead>\n    <tr style=\"text-align: right;\">\n      <th></th>\n      <th>n</th>\n      <th>śr. arytm.</th>\n      <th>odch. std</th>\n      <th>mediana</th>\n      <th>min</th>\n      <th>max</th>\n      <th>I kwantyl</th>\n      <th>III kwantyl</th>\n    </tr>\n  </thead>\n  <tbody>\n    <tr>\n      <th>0</th>\n      <td>1000</td>\n      <td>165.721031</td>\n      <td>8.191743</td>\n      <td>165.632825</td>\n      <td>145.113165</td>\n      <td>187.388611</td>\n      <td>160.049372</td>\n      <td>171.505585</td>\n    </tr>\n  </tbody>\n</table>\n</div>",
      "text/plain": "      n  śr. arytm.  odch. std     mediana         min         max  \\\n0  1000  165.721031   8.191743  165.632825  145.113165  187.388611   \n\n    I kwantyl  III kwantyl  \n0  160.049372   171.505585  "
     },
     "metadata": {
      "transient": {}
     },
     "output_type": "display_data"
    },
    {
     "data": {
      "text/plain": "'KONIEC--------------------------------------'"
     },
     "metadata": {
      "transient": {}
     },
     "output_type": "display_data"
    },
    {
     "data": {
      "text/plain": "'ROZKLAD JEDNOSTAJNY'"
     },
     "metadata": {
      "transient": {}
     },
     "output_type": "display_data"
    },
    {
     "data": {
      "text/plain": "0.0"
     },
     "metadata": {
      "transient": {}
     },
     "output_type": "display_data"
    },
    {
     "data": {
      "text/html": "<div>\n<style scoped>\n    .dataframe tbody tr th:only-of-type {\n        vertical-align: middle;\n    }\n\n    .dataframe tbody tr th {\n        vertical-align: top;\n    }\n\n    .dataframe thead th {\n        text-align: right;\n    }\n</style>\n<table border=\"1\" class=\"dataframe\">\n  <thead>\n    <tr style=\"text-align: right;\">\n      <th></th>\n      <th>n</th>\n      <th>śr. arytm.</th>\n      <th>odch. std</th>\n      <th>mediana</th>\n      <th>min</th>\n      <th>max</th>\n      <th>I kwantyl</th>\n      <th>III kwantyl</th>\n    </tr>\n  </thead>\n  <tbody>\n    <tr>\n      <th>0</th>\n      <td>1000</td>\n      <td>0.500603</td>\n      <td>0.289446</td>\n      <td>0.50063</td>\n      <td>0.000123</td>\n      <td>0.998462</td>\n      <td>0.248216</td>\n      <td>0.758091</td>\n    </tr>\n  </tbody>\n</table>\n</div>",
      "text/plain": "      n  śr. arytm.  odch. std  mediana       min       max  I kwantyl  \\\n0  1000    0.500603   0.289446  0.50063  0.000123  0.998462   0.248216   \n\n   III kwantyl  \n0     0.758091  "
     },
     "metadata": {
      "transient": {}
     },
     "output_type": "display_data"
    },
    {
     "data": {
      "text/plain": "0.1"
     },
     "metadata": {
      "transient": {}
     },
     "output_type": "display_data"
    },
    {
     "data": {
      "text/html": "<div>\n<style scoped>\n    .dataframe tbody tr th:only-of-type {\n        vertical-align: middle;\n    }\n\n    .dataframe tbody tr th {\n        vertical-align: top;\n    }\n\n    .dataframe thead th {\n        text-align: right;\n    }\n</style>\n<table border=\"1\" class=\"dataframe\">\n  <thead>\n    <tr style=\"text-align: right;\">\n      <th></th>\n      <th>n</th>\n      <th>śr. arytm.</th>\n      <th>odch. std</th>\n      <th>mediana</th>\n      <th>min</th>\n      <th>max</th>\n      <th>I kwantyl</th>\n      <th>III kwantyl</th>\n    </tr>\n  </thead>\n  <tbody>\n    <tr>\n      <th>0</th>\n      <td>1000</td>\n      <td>0.495034</td>\n      <td>0.287778</td>\n      <td>0.494176</td>\n      <td>0.000123</td>\n      <td>0.998462</td>\n      <td>0.24159</td>\n      <td>0.746547</td>\n    </tr>\n  </tbody>\n</table>\n</div>",
      "text/plain": "      n  śr. arytm.  odch. std   mediana       min       max  I kwantyl  \\\n0  1000    0.495034   0.287778  0.494176  0.000123  0.998462    0.24159   \n\n   III kwantyl  \n0     0.746547  "
     },
     "metadata": {
      "transient": {}
     },
     "output_type": "display_data"
    },
    {
     "data": {
      "text/plain": "0.2"
     },
     "metadata": {
      "transient": {}
     },
     "output_type": "display_data"
    },
    {
     "data": {
      "text/html": "<div>\n<style scoped>\n    .dataframe tbody tr th:only-of-type {\n        vertical-align: middle;\n    }\n\n    .dataframe tbody tr th {\n        vertical-align: top;\n    }\n\n    .dataframe thead th {\n        text-align: right;\n    }\n</style>\n<table border=\"1\" class=\"dataframe\">\n  <thead>\n    <tr style=\"text-align: right;\">\n      <th></th>\n      <th>n</th>\n      <th>śr. arytm.</th>\n      <th>odch. std</th>\n      <th>mediana</th>\n      <th>min</th>\n      <th>max</th>\n      <th>I kwantyl</th>\n      <th>III kwantyl</th>\n    </tr>\n  </thead>\n  <tbody>\n    <tr>\n      <th>0</th>\n      <td>1000</td>\n      <td>0.496523</td>\n      <td>0.288527</td>\n      <td>0.498164</td>\n      <td>0.000123</td>\n      <td>0.998462</td>\n      <td>0.243532</td>\n      <td>0.749226</td>\n    </tr>\n  </tbody>\n</table>\n</div>",
      "text/plain": "      n  śr. arytm.  odch. std   mediana       min       max  I kwantyl  \\\n0  1000    0.496523   0.288527  0.498164  0.000123  0.998462   0.243532   \n\n   III kwantyl  \n0     0.749226  "
     },
     "metadata": {
      "transient": {}
     },
     "output_type": "display_data"
    },
    {
     "data": {
      "text/plain": "0.3"
     },
     "metadata": {
      "transient": {}
     },
     "output_type": "display_data"
    },
    {
     "data": {
      "text/html": "<div>\n<style scoped>\n    .dataframe tbody tr th:only-of-type {\n        vertical-align: middle;\n    }\n\n    .dataframe tbody tr th {\n        vertical-align: top;\n    }\n\n    .dataframe thead th {\n        text-align: right;\n    }\n</style>\n<table border=\"1\" class=\"dataframe\">\n  <thead>\n    <tr style=\"text-align: right;\">\n      <th></th>\n      <th>n</th>\n      <th>śr. arytm.</th>\n      <th>odch. std</th>\n      <th>mediana</th>\n      <th>min</th>\n      <th>max</th>\n      <th>I kwantyl</th>\n      <th>III kwantyl</th>\n    </tr>\n  </thead>\n  <tbody>\n    <tr>\n      <th>0</th>\n      <td>1000</td>\n      <td>0.498985</td>\n      <td>0.285567</td>\n      <td>0.498164</td>\n      <td>0.000123</td>\n      <td>0.998462</td>\n      <td>0.25036</td>\n      <td>0.747205</td>\n    </tr>\n  </tbody>\n</table>\n</div>",
      "text/plain": "      n  śr. arytm.  odch. std   mediana       min       max  I kwantyl  \\\n0  1000    0.498985   0.285567  0.498164  0.000123  0.998462    0.25036   \n\n   III kwantyl  \n0     0.747205  "
     },
     "metadata": {
      "transient": {}
     },
     "output_type": "display_data"
    },
    {
     "data": {
      "text/plain": "0.4"
     },
     "metadata": {
      "transient": {}
     },
     "output_type": "display_data"
    },
    {
     "data": {
      "text/html": "<div>\n<style scoped>\n    .dataframe tbody tr th:only-of-type {\n        vertical-align: middle;\n    }\n\n    .dataframe tbody tr th {\n        vertical-align: top;\n    }\n\n    .dataframe thead th {\n        text-align: right;\n    }\n</style>\n<table border=\"1\" class=\"dataframe\">\n  <thead>\n    <tr style=\"text-align: right;\">\n      <th></th>\n      <th>n</th>\n      <th>śr. arytm.</th>\n      <th>odch. std</th>\n      <th>mediana</th>\n      <th>min</th>\n      <th>max</th>\n      <th>I kwantyl</th>\n      <th>III kwantyl</th>\n    </tr>\n  </thead>\n  <tbody>\n    <tr>\n      <th>0</th>\n      <td>1000</td>\n      <td>0.502541</td>\n      <td>0.286356</td>\n      <td>0.507725</td>\n      <td>0.002594</td>\n      <td>0.998462</td>\n      <td>0.248763</td>\n      <td>0.754408</td>\n    </tr>\n  </tbody>\n</table>\n</div>",
      "text/plain": "      n  śr. arytm.  odch. std   mediana       min       max  I kwantyl  \\\n0  1000    0.502541   0.286356  0.507725  0.002594  0.998462   0.248763   \n\n   III kwantyl  \n0     0.754408  "
     },
     "metadata": {
      "transient": {}
     },
     "output_type": "display_data"
    },
    {
     "data": {
      "text/plain": "0.5"
     },
     "metadata": {
      "transient": {}
     },
     "output_type": "display_data"
    },
    {
     "data": {
      "text/html": "<div>\n<style scoped>\n    .dataframe tbody tr th:only-of-type {\n        vertical-align: middle;\n    }\n\n    .dataframe tbody tr th {\n        vertical-align: top;\n    }\n\n    .dataframe thead th {\n        text-align: right;\n    }\n</style>\n<table border=\"1\" class=\"dataframe\">\n  <thead>\n    <tr style=\"text-align: right;\">\n      <th></th>\n      <th>n</th>\n      <th>śr. arytm.</th>\n      <th>odch. std</th>\n      <th>mediana</th>\n      <th>min</th>\n      <th>max</th>\n      <th>I kwantyl</th>\n      <th>III kwantyl</th>\n    </tr>\n  </thead>\n  <tbody>\n    <tr>\n      <th>0</th>\n      <td>1000</td>\n      <td>0.498415</td>\n      <td>0.287047</td>\n      <td>0.496752</td>\n      <td>0.002594</td>\n      <td>0.99701</td>\n      <td>0.243873</td>\n      <td>0.757618</td>\n    </tr>\n  </tbody>\n</table>\n</div>",
      "text/plain": "      n  śr. arytm.  odch. std   mediana       min      max  I kwantyl  \\\n0  1000    0.498415   0.287047  0.496752  0.002594  0.99701   0.243873   \n\n   III kwantyl  \n0     0.757618  "
     },
     "metadata": {
      "transient": {}
     },
     "output_type": "display_data"
    },
    {
     "data": {
      "text/plain": "0.6"
     },
     "metadata": {
      "transient": {}
     },
     "output_type": "display_data"
    },
    {
     "data": {
      "text/html": "<div>\n<style scoped>\n    .dataframe tbody tr th:only-of-type {\n        vertical-align: middle;\n    }\n\n    .dataframe tbody tr th {\n        vertical-align: top;\n    }\n\n    .dataframe thead th {\n        text-align: right;\n    }\n</style>\n<table border=\"1\" class=\"dataframe\">\n  <thead>\n    <tr style=\"text-align: right;\">\n      <th></th>\n      <th>n</th>\n      <th>śr. arytm.</th>\n      <th>odch. std</th>\n      <th>mediana</th>\n      <th>min</th>\n      <th>max</th>\n      <th>I kwantyl</th>\n      <th>III kwantyl</th>\n    </tr>\n  </thead>\n  <tbody>\n    <tr>\n      <th>0</th>\n      <td>1000</td>\n      <td>0.496047</td>\n      <td>0.289997</td>\n      <td>0.486853</td>\n      <td>0.002594</td>\n      <td>0.99701</td>\n      <td>0.24159</td>\n      <td>0.759948</td>\n    </tr>\n  </tbody>\n</table>\n</div>",
      "text/plain": "      n  śr. arytm.  odch. std   mediana       min      max  I kwantyl  \\\n0  1000    0.496047   0.289997  0.486853  0.002594  0.99701    0.24159   \n\n   III kwantyl  \n0     0.759948  "
     },
     "metadata": {
      "transient": {}
     },
     "output_type": "display_data"
    },
    {
     "data": {
      "text/plain": "0.7"
     },
     "metadata": {
      "transient": {}
     },
     "output_type": "display_data"
    },
    {
     "data": {
      "text/html": "<div>\n<style scoped>\n    .dataframe tbody tr th:only-of-type {\n        vertical-align: middle;\n    }\n\n    .dataframe tbody tr th {\n        vertical-align: top;\n    }\n\n    .dataframe thead th {\n        text-align: right;\n    }\n</style>\n<table border=\"1\" class=\"dataframe\">\n  <thead>\n    <tr style=\"text-align: right;\">\n      <th></th>\n      <th>n</th>\n      <th>śr. arytm.</th>\n      <th>odch. std</th>\n      <th>mediana</th>\n      <th>min</th>\n      <th>max</th>\n      <th>I kwantyl</th>\n      <th>III kwantyl</th>\n    </tr>\n  </thead>\n  <tbody>\n    <tr>\n      <th>0</th>\n      <td>1000</td>\n      <td>0.498494</td>\n      <td>0.296487</td>\n      <td>0.488307</td>\n      <td>0.002594</td>\n      <td>0.99701</td>\n      <td>0.234557</td>\n      <td>0.766196</td>\n    </tr>\n  </tbody>\n</table>\n</div>",
      "text/plain": "      n  śr. arytm.  odch. std   mediana       min      max  I kwantyl  \\\n0  1000    0.498494   0.296487  0.488307  0.002594  0.99701   0.234557   \n\n   III kwantyl  \n0     0.766196  "
     },
     "metadata": {
      "transient": {}
     },
     "output_type": "display_data"
    },
    {
     "data": {
      "text/plain": "0.8"
     },
     "metadata": {
      "transient": {}
     },
     "output_type": "display_data"
    },
    {
     "data": {
      "text/html": "<div>\n<style scoped>\n    .dataframe tbody tr th:only-of-type {\n        vertical-align: middle;\n    }\n\n    .dataframe tbody tr th {\n        vertical-align: top;\n    }\n\n    .dataframe thead th {\n        text-align: right;\n    }\n</style>\n<table border=\"1\" class=\"dataframe\">\n  <thead>\n    <tr style=\"text-align: right;\">\n      <th></th>\n      <th>n</th>\n      <th>śr. arytm.</th>\n      <th>odch. std</th>\n      <th>mediana</th>\n      <th>min</th>\n      <th>max</th>\n      <th>I kwantyl</th>\n      <th>III kwantyl</th>\n    </tr>\n  </thead>\n  <tbody>\n    <tr>\n      <th>0</th>\n      <td>1000</td>\n      <td>0.496538</td>\n      <td>0.292378</td>\n      <td>0.484358</td>\n      <td>0.002785</td>\n      <td>0.996791</td>\n      <td>0.243532</td>\n      <td>0.772256</td>\n    </tr>\n  </tbody>\n</table>\n</div>",
      "text/plain": "      n  śr. arytm.  odch. std   mediana       min       max  I kwantyl  \\\n0  1000    0.496538   0.292378  0.484358  0.002785  0.996791   0.243532   \n\n   III kwantyl  \n0     0.772256  "
     },
     "metadata": {
      "transient": {}
     },
     "output_type": "display_data"
    },
    {
     "data": {
      "text/plain": "'KONIEC--------------------------------------'"
     },
     "metadata": {
      "transient": {}
     },
     "output_type": "display_data"
    }
   ],
   "source": [
    "percentages = [0.1, 0.2, 0.3, 0.4, 0.5, 0.6, 0.7, 0.8]\n",
    "\n",
    "def get_variants_with_removed(_df):\n",
    "  copy = pd.DataFrame(_df[0])\n",
    "  for percentage in percentages:\n",
    "    with_removed = remove_percentage_from_beginning(copy, percentage)\n",
    "    _df[percentage] = with_removed;\n",
    "  #print(\"new\", dataframes[0.5][:804])\n",
    "  return _df\n",
    "  \n",
    "def remove_percentage_from_beginning(_df, percentage):\n",
    "  n = math.floor(len(_df)*percentage)\n",
    "  for i in range(n):\n",
    "    _df[0][int(i)] = None\n",
    "  return _df\n",
    "\n",
    "\n",
    "normal_variants = get_variants_with_removed(df_normal)\n",
    "uniform_variants = get_variants_with_removed(df_uniform)\n",
    "\n",
    "#najpierw rozkład normalny, potem jednostajny\n",
    "for dict in [{\"percentages\": normal_variants, \"message\": \"ROZKLAD NORMALNY\"}, {\"percentages\": uniform_variants, \"message\": \"ROZKLAD JEDNOSTAJNY\"}]:\n",
    "  display(dict[\"message\"])\n",
    "  for percentage in dict[\"percentages\"]:\n",
    "    display(percentage);\n",
    "    _df_with_remove = dict[\"percentages\"][percentage]\n",
    "    print_basic_stats(_df_with_remove)\n",
    "  display(\"KONIEC--------------------------------------\")\n",
    "    "
   ]
  },
  {
   "cell_type": "code",
   "execution_count": 12,
   "metadata": {},
   "outputs": [
    {
     "data": {
      "text/plain": "'Prefill danych dla rozkladu normalnego'"
     },
     "metadata": {
      "transient": {}
     },
     "output_type": "display_data"
    },
    {
     "data": {
      "text/plain": "0.0"
     },
     "metadata": {
      "transient": {}
     },
     "output_type": "display_data"
    },
    {
     "data": {
      "text/html": "<div>\n<style scoped>\n    .dataframe tbody tr th:only-of-type {\n        vertical-align: middle;\n    }\n\n    .dataframe tbody tr th {\n        vertical-align: top;\n    }\n\n    .dataframe thead th {\n        text-align: right;\n    }\n</style>\n<table border=\"1\" class=\"dataframe\">\n  <thead>\n    <tr style=\"text-align: right;\">\n      <th></th>\n      <th>n</th>\n      <th>śr. arytm.</th>\n      <th>odch. std</th>\n      <th>mediana</th>\n      <th>min</th>\n      <th>max</th>\n      <th>I kwantyl</th>\n      <th>III kwantyl</th>\n    </tr>\n  </thead>\n  <tbody>\n    <tr>\n      <th>0</th>\n      <td>1000</td>\n      <td>165.859899</td>\n      <td>7.675793</td>\n      <td>165.923853</td>\n      <td>145.113165</td>\n      <td>187.388611</td>\n      <td>160.791239</td>\n      <td>171.056804</td>\n    </tr>\n  </tbody>\n</table>\n</div>",
      "text/plain": "      n  śr. arytm.  odch. std     mediana         min         max  \\\n0  1000  165.859899   7.675793  165.923853  145.113165  187.388611   \n\n    I kwantyl  III kwantyl  \n0  160.791239   171.056804  "
     },
     "metadata": {
      "transient": {}
     },
     "output_type": "display_data"
    },
    {
     "data": {
      "text/plain": "0.1"
     },
     "metadata": {
      "transient": {}
     },
     "output_type": "display_data"
    },
    {
     "data": {
      "text/html": "<div>\n<style scoped>\n    .dataframe tbody tr th:only-of-type {\n        vertical-align: middle;\n    }\n\n    .dataframe tbody tr th {\n        vertical-align: top;\n    }\n\n    .dataframe thead th {\n        text-align: right;\n    }\n</style>\n<table border=\"1\" class=\"dataframe\">\n  <thead>\n    <tr style=\"text-align: right;\">\n      <th></th>\n      <th>n</th>\n      <th>śr. arytm.</th>\n      <th>odch. std</th>\n      <th>mediana</th>\n      <th>min</th>\n      <th>max</th>\n      <th>I kwantyl</th>\n      <th>III kwantyl</th>\n    </tr>\n  </thead>\n  <tbody>\n    <tr>\n      <th>0</th>\n      <td>1000</td>\n      <td>165.697748</td>\n      <td>7.702661</td>\n      <td>165.736226</td>\n      <td>145.113165</td>\n      <td>187.388611</td>\n      <td>160.665866</td>\n      <td>170.817722</td>\n    </tr>\n  </tbody>\n</table>\n</div>",
      "text/plain": "      n  śr. arytm.  odch. std     mediana         min         max  \\\n0  1000  165.697748   7.702661  165.736226  145.113165  187.388611   \n\n    I kwantyl  III kwantyl  \n0  160.665866   170.817722  "
     },
     "metadata": {
      "transient": {}
     },
     "output_type": "display_data"
    },
    {
     "data": {
      "text/plain": "0.2"
     },
     "metadata": {
      "transient": {}
     },
     "output_type": "display_data"
    },
    {
     "data": {
      "text/html": "<div>\n<style scoped>\n    .dataframe tbody tr th:only-of-type {\n        vertical-align: middle;\n    }\n\n    .dataframe tbody tr th {\n        vertical-align: top;\n    }\n\n    .dataframe thead th {\n        text-align: right;\n    }\n</style>\n<table border=\"1\" class=\"dataframe\">\n  <thead>\n    <tr style=\"text-align: right;\">\n      <th></th>\n      <th>n</th>\n      <th>śr. arytm.</th>\n      <th>odch. std</th>\n      <th>mediana</th>\n      <th>min</th>\n      <th>max</th>\n      <th>I kwantyl</th>\n      <th>III kwantyl</th>\n    </tr>\n  </thead>\n  <tbody>\n    <tr>\n      <th>0</th>\n      <td>1000</td>\n      <td>165.86388</td>\n      <td>7.656686</td>\n      <td>165.819267</td>\n      <td>145.113165</td>\n      <td>187.388611</td>\n      <td>160.840468</td>\n      <td>170.969225</td>\n    </tr>\n  </tbody>\n</table>\n</div>",
      "text/plain": "      n  śr. arytm.  odch. std     mediana         min         max  \\\n0  1000   165.86388   7.656686  165.819267  145.113165  187.388611   \n\n    I kwantyl  III kwantyl  \n0  160.840468   170.969225  "
     },
     "metadata": {
      "transient": {}
     },
     "output_type": "display_data"
    },
    {
     "data": {
      "text/plain": "0.3"
     },
     "metadata": {
      "transient": {}
     },
     "output_type": "display_data"
    },
    {
     "data": {
      "text/html": "<div>\n<style scoped>\n    .dataframe tbody tr th:only-of-type {\n        vertical-align: middle;\n    }\n\n    .dataframe tbody tr th {\n        vertical-align: top;\n    }\n\n    .dataframe thead th {\n        text-align: right;\n    }\n</style>\n<table border=\"1\" class=\"dataframe\">\n  <thead>\n    <tr style=\"text-align: right;\">\n      <th></th>\n      <th>n</th>\n      <th>śr. arytm.</th>\n      <th>odch. std</th>\n      <th>mediana</th>\n      <th>min</th>\n      <th>max</th>\n      <th>I kwantyl</th>\n      <th>III kwantyl</th>\n    </tr>\n  </thead>\n  <tbody>\n    <tr>\n      <th>0</th>\n      <td>1000</td>\n      <td>165.835121</td>\n      <td>7.773147</td>\n      <td>165.77688</td>\n      <td>145.113165</td>\n      <td>187.388611</td>\n      <td>160.62938</td>\n      <td>171.056867</td>\n    </tr>\n  </tbody>\n</table>\n</div>",
      "text/plain": "      n  śr. arytm.  odch. std    mediana         min         max  I kwantyl  \\\n0  1000  165.835121   7.773147  165.77688  145.113165  187.388611  160.62938   \n\n   III kwantyl  \n0   171.056867  "
     },
     "metadata": {
      "transient": {}
     },
     "output_type": "display_data"
    },
    {
     "data": {
      "text/plain": "0.4"
     },
     "metadata": {
      "transient": {}
     },
     "output_type": "display_data"
    },
    {
     "data": {
      "text/html": "<div>\n<style scoped>\n    .dataframe tbody tr th:only-of-type {\n        vertical-align: middle;\n    }\n\n    .dataframe tbody tr th {\n        vertical-align: top;\n    }\n\n    .dataframe thead th {\n        text-align: right;\n    }\n</style>\n<table border=\"1\" class=\"dataframe\">\n  <thead>\n    <tr style=\"text-align: right;\">\n      <th></th>\n      <th>n</th>\n      <th>śr. arytm.</th>\n      <th>odch. std</th>\n      <th>mediana</th>\n      <th>min</th>\n      <th>max</th>\n      <th>I kwantyl</th>\n      <th>III kwantyl</th>\n    </tr>\n  </thead>\n  <tbody>\n    <tr>\n      <th>0</th>\n      <td>1000</td>\n      <td>166.081207</td>\n      <td>7.748459</td>\n      <td>165.935882</td>\n      <td>145.113165</td>\n      <td>187.388611</td>\n      <td>160.791239</td>\n      <td>171.454993</td>\n    </tr>\n  </tbody>\n</table>\n</div>",
      "text/plain": "      n  śr. arytm.  odch. std     mediana         min         max  \\\n0  1000  166.081207   7.748459  165.935882  145.113165  187.388611   \n\n    I kwantyl  III kwantyl  \n0  160.791239   171.454993  "
     },
     "metadata": {
      "transient": {}
     },
     "output_type": "display_data"
    },
    {
     "data": {
      "text/plain": "0.5"
     },
     "metadata": {
      "transient": {}
     },
     "output_type": "display_data"
    },
    {
     "data": {
      "text/html": "<div>\n<style scoped>\n    .dataframe tbody tr th:only-of-type {\n        vertical-align: middle;\n    }\n\n    .dataframe tbody tr th {\n        vertical-align: top;\n    }\n\n    .dataframe thead th {\n        text-align: right;\n    }\n</style>\n<table border=\"1\" class=\"dataframe\">\n  <thead>\n    <tr style=\"text-align: right;\">\n      <th></th>\n      <th>n</th>\n      <th>śr. arytm.</th>\n      <th>odch. std</th>\n      <th>mediana</th>\n      <th>min</th>\n      <th>max</th>\n      <th>I kwantyl</th>\n      <th>III kwantyl</th>\n    </tr>\n  </thead>\n  <tbody>\n    <tr>\n      <th>0</th>\n      <td>1000</td>\n      <td>166.126277</td>\n      <td>7.772647</td>\n      <td>166.086782</td>\n      <td>145.113165</td>\n      <td>187.388611</td>\n      <td>160.614945</td>\n      <td>171.585871</td>\n    </tr>\n  </tbody>\n</table>\n</div>",
      "text/plain": "      n  śr. arytm.  odch. std     mediana         min         max  \\\n0  1000  166.126277   7.772647  166.086782  145.113165  187.388611   \n\n    I kwantyl  III kwantyl  \n0  160.614945   171.585871  "
     },
     "metadata": {
      "transient": {}
     },
     "output_type": "display_data"
    },
    {
     "data": {
      "text/plain": "0.6"
     },
     "metadata": {
      "transient": {}
     },
     "output_type": "display_data"
    },
    {
     "data": {
      "text/html": "<div>\n<style scoped>\n    .dataframe tbody tr th:only-of-type {\n        vertical-align: middle;\n    }\n\n    .dataframe tbody tr th {\n        vertical-align: top;\n    }\n\n    .dataframe thead th {\n        text-align: right;\n    }\n</style>\n<table border=\"1\" class=\"dataframe\">\n  <thead>\n    <tr style=\"text-align: right;\">\n      <th></th>\n      <th>n</th>\n      <th>śr. arytm.</th>\n      <th>odch. std</th>\n      <th>mediana</th>\n      <th>min</th>\n      <th>max</th>\n      <th>I kwantyl</th>\n      <th>III kwantyl</th>\n    </tr>\n  </thead>\n  <tbody>\n    <tr>\n      <th>0</th>\n      <td>1000</td>\n      <td>166.046335</td>\n      <td>7.703287</td>\n      <td>165.857429</td>\n      <td>145.113165</td>\n      <td>187.388611</td>\n      <td>160.614945</td>\n      <td>171.374818</td>\n    </tr>\n  </tbody>\n</table>\n</div>",
      "text/plain": "      n  śr. arytm.  odch. std     mediana         min         max  \\\n0  1000  166.046335   7.703287  165.857429  145.113165  187.388611   \n\n    I kwantyl  III kwantyl  \n0  160.614945   171.374818  "
     },
     "metadata": {
      "transient": {}
     },
     "output_type": "display_data"
    },
    {
     "data": {
      "text/plain": "0.7"
     },
     "metadata": {
      "transient": {}
     },
     "output_type": "display_data"
    },
    {
     "data": {
      "text/html": "<div>\n<style scoped>\n    .dataframe tbody tr th:only-of-type {\n        vertical-align: middle;\n    }\n\n    .dataframe tbody tr th {\n        vertical-align: top;\n    }\n\n    .dataframe thead th {\n        text-align: right;\n    }\n</style>\n<table border=\"1\" class=\"dataframe\">\n  <thead>\n    <tr style=\"text-align: right;\">\n      <th></th>\n      <th>n</th>\n      <th>śr. arytm.</th>\n      <th>odch. std</th>\n      <th>mediana</th>\n      <th>min</th>\n      <th>max</th>\n      <th>I kwantyl</th>\n      <th>III kwantyl</th>\n    </tr>\n  </thead>\n  <tbody>\n    <tr>\n      <th>0</th>\n      <td>1000</td>\n      <td>165.830493</td>\n      <td>7.899246</td>\n      <td>165.632825</td>\n      <td>145.113165</td>\n      <td>187.388611</td>\n      <td>160.492167</td>\n      <td>171.351666</td>\n    </tr>\n  </tbody>\n</table>\n</div>",
      "text/plain": "      n  śr. arytm.  odch. std     mediana         min         max  \\\n0  1000  165.830493   7.899246  165.632825  145.113165  187.388611   \n\n    I kwantyl  III kwantyl  \n0  160.492167   171.351666  "
     },
     "metadata": {
      "transient": {}
     },
     "output_type": "display_data"
    },
    {
     "data": {
      "text/plain": "0.8"
     },
     "metadata": {
      "transient": {}
     },
     "output_type": "display_data"
    },
    {
     "data": {
      "text/html": "<div>\n<style scoped>\n    .dataframe tbody tr th:only-of-type {\n        vertical-align: middle;\n    }\n\n    .dataframe tbody tr th {\n        vertical-align: top;\n    }\n\n    .dataframe thead th {\n        text-align: right;\n    }\n</style>\n<table border=\"1\" class=\"dataframe\">\n  <thead>\n    <tr style=\"text-align: right;\">\n      <th></th>\n      <th>n</th>\n      <th>śr. arytm.</th>\n      <th>odch. std</th>\n      <th>mediana</th>\n      <th>min</th>\n      <th>max</th>\n      <th>I kwantyl</th>\n      <th>III kwantyl</th>\n    </tr>\n  </thead>\n  <tbody>\n    <tr>\n      <th>0</th>\n      <td>1000</td>\n      <td>165.721031</td>\n      <td>8.191743</td>\n      <td>165.632825</td>\n      <td>145.113165</td>\n      <td>187.388611</td>\n      <td>160.049372</td>\n      <td>171.505585</td>\n    </tr>\n  </tbody>\n</table>\n</div>",
      "text/plain": "      n  śr. arytm.  odch. std     mediana         min         max  \\\n0  1000  165.721031   8.191743  165.632825  145.113165  187.388611   \n\n    I kwantyl  III kwantyl  \n0  160.049372   171.505585  "
     },
     "metadata": {
      "transient": {}
     },
     "output_type": "display_data"
    },
    {
     "data": {
      "text/plain": "'0.0_uzupelnianie_srednia_arytm'"
     },
     "metadata": {
      "transient": {}
     },
     "output_type": "display_data"
    },
    {
     "data": {
      "text/html": "<div>\n<style scoped>\n    .dataframe tbody tr th:only-of-type {\n        vertical-align: middle;\n    }\n\n    .dataframe tbody tr th {\n        vertical-align: top;\n    }\n\n    .dataframe thead th {\n        text-align: right;\n    }\n</style>\n<table border=\"1\" class=\"dataframe\">\n  <thead>\n    <tr style=\"text-align: right;\">\n      <th></th>\n      <th>n</th>\n      <th>śr. arytm.</th>\n      <th>odch. std</th>\n      <th>mediana</th>\n      <th>min</th>\n      <th>max</th>\n      <th>I kwantyl</th>\n      <th>III kwantyl</th>\n    </tr>\n  </thead>\n  <tbody>\n    <tr>\n      <th>0</th>\n      <td>1000</td>\n      <td>165.859899</td>\n      <td>5.687186e-14</td>\n      <td>165.859899</td>\n      <td>165.859899</td>\n      <td>165.859899</td>\n      <td>165.859899</td>\n      <td>165.859899</td>\n    </tr>\n  </tbody>\n</table>\n</div>",
      "text/plain": "      n  śr. arytm.     odch. std     mediana         min         max  \\\n0  1000  165.859899  5.687186e-14  165.859899  165.859899  165.859899   \n\n    I kwantyl  III kwantyl  \n0  165.859899   165.859899  "
     },
     "metadata": {
      "transient": {}
     },
     "output_type": "display_data"
    },
    {
     "data": {
      "text/plain": "'0.0_uzupelnianie_mediana'"
     },
     "metadata": {
      "transient": {}
     },
     "output_type": "display_data"
    },
    {
     "data": {
      "text/html": "<div>\n<style scoped>\n    .dataframe tbody tr th:only-of-type {\n        vertical-align: middle;\n    }\n\n    .dataframe tbody tr th {\n        vertical-align: top;\n    }\n\n    .dataframe thead th {\n        text-align: right;\n    }\n</style>\n<table border=\"1\" class=\"dataframe\">\n  <thead>\n    <tr style=\"text-align: right;\">\n      <th></th>\n      <th>n</th>\n      <th>śr. arytm.</th>\n      <th>odch. std</th>\n      <th>mediana</th>\n      <th>min</th>\n      <th>max</th>\n      <th>I kwantyl</th>\n      <th>III kwantyl</th>\n    </tr>\n  </thead>\n  <tbody>\n    <tr>\n      <th>0</th>\n      <td>1000</td>\n      <td>165.859899</td>\n      <td>7.675793</td>\n      <td>165.923853</td>\n      <td>145.113165</td>\n      <td>187.388611</td>\n      <td>160.791239</td>\n      <td>171.056804</td>\n    </tr>\n  </tbody>\n</table>\n</div>",
      "text/plain": "      n  śr. arytm.  odch. std     mediana         min         max  \\\n0  1000  165.859899   7.675793  165.923853  145.113165  187.388611   \n\n    I kwantyl  III kwantyl  \n0  160.791239   171.056804  "
     },
     "metadata": {
      "transient": {}
     },
     "output_type": "display_data"
    },
    {
     "data": {
      "text/plain": "'0.0_uzupelnianie_losowa'"
     },
     "metadata": {
      "transient": {}
     },
     "output_type": "display_data"
    },
    {
     "data": {
      "text/html": "<div>\n<style scoped>\n    .dataframe tbody tr th:only-of-type {\n        vertical-align: middle;\n    }\n\n    .dataframe tbody tr th {\n        vertical-align: top;\n    }\n\n    .dataframe thead th {\n        text-align: right;\n    }\n</style>\n<table border=\"1\" class=\"dataframe\">\n  <thead>\n    <tr style=\"text-align: right;\">\n      <th></th>\n      <th>n</th>\n      <th>śr. arytm.</th>\n      <th>odch. std</th>\n      <th>mediana</th>\n      <th>min</th>\n      <th>max</th>\n      <th>I kwantyl</th>\n      <th>III kwantyl</th>\n    </tr>\n  </thead>\n  <tbody>\n    <tr>\n      <th>0</th>\n      <td>1000</td>\n      <td>165.859899</td>\n      <td>7.675793</td>\n      <td>165.923853</td>\n      <td>145.113165</td>\n      <td>187.388611</td>\n      <td>160.791239</td>\n      <td>171.056804</td>\n    </tr>\n  </tbody>\n</table>\n</div>",
      "text/plain": "      n  śr. arytm.  odch. std     mediana         min         max  \\\n0  1000  165.859899   7.675793  165.923853  145.113165  187.388611   \n\n    I kwantyl  III kwantyl  \n0  160.791239   171.056804  "
     },
     "metadata": {
      "transient": {}
     },
     "output_type": "display_data"
    },
    {
     "data": {
      "text/plain": "'0.1_uzupelnianie_srednia_arytm'"
     },
     "metadata": {
      "transient": {}
     },
     "output_type": "display_data"
    },
    {
     "data": {
      "text/html": "<div>\n<style scoped>\n    .dataframe tbody tr th:only-of-type {\n        vertical-align: middle;\n    }\n\n    .dataframe tbody tr th {\n        vertical-align: top;\n    }\n\n    .dataframe thead th {\n        text-align: right;\n    }\n</style>\n<table border=\"1\" class=\"dataframe\">\n  <thead>\n    <tr style=\"text-align: right;\">\n      <th></th>\n      <th>n</th>\n      <th>śr. arytm.</th>\n      <th>odch. std</th>\n      <th>mediana</th>\n      <th>min</th>\n      <th>max</th>\n      <th>I kwantyl</th>\n      <th>III kwantyl</th>\n    </tr>\n  </thead>\n  <tbody>\n    <tr>\n      <th>0</th>\n      <td>1000</td>\n      <td>165.697748</td>\n      <td>0.0</td>\n      <td>165.697748</td>\n      <td>165.697748</td>\n      <td>165.697748</td>\n      <td>165.697748</td>\n      <td>165.697748</td>\n    </tr>\n  </tbody>\n</table>\n</div>",
      "text/plain": "      n  śr. arytm.  odch. std     mediana         min         max  \\\n0  1000  165.697748        0.0  165.697748  165.697748  165.697748   \n\n    I kwantyl  III kwantyl  \n0  165.697748   165.697748  "
     },
     "metadata": {
      "transient": {}
     },
     "output_type": "display_data"
    },
    {
     "data": {
      "text/plain": "'0.1_uzupelnianie_mediana'"
     },
     "metadata": {
      "transient": {}
     },
     "output_type": "display_data"
    },
    {
     "data": {
      "text/html": "<div>\n<style scoped>\n    .dataframe tbody tr th:only-of-type {\n        vertical-align: middle;\n    }\n\n    .dataframe tbody tr th {\n        vertical-align: top;\n    }\n\n    .dataframe thead th {\n        text-align: right;\n    }\n</style>\n<table border=\"1\" class=\"dataframe\">\n  <thead>\n    <tr style=\"text-align: right;\">\n      <th></th>\n      <th>n</th>\n      <th>śr. arytm.</th>\n      <th>odch. std</th>\n      <th>mediana</th>\n      <th>min</th>\n      <th>max</th>\n      <th>I kwantyl</th>\n      <th>III kwantyl</th>\n    </tr>\n  </thead>\n  <tbody>\n    <tr>\n      <th>0</th>\n      <td>1000</td>\n      <td>165.701596</td>\n      <td>7.306989</td>\n      <td>165.736226</td>\n      <td>145.113165</td>\n      <td>187.388611</td>\n      <td>161.148377</td>\n      <td>170.208197</td>\n    </tr>\n  </tbody>\n</table>\n</div>",
      "text/plain": "      n  śr. arytm.  odch. std     mediana         min         max  \\\n0  1000  165.701596   7.306989  165.736226  145.113165  187.388611   \n\n    I kwantyl  III kwantyl  \n0  161.148377   170.208197  "
     },
     "metadata": {
      "transient": {}
     },
     "output_type": "display_data"
    },
    {
     "data": {
      "text/plain": "'0.1_uzupelnianie_losowa'"
     },
     "metadata": {
      "transient": {}
     },
     "output_type": "display_data"
    },
    {
     "data": {
      "text/html": "<div>\n<style scoped>\n    .dataframe tbody tr th:only-of-type {\n        vertical-align: middle;\n    }\n\n    .dataframe tbody tr th {\n        vertical-align: top;\n    }\n\n    .dataframe thead th {\n        text-align: right;\n    }\n</style>\n<table border=\"1\" class=\"dataframe\">\n  <thead>\n    <tr style=\"text-align: right;\">\n      <th></th>\n      <th>n</th>\n      <th>śr. arytm.</th>\n      <th>odch. std</th>\n      <th>mediana</th>\n      <th>min</th>\n      <th>max</th>\n      <th>I kwantyl</th>\n      <th>III kwantyl</th>\n    </tr>\n  </thead>\n  <tbody>\n    <tr>\n      <th>0</th>\n      <td>1000</td>\n      <td>164.327973</td>\n      <td>8.384235</td>\n      <td>164.616603</td>\n      <td>145.113165</td>\n      <td>187.388611</td>\n      <td>158.052191</td>\n      <td>170.208197</td>\n    </tr>\n  </tbody>\n</table>\n</div>",
      "text/plain": "      n  śr. arytm.  odch. std     mediana         min         max  \\\n0  1000  164.327973   8.384235  164.616603  145.113165  187.388611   \n\n    I kwantyl  III kwantyl  \n0  158.052191   170.208197  "
     },
     "metadata": {
      "transient": {}
     },
     "output_type": "display_data"
    },
    {
     "data": {
      "text/plain": "'0.2_uzupelnianie_srednia_arytm'"
     },
     "metadata": {
      "transient": {}
     },
     "output_type": "display_data"
    },
    {
     "data": {
      "text/html": "<div>\n<style scoped>\n    .dataframe tbody tr th:only-of-type {\n        vertical-align: middle;\n    }\n\n    .dataframe tbody tr th {\n        vertical-align: top;\n    }\n\n    .dataframe thead th {\n        text-align: right;\n    }\n</style>\n<table border=\"1\" class=\"dataframe\">\n  <thead>\n    <tr style=\"text-align: right;\">\n      <th></th>\n      <th>n</th>\n      <th>śr. arytm.</th>\n      <th>odch. std</th>\n      <th>mediana</th>\n      <th>min</th>\n      <th>max</th>\n      <th>I kwantyl</th>\n      <th>III kwantyl</th>\n    </tr>\n  </thead>\n  <tbody>\n    <tr>\n      <th>0</th>\n      <td>1000</td>\n      <td>165.86388</td>\n      <td>0.0</td>\n      <td>165.86388</td>\n      <td>165.86388</td>\n      <td>165.86388</td>\n      <td>165.86388</td>\n      <td>165.86388</td>\n    </tr>\n  </tbody>\n</table>\n</div>",
      "text/plain": "      n  śr. arytm.  odch. std    mediana        min        max  I kwantyl  \\\n0  1000   165.86388        0.0  165.86388  165.86388  165.86388  165.86388   \n\n   III kwantyl  \n0    165.86388  "
     },
     "metadata": {
      "transient": {}
     },
     "output_type": "display_data"
    },
    {
     "data": {
      "text/plain": "'0.2_uzupelnianie_mediana'"
     },
     "metadata": {
      "transient": {}
     },
     "output_type": "display_data"
    },
    {
     "data": {
      "text/html": "<div>\n<style scoped>\n    .dataframe tbody tr th:only-of-type {\n        vertical-align: middle;\n    }\n\n    .dataframe tbody tr th {\n        vertical-align: top;\n    }\n\n    .dataframe thead th {\n        text-align: right;\n    }\n</style>\n<table border=\"1\" class=\"dataframe\">\n  <thead>\n    <tr style=\"text-align: right;\">\n      <th></th>\n      <th>n</th>\n      <th>śr. arytm.</th>\n      <th>odch. std</th>\n      <th>mediana</th>\n      <th>min</th>\n      <th>max</th>\n      <th>I kwantyl</th>\n      <th>III kwantyl</th>\n    </tr>\n  </thead>\n  <tbody>\n    <tr>\n      <th>0</th>\n      <td>1000</td>\n      <td>165.854957</td>\n      <td>6.847514</td>\n      <td>165.819267</td>\n      <td>145.113165</td>\n      <td>187.388611</td>\n      <td>162.47023</td>\n      <td>169.158086</td>\n    </tr>\n  </tbody>\n</table>\n</div>",
      "text/plain": "      n  śr. arytm.  odch. std     mediana         min         max  I kwantyl  \\\n0  1000  165.854957   6.847514  165.819267  145.113165  187.388611  162.47023   \n\n   III kwantyl  \n0   169.158086  "
     },
     "metadata": {
      "transient": {}
     },
     "output_type": "display_data"
    },
    {
     "data": {
      "text/plain": "'0.2_uzupelnianie_losowa'"
     },
     "metadata": {
      "transient": {}
     },
     "output_type": "display_data"
    },
    {
     "data": {
      "text/html": "<div>\n<style scoped>\n    .dataframe tbody tr th:only-of-type {\n        vertical-align: middle;\n    }\n\n    .dataframe tbody tr th {\n        vertical-align: top;\n    }\n\n    .dataframe thead th {\n        text-align: right;\n    }\n</style>\n<table border=\"1\" class=\"dataframe\">\n  <thead>\n    <tr style=\"text-align: right;\">\n      <th></th>\n      <th>n</th>\n      <th>śr. arytm.</th>\n      <th>odch. std</th>\n      <th>mediana</th>\n      <th>min</th>\n      <th>max</th>\n      <th>I kwantyl</th>\n      <th>III kwantyl</th>\n    </tr>\n  </thead>\n  <tbody>\n    <tr>\n      <th>0</th>\n      <td>1000</td>\n      <td>167.291104</td>\n      <td>7.419175</td>\n      <td>168.19399</td>\n      <td>145.113165</td>\n      <td>187.388611</td>\n      <td>162.47023</td>\n      <td>173.0</td>\n    </tr>\n  </tbody>\n</table>\n</div>",
      "text/plain": "      n  śr. arytm.  odch. std    mediana         min         max  I kwantyl  \\\n0  1000  167.291104   7.419175  168.19399  145.113165  187.388611  162.47023   \n\n   III kwantyl  \n0        173.0  "
     },
     "metadata": {
      "transient": {}
     },
     "output_type": "display_data"
    },
    {
     "data": {
      "text/plain": "'0.3_uzupelnianie_srednia_arytm'"
     },
     "metadata": {
      "transient": {}
     },
     "output_type": "display_data"
    },
    {
     "data": {
      "text/html": "<div>\n<style scoped>\n    .dataframe tbody tr th:only-of-type {\n        vertical-align: middle;\n    }\n\n    .dataframe tbody tr th {\n        vertical-align: top;\n    }\n\n    .dataframe thead th {\n        text-align: right;\n    }\n</style>\n<table border=\"1\" class=\"dataframe\">\n  <thead>\n    <tr style=\"text-align: right;\">\n      <th></th>\n      <th>n</th>\n      <th>śr. arytm.</th>\n      <th>odch. std</th>\n      <th>mediana</th>\n      <th>min</th>\n      <th>max</th>\n      <th>I kwantyl</th>\n      <th>III kwantyl</th>\n    </tr>\n  </thead>\n  <tbody>\n    <tr>\n      <th>0</th>\n      <td>1000</td>\n      <td>165.835121</td>\n      <td>5.687186e-14</td>\n      <td>165.835121</td>\n      <td>165.835121</td>\n      <td>165.835121</td>\n      <td>165.835121</td>\n      <td>165.835121</td>\n    </tr>\n  </tbody>\n</table>\n</div>",
      "text/plain": "      n  śr. arytm.     odch. std     mediana         min         max  \\\n0  1000  165.835121  5.687186e-14  165.835121  165.835121  165.835121   \n\n    I kwantyl  III kwantyl  \n0  165.835121   165.835121  "
     },
     "metadata": {
      "transient": {}
     },
     "output_type": "display_data"
    },
    {
     "data": {
      "text/plain": "'0.3_uzupelnianie_mediana'"
     },
     "metadata": {
      "transient": {}
     },
     "output_type": "display_data"
    },
    {
     "data": {
      "text/html": "<div>\n<style scoped>\n    .dataframe tbody tr th:only-of-type {\n        vertical-align: middle;\n    }\n\n    .dataframe tbody tr th {\n        vertical-align: top;\n    }\n\n    .dataframe thead th {\n        text-align: right;\n    }\n</style>\n<table border=\"1\" class=\"dataframe\">\n  <thead>\n    <tr style=\"text-align: right;\">\n      <th></th>\n      <th>n</th>\n      <th>śr. arytm.</th>\n      <th>odch. std</th>\n      <th>mediana</th>\n      <th>min</th>\n      <th>max</th>\n      <th>I kwantyl</th>\n      <th>III kwantyl</th>\n    </tr>\n  </thead>\n  <tbody>\n    <tr>\n      <th>0</th>\n      <td>1000</td>\n      <td>165.817649</td>\n      <td>6.502141</td>\n      <td>165.77688</td>\n      <td>145.113165</td>\n      <td>187.388611</td>\n      <td>163.045133</td>\n      <td>168.415793</td>\n    </tr>\n  </tbody>\n</table>\n</div>",
      "text/plain": "      n  śr. arytm.  odch. std    mediana         min         max   I kwantyl  \\\n0  1000  165.817649   6.502141  165.77688  145.113165  187.388611  163.045133   \n\n   III kwantyl  \n0   168.415793  "
     },
     "metadata": {
      "transient": {}
     },
     "output_type": "display_data"
    },
    {
     "data": {
      "text/plain": "'0.3_uzupelnianie_losowa'"
     },
     "metadata": {
      "transient": {}
     },
     "output_type": "display_data"
    },
    {
     "data": {
      "text/html": "<div>\n<style scoped>\n    .dataframe tbody tr th:only-of-type {\n        vertical-align: middle;\n    }\n\n    .dataframe tbody tr th {\n        vertical-align: top;\n    }\n\n    .dataframe thead th {\n        text-align: right;\n    }\n</style>\n<table border=\"1\" class=\"dataframe\">\n  <thead>\n    <tr style=\"text-align: right;\">\n      <th></th>\n      <th>n</th>\n      <th>śr. arytm.</th>\n      <th>odch. std</th>\n      <th>mediana</th>\n      <th>min</th>\n      <th>max</th>\n      <th>I kwantyl</th>\n      <th>III kwantyl</th>\n    </tr>\n  </thead>\n  <tbody>\n    <tr>\n      <th>0</th>\n      <td>1000</td>\n      <td>167.684585</td>\n      <td>7.089874</td>\n      <td>170.048731</td>\n      <td>145.113165</td>\n      <td>187.388611</td>\n      <td>163.045133</td>\n      <td>172.0</td>\n    </tr>\n  </tbody>\n</table>\n</div>",
      "text/plain": "      n  śr. arytm.  odch. std     mediana         min         max  \\\n0  1000  167.684585   7.089874  170.048731  145.113165  187.388611   \n\n    I kwantyl  III kwantyl  \n0  163.045133        172.0  "
     },
     "metadata": {
      "transient": {}
     },
     "output_type": "display_data"
    },
    {
     "data": {
      "text/plain": "'0.4_uzupelnianie_srednia_arytm'"
     },
     "metadata": {
      "transient": {}
     },
     "output_type": "display_data"
    },
    {
     "data": {
      "text/html": "<div>\n<style scoped>\n    .dataframe tbody tr th:only-of-type {\n        vertical-align: middle;\n    }\n\n    .dataframe tbody tr th {\n        vertical-align: top;\n    }\n\n    .dataframe thead th {\n        text-align: right;\n    }\n</style>\n<table border=\"1\" class=\"dataframe\">\n  <thead>\n    <tr style=\"text-align: right;\">\n      <th></th>\n      <th>n</th>\n      <th>śr. arytm.</th>\n      <th>odch. std</th>\n      <th>mediana</th>\n      <th>min</th>\n      <th>max</th>\n      <th>I kwantyl</th>\n      <th>III kwantyl</th>\n    </tr>\n  </thead>\n  <tbody>\n    <tr>\n      <th>0</th>\n      <td>1000</td>\n      <td>166.081207</td>\n      <td>0.0</td>\n      <td>166.081207</td>\n      <td>166.081207</td>\n      <td>166.081207</td>\n      <td>166.081207</td>\n      <td>166.081207</td>\n    </tr>\n  </tbody>\n</table>\n</div>",
      "text/plain": "      n  śr. arytm.  odch. std     mediana         min         max  \\\n0  1000  166.081207        0.0  166.081207  166.081207  166.081207   \n\n    I kwantyl  III kwantyl  \n0  166.081207   166.081207  "
     },
     "metadata": {
      "transient": {}
     },
     "output_type": "display_data"
    },
    {
     "data": {
      "text/plain": "'0.4_uzupelnianie_mediana'"
     },
     "metadata": {
      "transient": {}
     },
     "output_type": "display_data"
    },
    {
     "data": {
      "text/html": "<div>\n<style scoped>\n    .dataframe tbody tr th:only-of-type {\n        vertical-align: middle;\n    }\n\n    .dataframe tbody tr th {\n        vertical-align: top;\n    }\n\n    .dataframe thead th {\n        text-align: right;\n    }\n</style>\n<table border=\"1\" class=\"dataframe\">\n  <thead>\n    <tr style=\"text-align: right;\">\n      <th></th>\n      <th>n</th>\n      <th>śr. arytm.</th>\n      <th>odch. std</th>\n      <th>mediana</th>\n      <th>min</th>\n      <th>max</th>\n      <th>I kwantyl</th>\n      <th>III kwantyl</th>\n    </tr>\n  </thead>\n  <tbody>\n    <tr>\n      <th>0</th>\n      <td>1000</td>\n      <td>166.023077</td>\n      <td>6.000351</td>\n      <td>165.935882</td>\n      <td>145.113165</td>\n      <td>187.388611</td>\n      <td>164.524015</td>\n      <td>167.469676</td>\n    </tr>\n  </tbody>\n</table>\n</div>",
      "text/plain": "      n  śr. arytm.  odch. std     mediana         min         max  \\\n0  1000  166.023077   6.000351  165.935882  145.113165  187.388611   \n\n    I kwantyl  III kwantyl  \n0  164.524015   167.469676  "
     },
     "metadata": {
      "transient": {}
     },
     "output_type": "display_data"
    },
    {
     "data": {
      "text/plain": "'0.4_uzupelnianie_losowa'"
     },
     "metadata": {
      "transient": {}
     },
     "output_type": "display_data"
    },
    {
     "data": {
      "text/html": "<div>\n<style scoped>\n    .dataframe tbody tr th:only-of-type {\n        vertical-align: middle;\n    }\n\n    .dataframe tbody tr th {\n        vertical-align: top;\n    }\n\n    .dataframe thead th {\n        text-align: right;\n    }\n</style>\n<table border=\"1\" class=\"dataframe\">\n  <thead>\n    <tr style=\"text-align: right;\">\n      <th></th>\n      <th>n</th>\n      <th>śr. arytm.</th>\n      <th>odch. std</th>\n      <th>mediana</th>\n      <th>min</th>\n      <th>max</th>\n      <th>I kwantyl</th>\n      <th>III kwantyl</th>\n    </tr>\n  </thead>\n  <tbody>\n    <tr>\n      <th>0</th>\n      <td>1000</td>\n      <td>164.048724</td>\n      <td>6.496292</td>\n      <td>161.0</td>\n      <td>145.113165</td>\n      <td>187.388611</td>\n      <td>161.0</td>\n      <td>167.469676</td>\n    </tr>\n  </tbody>\n</table>\n</div>",
      "text/plain": "      n  śr. arytm.  odch. std  mediana         min         max  I kwantyl  \\\n0  1000  164.048724   6.496292    161.0  145.113165  187.388611      161.0   \n\n   III kwantyl  \n0   167.469676  "
     },
     "metadata": {
      "transient": {}
     },
     "output_type": "display_data"
    },
    {
     "data": {
      "text/plain": "'0.5_uzupelnianie_srednia_arytm'"
     },
     "metadata": {
      "transient": {}
     },
     "output_type": "display_data"
    },
    {
     "data": {
      "text/html": "<div>\n<style scoped>\n    .dataframe tbody tr th:only-of-type {\n        vertical-align: middle;\n    }\n\n    .dataframe tbody tr th {\n        vertical-align: top;\n    }\n\n    .dataframe thead th {\n        text-align: right;\n    }\n</style>\n<table border=\"1\" class=\"dataframe\">\n  <thead>\n    <tr style=\"text-align: right;\">\n      <th></th>\n      <th>n</th>\n      <th>śr. arytm.</th>\n      <th>odch. std</th>\n      <th>mediana</th>\n      <th>min</th>\n      <th>max</th>\n      <th>I kwantyl</th>\n      <th>III kwantyl</th>\n    </tr>\n  </thead>\n  <tbody>\n    <tr>\n      <th>0</th>\n      <td>1000</td>\n      <td>166.126277</td>\n      <td>2.843593e-14</td>\n      <td>166.126277</td>\n      <td>166.126277</td>\n      <td>166.126277</td>\n      <td>166.126277</td>\n      <td>166.126277</td>\n    </tr>\n  </tbody>\n</table>\n</div>",
      "text/plain": "      n  śr. arytm.     odch. std     mediana         min         max  \\\n0  1000  166.126277  2.843593e-14  166.126277  166.126277  166.126277   \n\n    I kwantyl  III kwantyl  \n0  166.126277   166.126277  "
     },
     "metadata": {
      "transient": {}
     },
     "output_type": "display_data"
    },
    {
     "data": {
      "text/plain": "'0.5_uzupelnianie_mediana'"
     },
     "metadata": {
      "transient": {}
     },
     "output_type": "display_data"
    },
    {
     "data": {
      "text/html": "<div>\n<style scoped>\n    .dataframe tbody tr th:only-of-type {\n        vertical-align: middle;\n    }\n\n    .dataframe tbody tr th {\n        vertical-align: top;\n    }\n\n    .dataframe thead th {\n        text-align: right;\n    }\n</style>\n<table border=\"1\" class=\"dataframe\">\n  <thead>\n    <tr style=\"text-align: right;\">\n      <th></th>\n      <th>n</th>\n      <th>śr. arytm.</th>\n      <th>odch. std</th>\n      <th>mediana</th>\n      <th>min</th>\n      <th>max</th>\n      <th>I kwantyl</th>\n      <th>III kwantyl</th>\n    </tr>\n  </thead>\n  <tbody>\n    <tr>\n      <th>0</th>\n      <td>1000</td>\n      <td>166.106529</td>\n      <td>5.493376</td>\n      <td>166.086782</td>\n      <td>145.113165</td>\n      <td>187.388611</td>\n      <td>166.081615</td>\n      <td>166.091949</td>\n    </tr>\n  </tbody>\n</table>\n</div>",
      "text/plain": "      n  śr. arytm.  odch. std     mediana         min         max  \\\n0  1000  166.106529   5.493376  166.086782  145.113165  187.388611   \n\n    I kwantyl  III kwantyl  \n0  166.081615   166.091949  "
     },
     "metadata": {
      "transient": {}
     },
     "output_type": "display_data"
    },
    {
     "data": {
      "text/plain": "'0.5_uzupelnianie_losowa'"
     },
     "metadata": {
      "transient": {}
     },
     "output_type": "display_data"
    },
    {
     "data": {
      "text/html": "<div>\n<style scoped>\n    .dataframe tbody tr th:only-of-type {\n        vertical-align: middle;\n    }\n\n    .dataframe tbody tr th {\n        vertical-align: top;\n    }\n\n    .dataframe thead th {\n        text-align: right;\n    }\n</style>\n<table border=\"1\" class=\"dataframe\">\n  <thead>\n    <tr style=\"text-align: right;\">\n      <th></th>\n      <th>n</th>\n      <th>śr. arytm.</th>\n      <th>odch. std</th>\n      <th>mediana</th>\n      <th>min</th>\n      <th>max</th>\n      <th>I kwantyl</th>\n      <th>III kwantyl</th>\n    </tr>\n  </thead>\n  <tbody>\n    <tr>\n      <th>0</th>\n      <td>1000</td>\n      <td>175.063138</td>\n      <td>10.494009</td>\n      <td>184.0</td>\n      <td>145.113165</td>\n      <td>187.388611</td>\n      <td>166.097116</td>\n      <td>184.0</td>\n    </tr>\n  </tbody>\n</table>\n</div>",
      "text/plain": "      n  śr. arytm.  odch. std  mediana         min         max   I kwantyl  \\\n0  1000  175.063138  10.494009    184.0  145.113165  187.388611  166.097116   \n\n   III kwantyl  \n0        184.0  "
     },
     "metadata": {
      "transient": {}
     },
     "output_type": "display_data"
    },
    {
     "data": {
      "text/plain": "'0.6_uzupelnianie_srednia_arytm'"
     },
     "metadata": {
      "transient": {}
     },
     "output_type": "display_data"
    },
    {
     "data": {
      "text/html": "<div>\n<style scoped>\n    .dataframe tbody tr th:only-of-type {\n        vertical-align: middle;\n    }\n\n    .dataframe tbody tr th {\n        vertical-align: top;\n    }\n\n    .dataframe thead th {\n        text-align: right;\n    }\n</style>\n<table border=\"1\" class=\"dataframe\">\n  <thead>\n    <tr style=\"text-align: right;\">\n      <th></th>\n      <th>n</th>\n      <th>śr. arytm.</th>\n      <th>odch. std</th>\n      <th>mediana</th>\n      <th>min</th>\n      <th>max</th>\n      <th>I kwantyl</th>\n      <th>III kwantyl</th>\n    </tr>\n  </thead>\n  <tbody>\n    <tr>\n      <th>0</th>\n      <td>1000</td>\n      <td>166.046335</td>\n      <td>5.687186e-14</td>\n      <td>166.046335</td>\n      <td>166.046335</td>\n      <td>166.046335</td>\n      <td>166.046335</td>\n      <td>166.046335</td>\n    </tr>\n  </tbody>\n</table>\n</div>",
      "text/plain": "      n  śr. arytm.     odch. std     mediana         min         max  \\\n0  1000  166.046335  5.687186e-14  166.046335  166.046335  166.046335   \n\n    I kwantyl  III kwantyl  \n0  166.046335   166.046335  "
     },
     "metadata": {
      "transient": {}
     },
     "output_type": "display_data"
    },
    {
     "data": {
      "text/plain": "'0.6_uzupelnianie_mediana'"
     },
     "metadata": {
      "transient": {}
     },
     "output_type": "display_data"
    },
    {
     "data": {
      "text/html": "<div>\n<style scoped>\n    .dataframe tbody tr th:only-of-type {\n        vertical-align: middle;\n    }\n\n    .dataframe tbody tr th {\n        vertical-align: top;\n    }\n\n    .dataframe thead th {\n        text-align: right;\n    }\n</style>\n<table border=\"1\" class=\"dataframe\">\n  <thead>\n    <tr style=\"text-align: right;\">\n      <th></th>\n      <th>n</th>\n      <th>śr. arytm.</th>\n      <th>odch. std</th>\n      <th>mediana</th>\n      <th>min</th>\n      <th>max</th>\n      <th>I kwantyl</th>\n      <th>III kwantyl</th>\n    </tr>\n  </thead>\n  <tbody>\n    <tr>\n      <th>0</th>\n      <td>1000</td>\n      <td>165.932991</td>\n      <td>4.869208</td>\n      <td>165.857429</td>\n      <td>145.113165</td>\n      <td>187.388611</td>\n      <td>165.857429</td>\n      <td>165.857429</td>\n    </tr>\n  </tbody>\n</table>\n</div>",
      "text/plain": "      n  śr. arytm.  odch. std     mediana         min         max  \\\n0  1000  165.932991   4.869208  165.857429  145.113165  187.388611   \n\n    I kwantyl  III kwantyl  \n0  165.857429   165.857429  "
     },
     "metadata": {
      "transient": {}
     },
     "output_type": "display_data"
    },
    {
     "data": {
      "text/plain": "'0.6_uzupelnianie_losowa'"
     },
     "metadata": {
      "transient": {}
     },
     "output_type": "display_data"
    },
    {
     "data": {
      "text/html": "<div>\n<style scoped>\n    .dataframe tbody tr th:only-of-type {\n        vertical-align: middle;\n    }\n\n    .dataframe tbody tr th {\n        vertical-align: top;\n    }\n\n    .dataframe thead th {\n        text-align: right;\n    }\n</style>\n<table border=\"1\" class=\"dataframe\">\n  <thead>\n    <tr style=\"text-align: right;\">\n      <th></th>\n      <th>n</th>\n      <th>śr. arytm.</th>\n      <th>odch. std</th>\n      <th>mediana</th>\n      <th>min</th>\n      <th>max</th>\n      <th>I kwantyl</th>\n      <th>III kwantyl</th>\n    </tr>\n  </thead>\n  <tbody>\n    <tr>\n      <th>0</th>\n      <td>1000</td>\n      <td>167.818534</td>\n      <td>5.079026</td>\n      <td>169.0</td>\n      <td>145.113165</td>\n      <td>187.388611</td>\n      <td>168.373976</td>\n      <td>169.0</td>\n    </tr>\n  </tbody>\n</table>\n</div>",
      "text/plain": "      n  śr. arytm.  odch. std  mediana         min         max   I kwantyl  \\\n0  1000  167.818534   5.079026    169.0  145.113165  187.388611  168.373976   \n\n   III kwantyl  \n0        169.0  "
     },
     "metadata": {
      "transient": {}
     },
     "output_type": "display_data"
    },
    {
     "data": {
      "text/plain": "'0.7_uzupelnianie_srednia_arytm'"
     },
     "metadata": {
      "transient": {}
     },
     "output_type": "display_data"
    },
    {
     "data": {
      "text/html": "<div>\n<style scoped>\n    .dataframe tbody tr th:only-of-type {\n        vertical-align: middle;\n    }\n\n    .dataframe tbody tr th {\n        vertical-align: top;\n    }\n\n    .dataframe thead th {\n        text-align: right;\n    }\n</style>\n<table border=\"1\" class=\"dataframe\">\n  <thead>\n    <tr style=\"text-align: right;\">\n      <th></th>\n      <th>n</th>\n      <th>śr. arytm.</th>\n      <th>odch. std</th>\n      <th>mediana</th>\n      <th>min</th>\n      <th>max</th>\n      <th>I kwantyl</th>\n      <th>III kwantyl</th>\n    </tr>\n  </thead>\n  <tbody>\n    <tr>\n      <th>0</th>\n      <td>1000</td>\n      <td>165.830493</td>\n      <td>2.843593e-14</td>\n      <td>165.830493</td>\n      <td>165.830493</td>\n      <td>165.830493</td>\n      <td>165.830493</td>\n      <td>165.830493</td>\n    </tr>\n  </tbody>\n</table>\n</div>",
      "text/plain": "      n  śr. arytm.     odch. std     mediana         min         max  \\\n0  1000  165.830493  2.843593e-14  165.830493  165.830493  165.830493   \n\n    I kwantyl  III kwantyl  \n0  165.830493   165.830493  "
     },
     "metadata": {
      "transient": {}
     },
     "output_type": "display_data"
    },
    {
     "data": {
      "text/plain": "'0.7_uzupelnianie_mediana'"
     },
     "metadata": {
      "transient": {}
     },
     "output_type": "display_data"
    },
    {
     "data": {
      "text/html": "<div>\n<style scoped>\n    .dataframe tbody tr th:only-of-type {\n        vertical-align: middle;\n    }\n\n    .dataframe tbody tr th {\n        vertical-align: top;\n    }\n\n    .dataframe thead th {\n        text-align: right;\n    }\n</style>\n<table border=\"1\" class=\"dataframe\">\n  <thead>\n    <tr style=\"text-align: right;\">\n      <th></th>\n      <th>n</th>\n      <th>śr. arytm.</th>\n      <th>odch. std</th>\n      <th>mediana</th>\n      <th>min</th>\n      <th>max</th>\n      <th>I kwantyl</th>\n      <th>III kwantyl</th>\n    </tr>\n  </thead>\n  <tbody>\n    <tr>\n      <th>0</th>\n      <td>1000</td>\n      <td>165.692125</td>\n      <td>4.32249</td>\n      <td>165.632825</td>\n      <td>145.113165</td>\n      <td>187.388611</td>\n      <td>165.632825</td>\n      <td>165.632825</td>\n    </tr>\n  </tbody>\n</table>\n</div>",
      "text/plain": "      n  śr. arytm.  odch. std     mediana         min         max  \\\n0  1000  165.692125    4.32249  165.632825  145.113165  187.388611   \n\n    I kwantyl  III kwantyl  \n0  165.632825   165.632825  "
     },
     "metadata": {
      "transient": {}
     },
     "output_type": "display_data"
    },
    {
     "data": {
      "text/plain": "'0.7_uzupelnianie_losowa'"
     },
     "metadata": {
      "transient": {}
     },
     "output_type": "display_data"
    },
    {
     "data": {
      "text/html": "<div>\n<style scoped>\n    .dataframe tbody tr th:only-of-type {\n        vertical-align: middle;\n    }\n\n    .dataframe tbody tr th {\n        vertical-align: top;\n    }\n\n    .dataframe thead th {\n        text-align: right;\n    }\n</style>\n<table border=\"1\" class=\"dataframe\">\n  <thead>\n    <tr style=\"text-align: right;\">\n      <th></th>\n      <th>n</th>\n      <th>śr. arytm.</th>\n      <th>odch. std</th>\n      <th>mediana</th>\n      <th>min</th>\n      <th>max</th>\n      <th>I kwantyl</th>\n      <th>III kwantyl</th>\n    </tr>\n  </thead>\n  <tbody>\n    <tr>\n      <th>0</th>\n      <td>1000</td>\n      <td>157.549148</td>\n      <td>6.935189</td>\n      <td>154.0</td>\n      <td>145.113165</td>\n      <td>187.388611</td>\n      <td>154.0</td>\n      <td>158.574058</td>\n    </tr>\n  </tbody>\n</table>\n</div>",
      "text/plain": "      n  śr. arytm.  odch. std  mediana         min         max  I kwantyl  \\\n0  1000  157.549148   6.935189    154.0  145.113165  187.388611      154.0   \n\n   III kwantyl  \n0   158.574058  "
     },
     "metadata": {
      "transient": {}
     },
     "output_type": "display_data"
    },
    {
     "data": {
      "text/plain": "'0.8_uzupelnianie_srednia_arytm'"
     },
     "metadata": {
      "transient": {}
     },
     "output_type": "display_data"
    },
    {
     "data": {
      "text/html": "<div>\n<style scoped>\n    .dataframe tbody tr th:only-of-type {\n        vertical-align: middle;\n    }\n\n    .dataframe tbody tr th {\n        vertical-align: top;\n    }\n\n    .dataframe thead th {\n        text-align: right;\n    }\n</style>\n<table border=\"1\" class=\"dataframe\">\n  <thead>\n    <tr style=\"text-align: right;\">\n      <th></th>\n      <th>n</th>\n      <th>śr. arytm.</th>\n      <th>odch. std</th>\n      <th>mediana</th>\n      <th>min</th>\n      <th>max</th>\n      <th>I kwantyl</th>\n      <th>III kwantyl</th>\n    </tr>\n  </thead>\n  <tbody>\n    <tr>\n      <th>0</th>\n      <td>1000</td>\n      <td>165.721031</td>\n      <td>0.0</td>\n      <td>165.721031</td>\n      <td>165.721031</td>\n      <td>165.721031</td>\n      <td>165.721031</td>\n      <td>165.721031</td>\n    </tr>\n  </tbody>\n</table>\n</div>",
      "text/plain": "      n  śr. arytm.  odch. std     mediana         min         max  \\\n0  1000  165.721031        0.0  165.721031  165.721031  165.721031   \n\n    I kwantyl  III kwantyl  \n0  165.721031   165.721031  "
     },
     "metadata": {
      "transient": {}
     },
     "output_type": "display_data"
    },
    {
     "data": {
      "text/plain": "'0.8_uzupelnianie_mediana'"
     },
     "metadata": {
      "transient": {}
     },
     "output_type": "display_data"
    },
    {
     "data": {
      "text/html": "<div>\n<style scoped>\n    .dataframe tbody tr th:only-of-type {\n        vertical-align: middle;\n    }\n\n    .dataframe tbody tr th {\n        vertical-align: top;\n    }\n\n    .dataframe thead th {\n        text-align: right;\n    }\n</style>\n<table border=\"1\" class=\"dataframe\">\n  <thead>\n    <tr style=\"text-align: right;\">\n      <th></th>\n      <th>n</th>\n      <th>śr. arytm.</th>\n      <th>odch. std</th>\n      <th>mediana</th>\n      <th>min</th>\n      <th>max</th>\n      <th>I kwantyl</th>\n      <th>III kwantyl</th>\n    </tr>\n  </thead>\n  <tbody>\n    <tr>\n      <th>0</th>\n      <td>1000</td>\n      <td>165.650466</td>\n      <td>3.656288</td>\n      <td>165.632825</td>\n      <td>145.113165</td>\n      <td>187.388611</td>\n      <td>165.632825</td>\n      <td>165.632825</td>\n    </tr>\n  </tbody>\n</table>\n</div>",
      "text/plain": "      n  śr. arytm.  odch. std     mediana         min         max  \\\n0  1000  165.650466   3.656288  165.632825  145.113165  187.388611   \n\n    I kwantyl  III kwantyl  \n0  165.632825   165.632825  "
     },
     "metadata": {
      "transient": {}
     },
     "output_type": "display_data"
    },
    {
     "data": {
      "text/plain": "'0.8_uzupelnianie_losowa'"
     },
     "metadata": {
      "transient": {}
     },
     "output_type": "display_data"
    },
    {
     "data": {
      "text/html": "<div>\n<style scoped>\n    .dataframe tbody tr th:only-of-type {\n        vertical-align: middle;\n    }\n\n    .dataframe tbody tr th {\n        vertical-align: top;\n    }\n\n    .dataframe thead th {\n        text-align: right;\n    }\n</style>\n<table border=\"1\" class=\"dataframe\">\n  <thead>\n    <tr style=\"text-align: right;\">\n      <th></th>\n      <th>n</th>\n      <th>śr. arytm.</th>\n      <th>odch. std</th>\n      <th>mediana</th>\n      <th>min</th>\n      <th>max</th>\n      <th>I kwantyl</th>\n      <th>III kwantyl</th>\n    </tr>\n  </thead>\n  <tbody>\n    <tr>\n      <th>0</th>\n      <td>1000</td>\n      <td>178.744206</td>\n      <td>7.470637</td>\n      <td>182.0</td>\n      <td>145.113165</td>\n      <td>187.388611</td>\n      <td>182.0</td>\n      <td>182.0</td>\n    </tr>\n  </tbody>\n</table>\n</div>",
      "text/plain": "      n  śr. arytm.  odch. std  mediana         min         max  I kwantyl  \\\n0  1000  178.744206   7.470637    182.0  145.113165  187.388611      182.0   \n\n   III kwantyl  \n0        182.0  "
     },
     "metadata": {
      "transient": {}
     },
     "output_type": "display_data"
    },
    {
     "data": {
      "text/plain": "'Prefill danych dla rozkladu jednolitego'"
     },
     "metadata": {
      "transient": {}
     },
     "output_type": "display_data"
    },
    {
     "data": {
      "text/plain": "0.0"
     },
     "metadata": {
      "transient": {}
     },
     "output_type": "display_data"
    },
    {
     "data": {
      "text/html": "<div>\n<style scoped>\n    .dataframe tbody tr th:only-of-type {\n        vertical-align: middle;\n    }\n\n    .dataframe tbody tr th {\n        vertical-align: top;\n    }\n\n    .dataframe thead th {\n        text-align: right;\n    }\n</style>\n<table border=\"1\" class=\"dataframe\">\n  <thead>\n    <tr style=\"text-align: right;\">\n      <th></th>\n      <th>n</th>\n      <th>śr. arytm.</th>\n      <th>odch. std</th>\n      <th>mediana</th>\n      <th>min</th>\n      <th>max</th>\n      <th>I kwantyl</th>\n      <th>III kwantyl</th>\n    </tr>\n  </thead>\n  <tbody>\n    <tr>\n      <th>0</th>\n      <td>1000</td>\n      <td>0.500603</td>\n      <td>0.289446</td>\n      <td>0.50063</td>\n      <td>0.000123</td>\n      <td>0.998462</td>\n      <td>0.248216</td>\n      <td>0.758091</td>\n    </tr>\n  </tbody>\n</table>\n</div>",
      "text/plain": "      n  śr. arytm.  odch. std  mediana       min       max  I kwantyl  \\\n0  1000    0.500603   0.289446  0.50063  0.000123  0.998462   0.248216   \n\n   III kwantyl  \n0     0.758091  "
     },
     "metadata": {
      "transient": {}
     },
     "output_type": "display_data"
    },
    {
     "data": {
      "text/plain": "0.1"
     },
     "metadata": {
      "transient": {}
     },
     "output_type": "display_data"
    },
    {
     "data": {
      "text/html": "<div>\n<style scoped>\n    .dataframe tbody tr th:only-of-type {\n        vertical-align: middle;\n    }\n\n    .dataframe tbody tr th {\n        vertical-align: top;\n    }\n\n    .dataframe thead th {\n        text-align: right;\n    }\n</style>\n<table border=\"1\" class=\"dataframe\">\n  <thead>\n    <tr style=\"text-align: right;\">\n      <th></th>\n      <th>n</th>\n      <th>śr. arytm.</th>\n      <th>odch. std</th>\n      <th>mediana</th>\n      <th>min</th>\n      <th>max</th>\n      <th>I kwantyl</th>\n      <th>III kwantyl</th>\n    </tr>\n  </thead>\n  <tbody>\n    <tr>\n      <th>0</th>\n      <td>1000</td>\n      <td>0.495034</td>\n      <td>0.287778</td>\n      <td>0.494176</td>\n      <td>0.000123</td>\n      <td>0.998462</td>\n      <td>0.24159</td>\n      <td>0.746547</td>\n    </tr>\n  </tbody>\n</table>\n</div>",
      "text/plain": "      n  śr. arytm.  odch. std   mediana       min       max  I kwantyl  \\\n0  1000    0.495034   0.287778  0.494176  0.000123  0.998462    0.24159   \n\n   III kwantyl  \n0     0.746547  "
     },
     "metadata": {
      "transient": {}
     },
     "output_type": "display_data"
    },
    {
     "data": {
      "text/plain": "0.2"
     },
     "metadata": {
      "transient": {}
     },
     "output_type": "display_data"
    },
    {
     "data": {
      "text/html": "<div>\n<style scoped>\n    .dataframe tbody tr th:only-of-type {\n        vertical-align: middle;\n    }\n\n    .dataframe tbody tr th {\n        vertical-align: top;\n    }\n\n    .dataframe thead th {\n        text-align: right;\n    }\n</style>\n<table border=\"1\" class=\"dataframe\">\n  <thead>\n    <tr style=\"text-align: right;\">\n      <th></th>\n      <th>n</th>\n      <th>śr. arytm.</th>\n      <th>odch. std</th>\n      <th>mediana</th>\n      <th>min</th>\n      <th>max</th>\n      <th>I kwantyl</th>\n      <th>III kwantyl</th>\n    </tr>\n  </thead>\n  <tbody>\n    <tr>\n      <th>0</th>\n      <td>1000</td>\n      <td>0.496523</td>\n      <td>0.288527</td>\n      <td>0.498164</td>\n      <td>0.000123</td>\n      <td>0.998462</td>\n      <td>0.243532</td>\n      <td>0.749226</td>\n    </tr>\n  </tbody>\n</table>\n</div>",
      "text/plain": "      n  śr. arytm.  odch. std   mediana       min       max  I kwantyl  \\\n0  1000    0.496523   0.288527  0.498164  0.000123  0.998462   0.243532   \n\n   III kwantyl  \n0     0.749226  "
     },
     "metadata": {
      "transient": {}
     },
     "output_type": "display_data"
    },
    {
     "data": {
      "text/plain": "0.3"
     },
     "metadata": {
      "transient": {}
     },
     "output_type": "display_data"
    },
    {
     "data": {
      "text/html": "<div>\n<style scoped>\n    .dataframe tbody tr th:only-of-type {\n        vertical-align: middle;\n    }\n\n    .dataframe tbody tr th {\n        vertical-align: top;\n    }\n\n    .dataframe thead th {\n        text-align: right;\n    }\n</style>\n<table border=\"1\" class=\"dataframe\">\n  <thead>\n    <tr style=\"text-align: right;\">\n      <th></th>\n      <th>n</th>\n      <th>śr. arytm.</th>\n      <th>odch. std</th>\n      <th>mediana</th>\n      <th>min</th>\n      <th>max</th>\n      <th>I kwantyl</th>\n      <th>III kwantyl</th>\n    </tr>\n  </thead>\n  <tbody>\n    <tr>\n      <th>0</th>\n      <td>1000</td>\n      <td>0.498985</td>\n      <td>0.285567</td>\n      <td>0.498164</td>\n      <td>0.000123</td>\n      <td>0.998462</td>\n      <td>0.25036</td>\n      <td>0.747205</td>\n    </tr>\n  </tbody>\n</table>\n</div>",
      "text/plain": "      n  śr. arytm.  odch. std   mediana       min       max  I kwantyl  \\\n0  1000    0.498985   0.285567  0.498164  0.000123  0.998462    0.25036   \n\n   III kwantyl  \n0     0.747205  "
     },
     "metadata": {
      "transient": {}
     },
     "output_type": "display_data"
    },
    {
     "data": {
      "text/plain": "0.4"
     },
     "metadata": {
      "transient": {}
     },
     "output_type": "display_data"
    },
    {
     "data": {
      "text/html": "<div>\n<style scoped>\n    .dataframe tbody tr th:only-of-type {\n        vertical-align: middle;\n    }\n\n    .dataframe tbody tr th {\n        vertical-align: top;\n    }\n\n    .dataframe thead th {\n        text-align: right;\n    }\n</style>\n<table border=\"1\" class=\"dataframe\">\n  <thead>\n    <tr style=\"text-align: right;\">\n      <th></th>\n      <th>n</th>\n      <th>śr. arytm.</th>\n      <th>odch. std</th>\n      <th>mediana</th>\n      <th>min</th>\n      <th>max</th>\n      <th>I kwantyl</th>\n      <th>III kwantyl</th>\n    </tr>\n  </thead>\n  <tbody>\n    <tr>\n      <th>0</th>\n      <td>1000</td>\n      <td>0.502541</td>\n      <td>0.286356</td>\n      <td>0.507725</td>\n      <td>0.002594</td>\n      <td>0.998462</td>\n      <td>0.248763</td>\n      <td>0.754408</td>\n    </tr>\n  </tbody>\n</table>\n</div>",
      "text/plain": "      n  śr. arytm.  odch. std   mediana       min       max  I kwantyl  \\\n0  1000    0.502541   0.286356  0.507725  0.002594  0.998462   0.248763   \n\n   III kwantyl  \n0     0.754408  "
     },
     "metadata": {
      "transient": {}
     },
     "output_type": "display_data"
    },
    {
     "data": {
      "text/plain": "0.5"
     },
     "metadata": {
      "transient": {}
     },
     "output_type": "display_data"
    },
    {
     "data": {
      "text/html": "<div>\n<style scoped>\n    .dataframe tbody tr th:only-of-type {\n        vertical-align: middle;\n    }\n\n    .dataframe tbody tr th {\n        vertical-align: top;\n    }\n\n    .dataframe thead th {\n        text-align: right;\n    }\n</style>\n<table border=\"1\" class=\"dataframe\">\n  <thead>\n    <tr style=\"text-align: right;\">\n      <th></th>\n      <th>n</th>\n      <th>śr. arytm.</th>\n      <th>odch. std</th>\n      <th>mediana</th>\n      <th>min</th>\n      <th>max</th>\n      <th>I kwantyl</th>\n      <th>III kwantyl</th>\n    </tr>\n  </thead>\n  <tbody>\n    <tr>\n      <th>0</th>\n      <td>1000</td>\n      <td>0.498415</td>\n      <td>0.287047</td>\n      <td>0.496752</td>\n      <td>0.002594</td>\n      <td>0.99701</td>\n      <td>0.243873</td>\n      <td>0.757618</td>\n    </tr>\n  </tbody>\n</table>\n</div>",
      "text/plain": "      n  śr. arytm.  odch. std   mediana       min      max  I kwantyl  \\\n0  1000    0.498415   0.287047  0.496752  0.002594  0.99701   0.243873   \n\n   III kwantyl  \n0     0.757618  "
     },
     "metadata": {
      "transient": {}
     },
     "output_type": "display_data"
    },
    {
     "data": {
      "text/plain": "0.6"
     },
     "metadata": {
      "transient": {}
     },
     "output_type": "display_data"
    },
    {
     "data": {
      "text/html": "<div>\n<style scoped>\n    .dataframe tbody tr th:only-of-type {\n        vertical-align: middle;\n    }\n\n    .dataframe tbody tr th {\n        vertical-align: top;\n    }\n\n    .dataframe thead th {\n        text-align: right;\n    }\n</style>\n<table border=\"1\" class=\"dataframe\">\n  <thead>\n    <tr style=\"text-align: right;\">\n      <th></th>\n      <th>n</th>\n      <th>śr. arytm.</th>\n      <th>odch. std</th>\n      <th>mediana</th>\n      <th>min</th>\n      <th>max</th>\n      <th>I kwantyl</th>\n      <th>III kwantyl</th>\n    </tr>\n  </thead>\n  <tbody>\n    <tr>\n      <th>0</th>\n      <td>1000</td>\n      <td>0.496047</td>\n      <td>0.289997</td>\n      <td>0.486853</td>\n      <td>0.002594</td>\n      <td>0.99701</td>\n      <td>0.24159</td>\n      <td>0.759948</td>\n    </tr>\n  </tbody>\n</table>\n</div>",
      "text/plain": "      n  śr. arytm.  odch. std   mediana       min      max  I kwantyl  \\\n0  1000    0.496047   0.289997  0.486853  0.002594  0.99701    0.24159   \n\n   III kwantyl  \n0     0.759948  "
     },
     "metadata": {
      "transient": {}
     },
     "output_type": "display_data"
    },
    {
     "data": {
      "text/plain": "0.7"
     },
     "metadata": {
      "transient": {}
     },
     "output_type": "display_data"
    },
    {
     "data": {
      "text/html": "<div>\n<style scoped>\n    .dataframe tbody tr th:only-of-type {\n        vertical-align: middle;\n    }\n\n    .dataframe tbody tr th {\n        vertical-align: top;\n    }\n\n    .dataframe thead th {\n        text-align: right;\n    }\n</style>\n<table border=\"1\" class=\"dataframe\">\n  <thead>\n    <tr style=\"text-align: right;\">\n      <th></th>\n      <th>n</th>\n      <th>śr. arytm.</th>\n      <th>odch. std</th>\n      <th>mediana</th>\n      <th>min</th>\n      <th>max</th>\n      <th>I kwantyl</th>\n      <th>III kwantyl</th>\n    </tr>\n  </thead>\n  <tbody>\n    <tr>\n      <th>0</th>\n      <td>1000</td>\n      <td>0.498494</td>\n      <td>0.296487</td>\n      <td>0.488307</td>\n      <td>0.002594</td>\n      <td>0.99701</td>\n      <td>0.234557</td>\n      <td>0.766196</td>\n    </tr>\n  </tbody>\n</table>\n</div>",
      "text/plain": "      n  śr. arytm.  odch. std   mediana       min      max  I kwantyl  \\\n0  1000    0.498494   0.296487  0.488307  0.002594  0.99701   0.234557   \n\n   III kwantyl  \n0     0.766196  "
     },
     "metadata": {
      "transient": {}
     },
     "output_type": "display_data"
    },
    {
     "data": {
      "text/plain": "0.8"
     },
     "metadata": {
      "transient": {}
     },
     "output_type": "display_data"
    },
    {
     "data": {
      "text/html": "<div>\n<style scoped>\n    .dataframe tbody tr th:only-of-type {\n        vertical-align: middle;\n    }\n\n    .dataframe tbody tr th {\n        vertical-align: top;\n    }\n\n    .dataframe thead th {\n        text-align: right;\n    }\n</style>\n<table border=\"1\" class=\"dataframe\">\n  <thead>\n    <tr style=\"text-align: right;\">\n      <th></th>\n      <th>n</th>\n      <th>śr. arytm.</th>\n      <th>odch. std</th>\n      <th>mediana</th>\n      <th>min</th>\n      <th>max</th>\n      <th>I kwantyl</th>\n      <th>III kwantyl</th>\n    </tr>\n  </thead>\n  <tbody>\n    <tr>\n      <th>0</th>\n      <td>1000</td>\n      <td>0.496538</td>\n      <td>0.292378</td>\n      <td>0.484358</td>\n      <td>0.002785</td>\n      <td>0.996791</td>\n      <td>0.243532</td>\n      <td>0.772256</td>\n    </tr>\n  </tbody>\n</table>\n</div>",
      "text/plain": "      n  śr. arytm.  odch. std   mediana       min       max  I kwantyl  \\\n0  1000    0.496538   0.292378  0.484358  0.002785  0.996791   0.243532   \n\n   III kwantyl  \n0     0.772256  "
     },
     "metadata": {
      "transient": {}
     },
     "output_type": "display_data"
    },
    {
     "data": {
      "text/plain": "'0.0_uzupelnianie_srednia_arytm'"
     },
     "metadata": {
      "transient": {}
     },
     "output_type": "display_data"
    },
    {
     "data": {
      "text/html": "<div>\n<style scoped>\n    .dataframe tbody tr th:only-of-type {\n        vertical-align: middle;\n    }\n\n    .dataframe tbody tr th {\n        vertical-align: top;\n    }\n\n    .dataframe thead th {\n        text-align: right;\n    }\n</style>\n<table border=\"1\" class=\"dataframe\">\n  <thead>\n    <tr style=\"text-align: right;\">\n      <th></th>\n      <th>n</th>\n      <th>śr. arytm.</th>\n      <th>odch. std</th>\n      <th>mediana</th>\n      <th>min</th>\n      <th>max</th>\n      <th>I kwantyl</th>\n      <th>III kwantyl</th>\n    </tr>\n  </thead>\n  <tbody>\n    <tr>\n      <th>0</th>\n      <td>1000</td>\n      <td>0.500603</td>\n      <td>0.0</td>\n      <td>0.500603</td>\n      <td>0.500603</td>\n      <td>0.500603</td>\n      <td>0.500603</td>\n      <td>0.500603</td>\n    </tr>\n  </tbody>\n</table>\n</div>",
      "text/plain": "      n  śr. arytm.  odch. std   mediana       min       max  I kwantyl  \\\n0  1000    0.500603        0.0  0.500603  0.500603  0.500603   0.500603   \n\n   III kwantyl  \n0     0.500603  "
     },
     "metadata": {
      "transient": {}
     },
     "output_type": "display_data"
    },
    {
     "data": {
      "text/plain": "'0.0_uzupelnianie_mediana'"
     },
     "metadata": {
      "transient": {}
     },
     "output_type": "display_data"
    },
    {
     "data": {
      "text/html": "<div>\n<style scoped>\n    .dataframe tbody tr th:only-of-type {\n        vertical-align: middle;\n    }\n\n    .dataframe tbody tr th {\n        vertical-align: top;\n    }\n\n    .dataframe thead th {\n        text-align: right;\n    }\n</style>\n<table border=\"1\" class=\"dataframe\">\n  <thead>\n    <tr style=\"text-align: right;\">\n      <th></th>\n      <th>n</th>\n      <th>śr. arytm.</th>\n      <th>odch. std</th>\n      <th>mediana</th>\n      <th>min</th>\n      <th>max</th>\n      <th>I kwantyl</th>\n      <th>III kwantyl</th>\n    </tr>\n  </thead>\n  <tbody>\n    <tr>\n      <th>0</th>\n      <td>1000</td>\n      <td>0.500603</td>\n      <td>0.289446</td>\n      <td>0.50063</td>\n      <td>0.000123</td>\n      <td>0.998462</td>\n      <td>0.248216</td>\n      <td>0.758091</td>\n    </tr>\n  </tbody>\n</table>\n</div>",
      "text/plain": "      n  śr. arytm.  odch. std  mediana       min       max  I kwantyl  \\\n0  1000    0.500603   0.289446  0.50063  0.000123  0.998462   0.248216   \n\n   III kwantyl  \n0     0.758091  "
     },
     "metadata": {
      "transient": {}
     },
     "output_type": "display_data"
    },
    {
     "data": {
      "text/plain": "'0.0_uzupelnianie_losowa'"
     },
     "metadata": {
      "transient": {}
     },
     "output_type": "display_data"
    },
    {
     "data": {
      "text/html": "<div>\n<style scoped>\n    .dataframe tbody tr th:only-of-type {\n        vertical-align: middle;\n    }\n\n    .dataframe tbody tr th {\n        vertical-align: top;\n    }\n\n    .dataframe thead th {\n        text-align: right;\n    }\n</style>\n<table border=\"1\" class=\"dataframe\">\n  <thead>\n    <tr style=\"text-align: right;\">\n      <th></th>\n      <th>n</th>\n      <th>śr. arytm.</th>\n      <th>odch. std</th>\n      <th>mediana</th>\n      <th>min</th>\n      <th>max</th>\n      <th>I kwantyl</th>\n      <th>III kwantyl</th>\n    </tr>\n  </thead>\n  <tbody>\n    <tr>\n      <th>0</th>\n      <td>1000</td>\n      <td>0.500603</td>\n      <td>0.289446</td>\n      <td>0.50063</td>\n      <td>0.000123</td>\n      <td>0.998462</td>\n      <td>0.248216</td>\n      <td>0.758091</td>\n    </tr>\n  </tbody>\n</table>\n</div>",
      "text/plain": "      n  śr. arytm.  odch. std  mediana       min       max  I kwantyl  \\\n0  1000    0.500603   0.289446  0.50063  0.000123  0.998462   0.248216   \n\n   III kwantyl  \n0     0.758091  "
     },
     "metadata": {
      "transient": {}
     },
     "output_type": "display_data"
    },
    {
     "data": {
      "text/plain": "'0.1_uzupelnianie_srednia_arytm'"
     },
     "metadata": {
      "transient": {}
     },
     "output_type": "display_data"
    },
    {
     "data": {
      "text/html": "<div>\n<style scoped>\n    .dataframe tbody tr th:only-of-type {\n        vertical-align: middle;\n    }\n\n    .dataframe tbody tr th {\n        vertical-align: top;\n    }\n\n    .dataframe thead th {\n        text-align: right;\n    }\n</style>\n<table border=\"1\" class=\"dataframe\">\n  <thead>\n    <tr style=\"text-align: right;\">\n      <th></th>\n      <th>n</th>\n      <th>śr. arytm.</th>\n      <th>odch. std</th>\n      <th>mediana</th>\n      <th>min</th>\n      <th>max</th>\n      <th>I kwantyl</th>\n      <th>III kwantyl</th>\n    </tr>\n  </thead>\n  <tbody>\n    <tr>\n      <th>0</th>\n      <td>1000</td>\n      <td>0.495034</td>\n      <td>1.110779e-16</td>\n      <td>0.495034</td>\n      <td>0.495034</td>\n      <td>0.495034</td>\n      <td>0.495034</td>\n      <td>0.495034</td>\n    </tr>\n  </tbody>\n</table>\n</div>",
      "text/plain": "      n  śr. arytm.     odch. std   mediana       min       max  I kwantyl  \\\n0  1000    0.495034  1.110779e-16  0.495034  0.495034  0.495034   0.495034   \n\n   III kwantyl  \n0     0.495034  "
     },
     "metadata": {
      "transient": {}
     },
     "output_type": "display_data"
    },
    {
     "data": {
      "text/plain": "'0.1_uzupelnianie_mediana'"
     },
     "metadata": {
      "transient": {}
     },
     "output_type": "display_data"
    },
    {
     "data": {
      "text/html": "<div>\n<style scoped>\n    .dataframe tbody tr th:only-of-type {\n        vertical-align: middle;\n    }\n\n    .dataframe tbody tr th {\n        vertical-align: top;\n    }\n\n    .dataframe thead th {\n        text-align: right;\n    }\n</style>\n<table border=\"1\" class=\"dataframe\">\n  <thead>\n    <tr style=\"text-align: right;\">\n      <th></th>\n      <th>n</th>\n      <th>śr. arytm.</th>\n      <th>odch. std</th>\n      <th>mediana</th>\n      <th>min</th>\n      <th>max</th>\n      <th>I kwantyl</th>\n      <th>III kwantyl</th>\n    </tr>\n  </thead>\n  <tbody>\n    <tr>\n      <th>0</th>\n      <td>1000</td>\n      <td>0.494948</td>\n      <td>0.272995</td>\n      <td>0.494176</td>\n      <td>0.000123</td>\n      <td>0.998462</td>\n      <td>0.264393</td>\n      <td>0.716789</td>\n    </tr>\n  </tbody>\n</table>\n</div>",
      "text/plain": "      n  śr. arytm.  odch. std   mediana       min       max  I kwantyl  \\\n0  1000    0.494948   0.272995  0.494176  0.000123  0.998462   0.264393   \n\n   III kwantyl  \n0     0.716789  "
     },
     "metadata": {
      "transient": {}
     },
     "output_type": "display_data"
    },
    {
     "data": {
      "text/plain": "'0.1_uzupelnianie_losowa'"
     },
     "metadata": {
      "transient": {}
     },
     "output_type": "display_data"
    },
    {
     "data": {
      "text/html": "<div>\n<style scoped>\n    .dataframe tbody tr th:only-of-type {\n        vertical-align: middle;\n    }\n\n    .dataframe tbody tr th {\n        vertical-align: top;\n    }\n\n    .dataframe thead th {\n        text-align: right;\n    }\n</style>\n<table border=\"1\" class=\"dataframe\">\n  <thead>\n    <tr style=\"text-align: right;\">\n      <th></th>\n      <th>n</th>\n      <th>śr. arytm.</th>\n      <th>odch. std</th>\n      <th>mediana</th>\n      <th>min</th>\n      <th>max</th>\n      <th>I kwantyl</th>\n      <th>III kwantyl</th>\n    </tr>\n  </thead>\n  <tbody>\n    <tr>\n      <th>0</th>\n      <td>1000</td>\n      <td>0.445531</td>\n      <td>0.310811</td>\n      <td>0.442412</td>\n      <td>0.0</td>\n      <td>0.998462</td>\n      <td>0.162911</td>\n      <td>0.716789</td>\n    </tr>\n  </tbody>\n</table>\n</div>",
      "text/plain": "      n  śr. arytm.  odch. std   mediana  min       max  I kwantyl  \\\n0  1000    0.445531   0.310811  0.442412  0.0  0.998462   0.162911   \n\n   III kwantyl  \n0     0.716789  "
     },
     "metadata": {
      "transient": {}
     },
     "output_type": "display_data"
    },
    {
     "data": {
      "text/plain": "'0.2_uzupelnianie_srednia_arytm'"
     },
     "metadata": {
      "transient": {}
     },
     "output_type": "display_data"
    },
    {
     "data": {
      "text/html": "<div>\n<style scoped>\n    .dataframe tbody tr th:only-of-type {\n        vertical-align: middle;\n    }\n\n    .dataframe tbody tr th {\n        vertical-align: top;\n    }\n\n    .dataframe thead th {\n        text-align: right;\n    }\n</style>\n<table border=\"1\" class=\"dataframe\">\n  <thead>\n    <tr style=\"text-align: right;\">\n      <th></th>\n      <th>n</th>\n      <th>śr. arytm.</th>\n      <th>odch. std</th>\n      <th>mediana</th>\n      <th>min</th>\n      <th>max</th>\n      <th>I kwantyl</th>\n      <th>III kwantyl</th>\n    </tr>\n  </thead>\n  <tbody>\n    <tr>\n      <th>0</th>\n      <td>1000</td>\n      <td>0.496523</td>\n      <td>1.666168e-16</td>\n      <td>0.496523</td>\n      <td>0.496523</td>\n      <td>0.496523</td>\n      <td>0.496523</td>\n      <td>0.496523</td>\n    </tr>\n  </tbody>\n</table>\n</div>",
      "text/plain": "      n  śr. arytm.     odch. std   mediana       min       max  I kwantyl  \\\n0  1000    0.496523  1.666168e-16  0.496523  0.496523  0.496523   0.496523   \n\n   III kwantyl  \n0     0.496523  "
     },
     "metadata": {
      "transient": {}
     },
     "output_type": "display_data"
    },
    {
     "data": {
      "text/plain": "'0.2_uzupelnianie_mediana'"
     },
     "metadata": {
      "transient": {}
     },
     "output_type": "display_data"
    },
    {
     "data": {
      "text/html": "<div>\n<style scoped>\n    .dataframe tbody tr th:only-of-type {\n        vertical-align: middle;\n    }\n\n    .dataframe tbody tr th {\n        vertical-align: top;\n    }\n\n    .dataframe thead th {\n        text-align: right;\n    }\n</style>\n<table border=\"1\" class=\"dataframe\">\n  <thead>\n    <tr style=\"text-align: right;\">\n      <th></th>\n      <th>n</th>\n      <th>śr. arytm.</th>\n      <th>odch. std</th>\n      <th>mediana</th>\n      <th>min</th>\n      <th>max</th>\n      <th>I kwantyl</th>\n      <th>III kwantyl</th>\n    </tr>\n  </thead>\n  <tbody>\n    <tr>\n      <th>0</th>\n      <td>1000</td>\n      <td>0.496852</td>\n      <td>0.258035</td>\n      <td>0.498164</td>\n      <td>0.000123</td>\n      <td>0.998462</td>\n      <td>0.304725</td>\n      <td>0.682307</td>\n    </tr>\n  </tbody>\n</table>\n</div>",
      "text/plain": "      n  śr. arytm.  odch. std   mediana       min       max  I kwantyl  \\\n0  1000    0.496852   0.258035  0.498164  0.000123  0.998462   0.304725   \n\n   III kwantyl  \n0     0.682307  "
     },
     "metadata": {
      "transient": {}
     },
     "output_type": "display_data"
    },
    {
     "data": {
      "text/plain": "'0.2_uzupelnianie_losowa'"
     },
     "metadata": {
      "transient": {}
     },
     "output_type": "display_data"
    },
    {
     "data": {
      "text/html": "<div>\n<style scoped>\n    .dataframe tbody tr th:only-of-type {\n        vertical-align: middle;\n    }\n\n    .dataframe tbody tr th {\n        vertical-align: top;\n    }\n\n    .dataframe thead th {\n        text-align: right;\n    }\n</style>\n<table border=\"1\" class=\"dataframe\">\n  <thead>\n    <tr style=\"text-align: right;\">\n      <th></th>\n      <th>n</th>\n      <th>śr. arytm.</th>\n      <th>odch. std</th>\n      <th>mediana</th>\n      <th>min</th>\n      <th>max</th>\n      <th>I kwantyl</th>\n      <th>III kwantyl</th>\n    </tr>\n  </thead>\n  <tbody>\n    <tr>\n      <th>0</th>\n      <td>1000</td>\n      <td>0.397219</td>\n      <td>0.325679</td>\n      <td>0.373865</td>\n      <td>0.0</td>\n      <td>0.998462</td>\n      <td>0.057163</td>\n      <td>0.682307</td>\n    </tr>\n  </tbody>\n</table>\n</div>",
      "text/plain": "      n  śr. arytm.  odch. std   mediana  min       max  I kwantyl  \\\n0  1000    0.397219   0.325679  0.373865  0.0  0.998462   0.057163   \n\n   III kwantyl  \n0     0.682307  "
     },
     "metadata": {
      "transient": {}
     },
     "output_type": "display_data"
    },
    {
     "data": {
      "text/plain": "'0.3_uzupelnianie_srednia_arytm'"
     },
     "metadata": {
      "transient": {}
     },
     "output_type": "display_data"
    },
    {
     "data": {
      "text/html": "<div>\n<style scoped>\n    .dataframe tbody tr th:only-of-type {\n        vertical-align: middle;\n    }\n\n    .dataframe tbody tr th {\n        vertical-align: top;\n    }\n\n    .dataframe thead th {\n        text-align: right;\n    }\n</style>\n<table border=\"1\" class=\"dataframe\">\n  <thead>\n    <tr style=\"text-align: right;\">\n      <th></th>\n      <th>n</th>\n      <th>śr. arytm.</th>\n      <th>odch. std</th>\n      <th>mediana</th>\n      <th>min</th>\n      <th>max</th>\n      <th>I kwantyl</th>\n      <th>III kwantyl</th>\n    </tr>\n  </thead>\n  <tbody>\n    <tr>\n      <th>0</th>\n      <td>1000</td>\n      <td>0.498985</td>\n      <td>2.221557e-16</td>\n      <td>0.498985</td>\n      <td>0.498985</td>\n      <td>0.498985</td>\n      <td>0.498985</td>\n      <td>0.498985</td>\n    </tr>\n  </tbody>\n</table>\n</div>",
      "text/plain": "      n  śr. arytm.     odch. std   mediana       min       max  I kwantyl  \\\n0  1000    0.498985  2.221557e-16  0.498985  0.498985  0.498985   0.498985   \n\n   III kwantyl  \n0     0.498985  "
     },
     "metadata": {
      "transient": {}
     },
     "output_type": "display_data"
    },
    {
     "data": {
      "text/plain": "'0.3_uzupelnianie_mediana'"
     },
     "metadata": {
      "transient": {}
     },
     "output_type": "display_data"
    },
    {
     "data": {
      "text/html": "<div>\n<style scoped>\n    .dataframe tbody tr th:only-of-type {\n        vertical-align: middle;\n    }\n\n    .dataframe tbody tr th {\n        vertical-align: top;\n    }\n\n    .dataframe thead th {\n        text-align: right;\n    }\n</style>\n<table border=\"1\" class=\"dataframe\">\n  <thead>\n    <tr style=\"text-align: right;\">\n      <th></th>\n      <th>n</th>\n      <th>śr. arytm.</th>\n      <th>odch. std</th>\n      <th>mediana</th>\n      <th>min</th>\n      <th>max</th>\n      <th>I kwantyl</th>\n      <th>III kwantyl</th>\n    </tr>\n  </thead>\n  <tbody>\n    <tr>\n      <th>0</th>\n      <td>1000</td>\n      <td>0.498739</td>\n      <td>0.238872</td>\n      <td>0.498164</td>\n      <td>0.000123</td>\n      <td>0.998462</td>\n      <td>0.361519</td>\n      <td>0.627516</td>\n    </tr>\n  </tbody>\n</table>\n</div>",
      "text/plain": "      n  śr. arytm.  odch. std   mediana       min       max  I kwantyl  \\\n0  1000    0.498739   0.238872  0.498164  0.000123  0.998462   0.361519   \n\n   III kwantyl  \n0     0.627516  "
     },
     "metadata": {
      "transient": {}
     },
     "output_type": "display_data"
    },
    {
     "data": {
      "text/plain": "'0.3_uzupelnianie_losowa'"
     },
     "metadata": {
      "transient": {}
     },
     "output_type": "display_data"
    },
    {
     "data": {
      "text/html": "<div>\n<style scoped>\n    .dataframe tbody tr th:only-of-type {\n        vertical-align: middle;\n    }\n\n    .dataframe tbody tr th {\n        vertical-align: top;\n    }\n\n    .dataframe thead th {\n        text-align: right;\n    }\n</style>\n<table border=\"1\" class=\"dataframe\">\n  <thead>\n    <tr style=\"text-align: right;\">\n      <th></th>\n      <th>n</th>\n      <th>śr. arytm.</th>\n      <th>odch. std</th>\n      <th>mediana</th>\n      <th>min</th>\n      <th>max</th>\n      <th>I kwantyl</th>\n      <th>III kwantyl</th>\n    </tr>\n  </thead>\n  <tbody>\n    <tr>\n      <th>0</th>\n      <td>1000</td>\n      <td>0.349289</td>\n      <td>0.330755</td>\n      <td>0.283355</td>\n      <td>0.0</td>\n      <td>0.998462</td>\n      <td>0.0</td>\n      <td>0.627516</td>\n    </tr>\n  </tbody>\n</table>\n</div>",
      "text/plain": "      n  śr. arytm.  odch. std   mediana  min       max  I kwantyl  \\\n0  1000    0.349289   0.330755  0.283355  0.0  0.998462        0.0   \n\n   III kwantyl  \n0     0.627516  "
     },
     "metadata": {
      "transient": {}
     },
     "output_type": "display_data"
    },
    {
     "data": {
      "text/plain": "'0.4_uzupelnianie_srednia_arytm'"
     },
     "metadata": {
      "transient": {}
     },
     "output_type": "display_data"
    },
    {
     "data": {
      "text/html": "<div>\n<style scoped>\n    .dataframe tbody tr th:only-of-type {\n        vertical-align: middle;\n    }\n\n    .dataframe tbody tr th {\n        vertical-align: top;\n    }\n\n    .dataframe thead th {\n        text-align: right;\n    }\n</style>\n<table border=\"1\" class=\"dataframe\">\n  <thead>\n    <tr style=\"text-align: right;\">\n      <th></th>\n      <th>n</th>\n      <th>śr. arytm.</th>\n      <th>odch. std</th>\n      <th>mediana</th>\n      <th>min</th>\n      <th>max</th>\n      <th>I kwantyl</th>\n      <th>III kwantyl</th>\n    </tr>\n  </thead>\n  <tbody>\n    <tr>\n      <th>0</th>\n      <td>1000</td>\n      <td>0.502541</td>\n      <td>1.110779e-16</td>\n      <td>0.502541</td>\n      <td>0.502541</td>\n      <td>0.502541</td>\n      <td>0.502541</td>\n      <td>0.502541</td>\n    </tr>\n  </tbody>\n</table>\n</div>",
      "text/plain": "      n  śr. arytm.     odch. std   mediana       min       max  I kwantyl  \\\n0  1000    0.502541  1.110779e-16  0.502541  0.502541  0.502541   0.502541   \n\n   III kwantyl  \n0     0.502541  "
     },
     "metadata": {
      "transient": {}
     },
     "output_type": "display_data"
    },
    {
     "data": {
      "text/plain": "'0.4_uzupelnianie_mediana'"
     },
     "metadata": {
      "transient": {}
     },
     "output_type": "display_data"
    },
    {
     "data": {
      "text/html": "<div>\n<style scoped>\n    .dataframe tbody tr th:only-of-type {\n        vertical-align: middle;\n    }\n\n    .dataframe tbody tr th {\n        vertical-align: top;\n    }\n\n    .dataframe thead th {\n        text-align: right;\n    }\n</style>\n<table border=\"1\" class=\"dataframe\">\n  <thead>\n    <tr style=\"text-align: right;\">\n      <th></th>\n      <th>n</th>\n      <th>śr. arytm.</th>\n      <th>odch. std</th>\n      <th>mediana</th>\n      <th>min</th>\n      <th>max</th>\n      <th>I kwantyl</th>\n      <th>III kwantyl</th>\n    </tr>\n  </thead>\n  <tbody>\n    <tr>\n      <th>0</th>\n      <td>1000</td>\n      <td>0.504615</td>\n      <td>0.221751</td>\n      <td>0.507725</td>\n      <td>0.002594</td>\n      <td>0.998462</td>\n      <td>0.437485</td>\n      <td>0.58156</td>\n    </tr>\n  </tbody>\n</table>\n</div>",
      "text/plain": "      n  śr. arytm.  odch. std   mediana       min       max  I kwantyl  \\\n0  1000    0.504615   0.221751  0.507725  0.002594  0.998462   0.437485   \n\n   III kwantyl  \n0      0.58156  "
     },
     "metadata": {
      "transient": {}
     },
     "output_type": "display_data"
    },
    {
     "data": {
      "text/plain": "'0.4_uzupelnianie_losowa'"
     },
     "metadata": {
      "transient": {}
     },
     "output_type": "display_data"
    },
    {
     "data": {
      "text/html": "<div>\n<style scoped>\n    .dataframe tbody tr th:only-of-type {\n        vertical-align: middle;\n    }\n\n    .dataframe tbody tr th {\n        vertical-align: top;\n    }\n\n    .dataframe thead th {\n        text-align: right;\n    }\n</style>\n<table border=\"1\" class=\"dataframe\">\n  <thead>\n    <tr style=\"text-align: right;\">\n      <th></th>\n      <th>n</th>\n      <th>śr. arytm.</th>\n      <th>odch. std</th>\n      <th>mediana</th>\n      <th>min</th>\n      <th>max</th>\n      <th>I kwantyl</th>\n      <th>III kwantyl</th>\n    </tr>\n  </thead>\n  <tbody>\n    <tr>\n      <th>0</th>\n      <td>1000</td>\n      <td>0.301525</td>\n      <td>0.33142</td>\n      <td>0.177864</td>\n      <td>0.0</td>\n      <td>0.998462</td>\n      <td>0.0</td>\n      <td>0.58156</td>\n    </tr>\n  </tbody>\n</table>\n</div>",
      "text/plain": "      n  śr. arytm.  odch. std   mediana  min       max  I kwantyl  \\\n0  1000    0.301525    0.33142  0.177864  0.0  0.998462        0.0   \n\n   III kwantyl  \n0      0.58156  "
     },
     "metadata": {
      "transient": {}
     },
     "output_type": "display_data"
    },
    {
     "data": {
      "text/plain": "'0.5_uzupelnianie_srednia_arytm'"
     },
     "metadata": {
      "transient": {}
     },
     "output_type": "display_data"
    },
    {
     "data": {
      "text/html": "<div>\n<style scoped>\n    .dataframe tbody tr th:only-of-type {\n        vertical-align: middle;\n    }\n\n    .dataframe tbody tr th {\n        vertical-align: top;\n    }\n\n    .dataframe thead th {\n        text-align: right;\n    }\n</style>\n<table border=\"1\" class=\"dataframe\">\n  <thead>\n    <tr style=\"text-align: right;\">\n      <th></th>\n      <th>n</th>\n      <th>śr. arytm.</th>\n      <th>odch. std</th>\n      <th>mediana</th>\n      <th>min</th>\n      <th>max</th>\n      <th>I kwantyl</th>\n      <th>III kwantyl</th>\n    </tr>\n  </thead>\n  <tbody>\n    <tr>\n      <th>0</th>\n      <td>1000</td>\n      <td>0.498415</td>\n      <td>1.110779e-16</td>\n      <td>0.498415</td>\n      <td>0.498415</td>\n      <td>0.498415</td>\n      <td>0.498415</td>\n      <td>0.498415</td>\n    </tr>\n  </tbody>\n</table>\n</div>",
      "text/plain": "      n  śr. arytm.     odch. std   mediana       min       max  I kwantyl  \\\n0  1000    0.498415  1.110779e-16  0.498415  0.498415  0.498415   0.498415   \n\n   III kwantyl  \n0     0.498415  "
     },
     "metadata": {
      "transient": {}
     },
     "output_type": "display_data"
    },
    {
     "data": {
      "text/plain": "'0.5_uzupelnianie_mediana'"
     },
     "metadata": {
      "transient": {}
     },
     "output_type": "display_data"
    },
    {
     "data": {
      "text/html": "<div>\n<style scoped>\n    .dataframe tbody tr th:only-of-type {\n        vertical-align: middle;\n    }\n\n    .dataframe tbody tr th {\n        vertical-align: top;\n    }\n\n    .dataframe thead th {\n        text-align: right;\n    }\n</style>\n<table border=\"1\" class=\"dataframe\">\n  <thead>\n    <tr style=\"text-align: right;\">\n      <th></th>\n      <th>n</th>\n      <th>śr. arytm.</th>\n      <th>odch. std</th>\n      <th>mediana</th>\n      <th>min</th>\n      <th>max</th>\n      <th>I kwantyl</th>\n      <th>III kwantyl</th>\n    </tr>\n  </thead>\n  <tbody>\n    <tr>\n      <th>0</th>\n      <td>1000</td>\n      <td>0.497583</td>\n      <td>0.202873</td>\n      <td>0.496752</td>\n      <td>0.002594</td>\n      <td>0.99701</td>\n      <td>0.496315</td>\n      <td>0.497188</td>\n    </tr>\n  </tbody>\n</table>\n</div>",
      "text/plain": "      n  śr. arytm.  odch. std   mediana       min      max  I kwantyl  \\\n0  1000    0.497583   0.202873  0.496752  0.002594  0.99701   0.496315   \n\n   III kwantyl  \n0     0.497188  "
     },
     "metadata": {
      "transient": {}
     },
     "output_type": "display_data"
    },
    {
     "data": {
      "text/plain": "'0.5_uzupelnianie_losowa'"
     },
     "metadata": {
      "transient": {}
     },
     "output_type": "display_data"
    },
    {
     "data": {
      "text/html": "<div>\n<style scoped>\n    .dataframe tbody tr th:only-of-type {\n        vertical-align: middle;\n    }\n\n    .dataframe tbody tr th {\n        vertical-align: top;\n    }\n\n    .dataframe thead th {\n        text-align: right;\n    }\n</style>\n<table border=\"1\" class=\"dataframe\">\n  <thead>\n    <tr style=\"text-align: right;\">\n      <th></th>\n      <th>n</th>\n      <th>śr. arytm.</th>\n      <th>odch. std</th>\n      <th>mediana</th>\n      <th>min</th>\n      <th>max</th>\n      <th>I kwantyl</th>\n      <th>III kwantyl</th>\n    </tr>\n  </thead>\n  <tbody>\n    <tr>\n      <th>0</th>\n      <td>1000</td>\n      <td>0.249208</td>\n      <td>0.321439</td>\n      <td>0.001297</td>\n      <td>0.0</td>\n      <td>0.99701</td>\n      <td>0.0</td>\n      <td>0.495878</td>\n    </tr>\n  </tbody>\n</table>\n</div>",
      "text/plain": "      n  śr. arytm.  odch. std   mediana  min      max  I kwantyl  III kwantyl\n0  1000    0.249208   0.321439  0.001297  0.0  0.99701        0.0     0.495878"
     },
     "metadata": {
      "transient": {}
     },
     "output_type": "display_data"
    },
    {
     "data": {
      "text/plain": "'0.6_uzupelnianie_srednia_arytm'"
     },
     "metadata": {
      "transient": {}
     },
     "output_type": "display_data"
    },
    {
     "data": {
      "text/html": "<div>\n<style scoped>\n    .dataframe tbody tr th:only-of-type {\n        vertical-align: middle;\n    }\n\n    .dataframe tbody tr th {\n        vertical-align: top;\n    }\n\n    .dataframe thead th {\n        text-align: right;\n    }\n</style>\n<table border=\"1\" class=\"dataframe\">\n  <thead>\n    <tr style=\"text-align: right;\">\n      <th></th>\n      <th>n</th>\n      <th>śr. arytm.</th>\n      <th>odch. std</th>\n      <th>mediana</th>\n      <th>min</th>\n      <th>max</th>\n      <th>I kwantyl</th>\n      <th>III kwantyl</th>\n    </tr>\n  </thead>\n  <tbody>\n    <tr>\n      <th>0</th>\n      <td>1000</td>\n      <td>0.496047</td>\n      <td>1.110779e-16</td>\n      <td>0.496047</td>\n      <td>0.496047</td>\n      <td>0.496047</td>\n      <td>0.496047</td>\n      <td>0.496047</td>\n    </tr>\n  </tbody>\n</table>\n</div>",
      "text/plain": "      n  śr. arytm.     odch. std   mediana       min       max  I kwantyl  \\\n0  1000    0.496047  1.110779e-16  0.496047  0.496047  0.496047   0.496047   \n\n   III kwantyl  \n0     0.496047  "
     },
     "metadata": {
      "transient": {}
     },
     "output_type": "display_data"
    },
    {
     "data": {
      "text/plain": "'0.6_uzupelnianie_mediana'"
     },
     "metadata": {
      "transient": {}
     },
     "output_type": "display_data"
    },
    {
     "data": {
      "text/html": "<div>\n<style scoped>\n    .dataframe tbody tr th:only-of-type {\n        vertical-align: middle;\n    }\n\n    .dataframe tbody tr th {\n        vertical-align: top;\n    }\n\n    .dataframe thead th {\n        text-align: right;\n    }\n</style>\n<table border=\"1\" class=\"dataframe\">\n  <thead>\n    <tr style=\"text-align: right;\">\n      <th></th>\n      <th>n</th>\n      <th>śr. arytm.</th>\n      <th>odch. std</th>\n      <th>mediana</th>\n      <th>min</th>\n      <th>max</th>\n      <th>I kwantyl</th>\n      <th>III kwantyl</th>\n    </tr>\n  </thead>\n  <tbody>\n    <tr>\n      <th>0</th>\n      <td>1000</td>\n      <td>0.490531</td>\n      <td>0.183328</td>\n      <td>0.486853</td>\n      <td>0.002594</td>\n      <td>0.99701</td>\n      <td>0.486853</td>\n      <td>0.486853</td>\n    </tr>\n  </tbody>\n</table>\n</div>",
      "text/plain": "      n  śr. arytm.  odch. std   mediana       min      max  I kwantyl  \\\n0  1000    0.490531   0.183328  0.486853  0.002594  0.99701   0.486853   \n\n   III kwantyl  \n0     0.486853  "
     },
     "metadata": {
      "transient": {}
     },
     "output_type": "display_data"
    },
    {
     "data": {
      "text/plain": "'0.6_uzupelnianie_losowa'"
     },
     "metadata": {
      "transient": {}
     },
     "output_type": "display_data"
    },
    {
     "data": {
      "text/html": "<div>\n<style scoped>\n    .dataframe tbody tr th:only-of-type {\n        vertical-align: middle;\n    }\n\n    .dataframe tbody tr th {\n        vertical-align: top;\n    }\n\n    .dataframe thead th {\n        text-align: right;\n    }\n</style>\n<table border=\"1\" class=\"dataframe\">\n  <thead>\n    <tr style=\"text-align: right;\">\n      <th></th>\n      <th>n</th>\n      <th>śr. arytm.</th>\n      <th>odch. std</th>\n      <th>mediana</th>\n      <th>min</th>\n      <th>max</th>\n      <th>I kwantyl</th>\n      <th>III kwantyl</th>\n    </tr>\n  </thead>\n  <tbody>\n    <tr>\n      <th>0</th>\n      <td>1000</td>\n      <td>0.198419</td>\n      <td>0.304472</td>\n      <td>0.0</td>\n      <td>0.0</td>\n      <td>0.99701</td>\n      <td>0.0</td>\n      <td>0.362708</td>\n    </tr>\n  </tbody>\n</table>\n</div>",
      "text/plain": "      n  śr. arytm.  odch. std  mediana  min      max  I kwantyl  III kwantyl\n0  1000    0.198419   0.304472      0.0  0.0  0.99701        0.0     0.362708"
     },
     "metadata": {
      "transient": {}
     },
     "output_type": "display_data"
    },
    {
     "data": {
      "text/plain": "'0.7_uzupelnianie_srednia_arytm'"
     },
     "metadata": {
      "transient": {}
     },
     "output_type": "display_data"
    },
    {
     "data": {
      "text/html": "<div>\n<style scoped>\n    .dataframe tbody tr th:only-of-type {\n        vertical-align: middle;\n    }\n\n    .dataframe tbody tr th {\n        vertical-align: top;\n    }\n\n    .dataframe thead th {\n        text-align: right;\n    }\n</style>\n<table border=\"1\" class=\"dataframe\">\n  <thead>\n    <tr style=\"text-align: right;\">\n      <th></th>\n      <th>n</th>\n      <th>śr. arytm.</th>\n      <th>odch. std</th>\n      <th>mediana</th>\n      <th>min</th>\n      <th>max</th>\n      <th>I kwantyl</th>\n      <th>III kwantyl</th>\n    </tr>\n  </thead>\n  <tbody>\n    <tr>\n      <th>0</th>\n      <td>1000</td>\n      <td>0.498494</td>\n      <td>0.0</td>\n      <td>0.498494</td>\n      <td>0.498494</td>\n      <td>0.498494</td>\n      <td>0.498494</td>\n      <td>0.498494</td>\n    </tr>\n  </tbody>\n</table>\n</div>",
      "text/plain": "      n  śr. arytm.  odch. std   mediana       min       max  I kwantyl  \\\n0  1000    0.498494        0.0  0.498494  0.498494  0.498494   0.498494   \n\n   III kwantyl  \n0     0.498494  "
     },
     "metadata": {
      "transient": {}
     },
     "output_type": "display_data"
    },
    {
     "data": {
      "text/plain": "'0.7_uzupelnianie_mediana'"
     },
     "metadata": {
      "transient": {}
     },
     "output_type": "display_data"
    },
    {
     "data": {
      "text/html": "<div>\n<style scoped>\n    .dataframe tbody tr th:only-of-type {\n        vertical-align: middle;\n    }\n\n    .dataframe tbody tr th {\n        vertical-align: top;\n    }\n\n    .dataframe thead th {\n        text-align: right;\n    }\n</style>\n<table border=\"1\" class=\"dataframe\">\n  <thead>\n    <tr style=\"text-align: right;\">\n      <th></th>\n      <th>n</th>\n      <th>śr. arytm.</th>\n      <th>odch. std</th>\n      <th>mediana</th>\n      <th>min</th>\n      <th>max</th>\n      <th>I kwantyl</th>\n      <th>III kwantyl</th>\n    </tr>\n  </thead>\n  <tbody>\n    <tr>\n      <th>0</th>\n      <td>1000</td>\n      <td>0.491363</td>\n      <td>0.16227</td>\n      <td>0.488307</td>\n      <td>0.002594</td>\n      <td>0.99701</td>\n      <td>0.488307</td>\n      <td>0.488307</td>\n    </tr>\n  </tbody>\n</table>\n</div>",
      "text/plain": "      n  śr. arytm.  odch. std   mediana       min      max  I kwantyl  \\\n0  1000    0.491363    0.16227  0.488307  0.002594  0.99701   0.488307   \n\n   III kwantyl  \n0     0.488307  "
     },
     "metadata": {
      "transient": {}
     },
     "output_type": "display_data"
    },
    {
     "data": {
      "text/plain": "'0.7_uzupelnianie_losowa'"
     },
     "metadata": {
      "transient": {}
     },
     "output_type": "display_data"
    },
    {
     "data": {
      "text/html": "<div>\n<style scoped>\n    .dataframe tbody tr th:only-of-type {\n        vertical-align: middle;\n    }\n\n    .dataframe tbody tr th {\n        vertical-align: top;\n    }\n\n    .dataframe thead th {\n        text-align: right;\n    }\n</style>\n<table border=\"1\" class=\"dataframe\">\n  <thead>\n    <tr style=\"text-align: right;\">\n      <th></th>\n      <th>n</th>\n      <th>śr. arytm.</th>\n      <th>odch. std</th>\n      <th>mediana</th>\n      <th>min</th>\n      <th>max</th>\n      <th>I kwantyl</th>\n      <th>III kwantyl</th>\n    </tr>\n  </thead>\n  <tbody>\n    <tr>\n      <th>0</th>\n      <td>1000</td>\n      <td>0.149548</td>\n      <td>0.280261</td>\n      <td>0.0</td>\n      <td>0.0</td>\n      <td>0.99701</td>\n      <td>0.0</td>\n      <td>0.156255</td>\n    </tr>\n  </tbody>\n</table>\n</div>",
      "text/plain": "      n  śr. arytm.  odch. std  mediana  min      max  I kwantyl  III kwantyl\n0  1000    0.149548   0.280261      0.0  0.0  0.99701        0.0     0.156255"
     },
     "metadata": {
      "transient": {}
     },
     "output_type": "display_data"
    },
    {
     "data": {
      "text/plain": "'0.8_uzupelnianie_srednia_arytm'"
     },
     "metadata": {
      "transient": {}
     },
     "output_type": "display_data"
    },
    {
     "data": {
      "text/html": "<div>\n<style scoped>\n    .dataframe tbody tr th:only-of-type {\n        vertical-align: middle;\n    }\n\n    .dataframe tbody tr th {\n        vertical-align: top;\n    }\n\n    .dataframe thead th {\n        text-align: right;\n    }\n</style>\n<table border=\"1\" class=\"dataframe\">\n  <thead>\n    <tr style=\"text-align: right;\">\n      <th></th>\n      <th>n</th>\n      <th>śr. arytm.</th>\n      <th>odch. std</th>\n      <th>mediana</th>\n      <th>min</th>\n      <th>max</th>\n      <th>I kwantyl</th>\n      <th>III kwantyl</th>\n    </tr>\n  </thead>\n  <tbody>\n    <tr>\n      <th>0</th>\n      <td>1000</td>\n      <td>0.496538</td>\n      <td>1.110779e-16</td>\n      <td>0.496538</td>\n      <td>0.496538</td>\n      <td>0.496538</td>\n      <td>0.496538</td>\n      <td>0.496538</td>\n    </tr>\n  </tbody>\n</table>\n</div>",
      "text/plain": "      n  śr. arytm.     odch. std   mediana       min       max  I kwantyl  \\\n0  1000    0.496538  1.110779e-16  0.496538  0.496538  0.496538   0.496538   \n\n   III kwantyl  \n0     0.496538  "
     },
     "metadata": {
      "transient": {}
     },
     "output_type": "display_data"
    },
    {
     "data": {
      "text/plain": "'0.8_uzupelnianie_mediana'"
     },
     "metadata": {
      "transient": {}
     },
     "output_type": "display_data"
    },
    {
     "data": {
      "text/html": "<div>\n<style scoped>\n    .dataframe tbody tr th:only-of-type {\n        vertical-align: middle;\n    }\n\n    .dataframe tbody tr th {\n        vertical-align: top;\n    }\n\n    .dataframe thead th {\n        text-align: right;\n    }\n</style>\n<table border=\"1\" class=\"dataframe\">\n  <thead>\n    <tr style=\"text-align: right;\">\n      <th></th>\n      <th>n</th>\n      <th>śr. arytm.</th>\n      <th>odch. std</th>\n      <th>mediana</th>\n      <th>min</th>\n      <th>max</th>\n      <th>I kwantyl</th>\n      <th>III kwantyl</th>\n    </tr>\n  </thead>\n  <tbody>\n    <tr>\n      <th>0</th>\n      <td>1000</td>\n      <td>0.486794</td>\n      <td>0.130585</td>\n      <td>0.484358</td>\n      <td>0.002785</td>\n      <td>0.996791</td>\n      <td>0.484358</td>\n      <td>0.484358</td>\n    </tr>\n  </tbody>\n</table>\n</div>",
      "text/plain": "      n  śr. arytm.  odch. std   mediana       min       max  I kwantyl  \\\n0  1000    0.486794   0.130585  0.484358  0.002785  0.996791   0.484358   \n\n   III kwantyl  \n0     0.484358  "
     },
     "metadata": {
      "transient": {}
     },
     "output_type": "display_data"
    },
    {
     "data": {
      "text/plain": "'0.8_uzupelnianie_losowa'"
     },
     "metadata": {
      "transient": {}
     },
     "output_type": "display_data"
    },
    {
     "data": {
      "text/html": "<div>\n<style scoped>\n    .dataframe tbody tr th:only-of-type {\n        vertical-align: middle;\n    }\n\n    .dataframe tbody tr th {\n        vertical-align: top;\n    }\n\n    .dataframe thead th {\n        text-align: right;\n    }\n</style>\n<table border=\"1\" class=\"dataframe\">\n  <thead>\n    <tr style=\"text-align: right;\">\n      <th></th>\n      <th>n</th>\n      <th>śr. arytm.</th>\n      <th>odch. std</th>\n      <th>mediana</th>\n      <th>min</th>\n      <th>max</th>\n      <th>I kwantyl</th>\n      <th>III kwantyl</th>\n    </tr>\n  </thead>\n  <tbody>\n    <tr>\n      <th>0</th>\n      <td>1000</td>\n      <td>0.099308</td>\n      <td>0.237731</td>\n      <td>0.0</td>\n      <td>0.0</td>\n      <td>0.996791</td>\n      <td>0.0</td>\n      <td>0.0</td>\n    </tr>\n  </tbody>\n</table>\n</div>",
      "text/plain": "      n  śr. arytm.  odch. std  mediana  min       max  I kwantyl  III kwantyl\n0  1000    0.099308   0.237731      0.0  0.0  0.996791        0.0          0.0"
     },
     "metadata": {
      "transient": {}
     },
     "output_type": "display_data"
    }
   ],
   "source": [
    "from random import randint\n",
    "\n",
    "def prefill(_df):\n",
    "  cols = _df.columns\n",
    "  for col in cols:\n",
    "    mean = str(col) + '_uzupelnianie_srednia_arytm'\n",
    "    median = str(col) + '_uzupelnianie_mediana'\n",
    "    random = str( col ) + '_uzupelnianie_losowa'\n",
    "    _df[mean] = _df[col].fillna(_df[col]).mean()\n",
    "    _df[median] = _df[col].fillna(_df[col].median())\n",
    "\n",
    "\n",
    "    min = _df[col].min()\n",
    "    max = _df[col].max()\n",
    "    if max==0: \n",
    "      return\n",
    "    _df[random] = _df[col].fillna(randint(int(min),int(max)))\n",
    "\n",
    "  \n",
    "prefill(normal_variants)\n",
    "prefill(uniform_variants)\n",
    "\n",
    "display(\"Prefill danych dla rozkladu normalnego\")\n",
    "for column in normal_variants:\n",
    "  display(column)\n",
    "  print_basic_stats(normal_variants[column])\n",
    "\n",
    "display(\"Prefill danych dla rozkladu jednolitego\")\n",
    "for column in uniform_variants:\n",
    "  display(column)\n",
    "  print_basic_stats(uniform_variants[column])\n",
    "\n",
    "# def fill_mean(_df):\n",
    "#   for col in _df.columns:\n",
    "#     mean = _df[col].mean()\n",
    "#     _df[col].fillna(mean)\n",
    "\n",
    "# def fill_median(_df):\n",
    "#   for col in _df.columns:\n",
    "#     mean = _df[col].mean()\n",
    "#     _df[col].fillna(mean)\n",
    "\n",
    "# def fill_random(_df):\n",
    "#   for col in _df.columns:\n",
    "#     min = _df[col].min()\n",
    "#     max = _df[col].max()\n",
    "#     _df[col].fillna(randrange(min, max))\n",
    "\n",
    "normal_variants.plot(subplots=True)\n",
    "uniform_variants.plot(subplots=True)\n",
    "    \n"
   ]
  },
  {
   "cell_type": "code",
   "execution_count": null,
   "metadata": {},
   "outputs": [],
   "source": []
  },
  {
   "cell_type": "code",
   "execution_count": null,
   "metadata": {},
   "outputs": [],
   "source": []
  }
 ],
 "metadata": {
  "kernelspec": {
   "display_name": "Python 3",
   "name": "python3"
  },
  "language_info": {
   "codemirror_mode": {
    "name": "ipython",
    "version": 3
   },
   "file_extension": ".py",
   "mimetype": "text/x-python",
   "name": "python",
   "nbconvert_exporter": "python",
   "pygments_lexer": "ipython3",
   "version": "3.8.5"
  },
  "orig_nbformat": 2
 },
 "nbformat": 4,
 "nbformat_minor": 2
}