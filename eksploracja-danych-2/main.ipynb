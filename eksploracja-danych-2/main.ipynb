{
 "cells": [
  {
   "cell_type": "markdown",
   "metadata": {},
   "source": [
    "Zadanie polegające na sprawdzeniu w jaki sposób wypełnianie braków danych wpływa na podstawowe statystyki zmiennych losowych.\n",
    "\n",
    "    Wygeneruj dwie próbki 500-1000 elementowe (dowolny sposób - rozkład jednostajny; rozkład normalny)\n",
    "\n",
    "Dla obu próbek powtórz:\n",
    "\n",
    "    Oblicz dla próbki podstawowe statystyki - średnią, odchylenie standardowe, min, max, medianę, kwartyle\n",
    "    Na podstawie oryginalnej próbki stwórz serię próbek usuwając 10%, 20%, 30%, 40%, 50%, 60%, 70%, 80% danych (w każdej próbce powinny być usuwane te same elementy, tylko rozszerzamy zakres usuniętych obserwacji)\n",
    "    Oblicz podstawowe statystyki dla tych próbek (tak jak w pkt. 2.)\n",
    "    Wypełnij nowe próbki\n",
    "        wartością średnią (z pkt. 4 odpowiednią dla każdej kolumny, np. dla kolumny z usuniętymi 20% danymi, liczymy średnią z wartościami pustymi i następnie tą średnią uzupełniamy braki w tej kolumnie)\n",
    "        medianą\n",
    "        wylosowanymi w sposób losowy nowymi wartościami (najlepiej z tego samego rozkładu jak dane oryginalne z pierwszej próbki)\n",
    "    Oblicz podstawowe statystyki dla wypełnionych danych i przeanalizuj\n",
    "        jak wpływa na statystyki brak danych (zwiększający się procent braków)\n",
    "        jak wpływa wypełnianie braków średnią, medianą\n",
    "        jak wpływa wypełnianie braków losowymi wartościami\n",
    "\n",
    "\n",
    "Mile widziany będzie wykres z procentem braków na osi X oraz wybranymi statystykami na osi Y. Można zrobić oddzielny wykres dla statystyk pozycyjnych oraz oddzielny dla rozproszenia (odchylenie standardowe).\n"
   ]
  },
  {
   "cell_type": "code",
   "execution_count": 2,
   "metadata": {},
   "outputs": [],
   "source": [
    "import numpy\n",
    "import pandas as pd\n",
    "import math\n",
    "size = 1000\n",
    "# Wygeneruj próbke rozklad jednostajny\n",
    "df_uniform = pd.DataFrame(numpy.random.uniform(size=size))\n",
    "\n",
    "# Rozklad normalny\n",
    "df_normal = pd.DataFrame(numpy.random.normal(165.5, 7.5, size=size))\n",
    "\n"
   ]
  },
  {
   "cell_type": "code",
   "execution_count": null,
   "metadata": {},
   "outputs": [],
   "source": []
  },
  {
   "cell_type": "code",
   "execution_count": 3,
   "metadata": {},
   "outputs": [
    {
     "data": {
      "text/plain": "'uniform'"
     },
     "metadata": {
      "transient": {}
     },
     "output_type": "display_data"
    },
    {
     "data": {
      "text/html": "<div>\n<style scoped>\n    .dataframe tbody tr th:only-of-type {\n        vertical-align: middle;\n    }\n\n    .dataframe tbody tr th {\n        vertical-align: top;\n    }\n\n    .dataframe thead th {\n        text-align: right;\n    }\n</style>\n<table border=\"1\" class=\"dataframe\">\n  <thead>\n    <tr style=\"text-align: right;\">\n      <th></th>\n      <th>n</th>\n      <th>śr. arytm.</th>\n      <th>odch. std</th>\n      <th>mediana</th>\n      <th>min</th>\n      <th>max</th>\n      <th>I kwantyl</th>\n      <th>III kwantyl</th>\n    </tr>\n  </thead>\n  <tbody>\n    <tr>\n      <th>0</th>\n      <td>1000</td>\n      <td>0.489468</td>\n      <td>0.286879</td>\n      <td>0.478497</td>\n      <td>0.000779</td>\n      <td>0.998564</td>\n      <td>0.235811</td>\n      <td>0.741599</td>\n    </tr>\n  </tbody>\n</table>\n</div>",
      "text/plain": "      n  śr. arytm.  odch. std   mediana       min       max  I kwantyl  \\\n0  1000    0.489468   0.286879  0.478497  0.000779  0.998564   0.235811   \n\n   III kwantyl  \n0     0.741599  "
     },
     "metadata": {
      "transient": {}
     },
     "output_type": "display_data"
    },
    {
     "data": {
      "text/plain": "'normal'"
     },
     "metadata": {
      "transient": {}
     },
     "output_type": "display_data"
    },
    {
     "data": {
      "text/html": "<div>\n<style scoped>\n    .dataframe tbody tr th:only-of-type {\n        vertical-align: middle;\n    }\n\n    .dataframe tbody tr th {\n        vertical-align: top;\n    }\n\n    .dataframe thead th {\n        text-align: right;\n    }\n</style>\n<table border=\"1\" class=\"dataframe\">\n  <thead>\n    <tr style=\"text-align: right;\">\n      <th></th>\n      <th>n</th>\n      <th>śr. arytm.</th>\n      <th>odch. std</th>\n      <th>mediana</th>\n      <th>min</th>\n      <th>max</th>\n      <th>I kwantyl</th>\n      <th>III kwantyl</th>\n    </tr>\n  </thead>\n  <tbody>\n    <tr>\n      <th>0</th>\n      <td>1000</td>\n      <td>165.581412</td>\n      <td>7.315189</td>\n      <td>165.803951</td>\n      <td>143.597732</td>\n      <td>185.026666</td>\n      <td>160.411961</td>\n      <td>170.539499</td>\n    </tr>\n  </tbody>\n</table>\n</div>",
      "text/plain": "      n  śr. arytm.  odch. std     mediana         min         max  \\\n0  1000  165.581412   7.315189  165.803951  143.597732  185.026666   \n\n    I kwantyl  III kwantyl  \n0  160.411961   170.539499  "
     },
     "metadata": {
      "transient": {}
     },
     "output_type": "display_data"
    }
   ],
   "source": [
    "from IPython.display import display\n",
    "def print_basic_stats(df):\n",
    "  #n\n",
    "  n = len(df)\n",
    "  # print(\"n\", n)\n",
    "\n",
    "  # śr ar.\n",
    "  mean = df.mean(axis=0)\n",
    "  # print(\"mean\",mean)\n",
    "  \n",
    "  # odch_st\n",
    "  std = df.std()\n",
    "  #print(\"std\",std)\n",
    "  \n",
    "  # Me\n",
    "  median = df.median()\n",
    "  #print(\"mediuan\", median)\n",
    "\n",
    "  # Q1\n",
    "  # Q3\n",
    "  # min;max\n",
    "  max = df.max()\n",
    "  min = df.min()\n",
    "  \n",
    "  q1 = df.quantile(0.25)\n",
    "  q3 = df.quantile(0.75)\n",
    "  # print(\"maxmin\", max, min)\n",
    "  _table = pd.DataFrame([[n, mean, std, median, min, max, q1, q3 ]], columns=[\"n\", \"śr. arytm.\", \"odch. std\", \"mediana\", \"min\", \"max\", \"I kwantyl\", \"III kwantyl\"]) # \"mean\", \"std\", \"median\", \"max\", \"min\"])\n",
    "  display(_table)\n",
    "def snip_every_x_result(set, x):\n",
    "  return set[::x]\n",
    "  \n",
    "\n",
    "display('uniform')\n",
    "print_basic_stats(df_uniform[0])\n",
    "\n",
    "\n",
    "display('normal')\n",
    "print_basic_stats(df_normal[0])\n"
   ]
  },
  {
   "cell_type": "code",
   "execution_count": 4,
   "metadata": {},
   "outputs": [
    {
     "data": {
      "text/plain": "'ROZKLAD NORMALNY'"
     },
     "metadata": {
      "transient": {}
     },
     "output_type": "display_data"
    },
    {
     "data": {
      "text/html": "<div>\n<style scoped>\n    .dataframe tbody tr th:only-of-type {\n        vertical-align: middle;\n    }\n\n    .dataframe tbody tr th {\n        vertical-align: top;\n    }\n\n    .dataframe thead th {\n        text-align: right;\n    }\n</style>\n<table border=\"1\" class=\"dataframe\">\n  <thead>\n    <tr style=\"text-align: right;\">\n      <th></th>\n      <th>n</th>\n      <th>śr. arytm.</th>\n      <th>odch. std</th>\n      <th>mediana</th>\n      <th>min</th>\n      <th>max</th>\n      <th>I kwantyl</th>\n      <th>III kwantyl</th>\n    </tr>\n  </thead>\n  <tbody>\n    <tr>\n      <th>0</th>\n      <td>1000</td>\n      <td>165.581412</td>\n      <td>7.315189</td>\n      <td>165.803951</td>\n      <td>143.597732</td>\n      <td>185.026666</td>\n      <td>160.411961</td>\n      <td>170.539499</td>\n    </tr>\n  </tbody>\n</table>\n</div>",
      "text/plain": "      n  śr. arytm.  odch. std     mediana         min         max  \\\n0  1000  165.581412   7.315189  165.803951  143.597732  185.026666   \n\n    I kwantyl  III kwantyl  \n0  160.411961   170.539499  "
     },
     "metadata": {
      "transient": {}
     },
     "output_type": "display_data"
    },
    {
     "data": {
      "text/html": "<div>\n<style scoped>\n    .dataframe tbody tr th:only-of-type {\n        vertical-align: middle;\n    }\n\n    .dataframe tbody tr th {\n        vertical-align: top;\n    }\n\n    .dataframe thead th {\n        text-align: right;\n    }\n</style>\n<table border=\"1\" class=\"dataframe\">\n  <thead>\n    <tr style=\"text-align: right;\">\n      <th></th>\n      <th>n</th>\n      <th>śr. arytm.</th>\n      <th>odch. std</th>\n      <th>mediana</th>\n      <th>min</th>\n      <th>max</th>\n      <th>I kwantyl</th>\n      <th>III kwantyl</th>\n    </tr>\n  </thead>\n  <tbody>\n    <tr>\n      <th>0</th>\n      <td>1000</td>\n      <td>165.620558</td>\n      <td>7.275544</td>\n      <td>165.899011</td>\n      <td>143.597732</td>\n      <td>184.33789</td>\n      <td>160.539667</td>\n      <td>170.570395</td>\n    </tr>\n  </tbody>\n</table>\n</div>",
      "text/plain": "      n  śr. arytm.  odch. std     mediana         min        max   I kwantyl  \\\n0  1000  165.620558   7.275544  165.899011  143.597732  184.33789  160.539667   \n\n   III kwantyl  \n0   170.570395  "
     },
     "metadata": {
      "transient": {}
     },
     "output_type": "display_data"
    },
    {
     "data": {
      "text/html": "<div>\n<style scoped>\n    .dataframe tbody tr th:only-of-type {\n        vertical-align: middle;\n    }\n\n    .dataframe tbody tr th {\n        vertical-align: top;\n    }\n\n    .dataframe thead th {\n        text-align: right;\n    }\n</style>\n<table border=\"1\" class=\"dataframe\">\n  <thead>\n    <tr style=\"text-align: right;\">\n      <th></th>\n      <th>n</th>\n      <th>śr. arytm.</th>\n      <th>odch. std</th>\n      <th>mediana</th>\n      <th>min</th>\n      <th>max</th>\n      <th>I kwantyl</th>\n      <th>III kwantyl</th>\n    </tr>\n  </thead>\n  <tbody>\n    <tr>\n      <th>0</th>\n      <td>1000</td>\n      <td>165.680911</td>\n      <td>7.256678</td>\n      <td>165.987998</td>\n      <td>143.597732</td>\n      <td>184.33789</td>\n      <td>160.614711</td>\n      <td>170.632231</td>\n    </tr>\n  </tbody>\n</table>\n</div>",
      "text/plain": "      n  śr. arytm.  odch. std     mediana         min        max   I kwantyl  \\\n0  1000  165.680911   7.256678  165.987998  143.597732  184.33789  160.614711   \n\n   III kwantyl  \n0   170.632231  "
     },
     "metadata": {
      "transient": {}
     },
     "output_type": "display_data"
    },
    {
     "data": {
      "text/html": "<div>\n<style scoped>\n    .dataframe tbody tr th:only-of-type {\n        vertical-align: middle;\n    }\n\n    .dataframe tbody tr th {\n        vertical-align: top;\n    }\n\n    .dataframe thead th {\n        text-align: right;\n    }\n</style>\n<table border=\"1\" class=\"dataframe\">\n  <thead>\n    <tr style=\"text-align: right;\">\n      <th></th>\n      <th>n</th>\n      <th>śr. arytm.</th>\n      <th>odch. std</th>\n      <th>mediana</th>\n      <th>min</th>\n      <th>max</th>\n      <th>I kwantyl</th>\n      <th>III kwantyl</th>\n    </tr>\n  </thead>\n  <tbody>\n    <tr>\n      <th>0</th>\n      <td>1000</td>\n      <td>165.77094</td>\n      <td>7.276605</td>\n      <td>166.068944</td>\n      <td>143.597732</td>\n      <td>184.33789</td>\n      <td>160.839731</td>\n      <td>170.642124</td>\n    </tr>\n  </tbody>\n</table>\n</div>",
      "text/plain": "      n  śr. arytm.  odch. std     mediana         min        max   I kwantyl  \\\n0  1000   165.77094   7.276605  166.068944  143.597732  184.33789  160.839731   \n\n   III kwantyl  \n0   170.642124  "
     },
     "metadata": {
      "transient": {}
     },
     "output_type": "display_data"
    },
    {
     "data": {
      "text/html": "<div>\n<style scoped>\n    .dataframe tbody tr th:only-of-type {\n        vertical-align: middle;\n    }\n\n    .dataframe tbody tr th {\n        vertical-align: top;\n    }\n\n    .dataframe thead th {\n        text-align: right;\n    }\n</style>\n<table border=\"1\" class=\"dataframe\">\n  <thead>\n    <tr style=\"text-align: right;\">\n      <th></th>\n      <th>n</th>\n      <th>śr. arytm.</th>\n      <th>odch. std</th>\n      <th>mediana</th>\n      <th>min</th>\n      <th>max</th>\n      <th>I kwantyl</th>\n      <th>III kwantyl</th>\n    </tr>\n  </thead>\n  <tbody>\n    <tr>\n      <th>0</th>\n      <td>1000</td>\n      <td>165.602939</td>\n      <td>7.213576</td>\n      <td>165.958878</td>\n      <td>143.597732</td>\n      <td>184.33789</td>\n      <td>160.764009</td>\n      <td>170.430807</td>\n    </tr>\n  </tbody>\n</table>\n</div>",
      "text/plain": "      n  śr. arytm.  odch. std     mediana         min        max   I kwantyl  \\\n0  1000  165.602939   7.213576  165.958878  143.597732  184.33789  160.764009   \n\n   III kwantyl  \n0   170.430807  "
     },
     "metadata": {
      "transient": {}
     },
     "output_type": "display_data"
    },
    {
     "data": {
      "text/html": "<div>\n<style scoped>\n    .dataframe tbody tr th:only-of-type {\n        vertical-align: middle;\n    }\n\n    .dataframe tbody tr th {\n        vertical-align: top;\n    }\n\n    .dataframe thead th {\n        text-align: right;\n    }\n</style>\n<table border=\"1\" class=\"dataframe\">\n  <thead>\n    <tr style=\"text-align: right;\">\n      <th></th>\n      <th>n</th>\n      <th>śr. arytm.</th>\n      <th>odch. std</th>\n      <th>mediana</th>\n      <th>min</th>\n      <th>max</th>\n      <th>I kwantyl</th>\n      <th>III kwantyl</th>\n    </tr>\n  </thead>\n  <tbody>\n    <tr>\n      <th>0</th>\n      <td>1000</td>\n      <td>165.608214</td>\n      <td>7.230883</td>\n      <td>166.083481</td>\n      <td>143.597732</td>\n      <td>184.050836</td>\n      <td>160.615386</td>\n      <td>170.430807</td>\n    </tr>\n  </tbody>\n</table>\n</div>",
      "text/plain": "      n  śr. arytm.  odch. std     mediana         min         max  \\\n0  1000  165.608214   7.230883  166.083481  143.597732  184.050836   \n\n    I kwantyl  III kwantyl  \n0  160.615386   170.430807  "
     },
     "metadata": {
      "transient": {}
     },
     "output_type": "display_data"
    },
    {
     "data": {
      "text/html": "<div>\n<style scoped>\n    .dataframe tbody tr th:only-of-type {\n        vertical-align: middle;\n    }\n\n    .dataframe tbody tr th {\n        vertical-align: top;\n    }\n\n    .dataframe thead th {\n        text-align: right;\n    }\n</style>\n<table border=\"1\" class=\"dataframe\">\n  <thead>\n    <tr style=\"text-align: right;\">\n      <th></th>\n      <th>n</th>\n      <th>śr. arytm.</th>\n      <th>odch. std</th>\n      <th>mediana</th>\n      <th>min</th>\n      <th>max</th>\n      <th>I kwantyl</th>\n      <th>III kwantyl</th>\n    </tr>\n  </thead>\n  <tbody>\n    <tr>\n      <th>0</th>\n      <td>1000</td>\n      <td>165.510447</td>\n      <td>7.216662</td>\n      <td>165.892154</td>\n      <td>143.597732</td>\n      <td>184.050836</td>\n      <td>160.781425</td>\n      <td>170.184778</td>\n    </tr>\n  </tbody>\n</table>\n</div>",
      "text/plain": "      n  śr. arytm.  odch. std     mediana         min         max  \\\n0  1000  165.510447   7.216662  165.892154  143.597732  184.050836   \n\n    I kwantyl  III kwantyl  \n0  160.781425   170.184778  "
     },
     "metadata": {
      "transient": {}
     },
     "output_type": "display_data"
    },
    {
     "data": {
      "text/html": "<div>\n<style scoped>\n    .dataframe tbody tr th:only-of-type {\n        vertical-align: middle;\n    }\n\n    .dataframe tbody tr th {\n        vertical-align: top;\n    }\n\n    .dataframe thead th {\n        text-align: right;\n    }\n</style>\n<table border=\"1\" class=\"dataframe\">\n  <thead>\n    <tr style=\"text-align: right;\">\n      <th></th>\n      <th>n</th>\n      <th>śr. arytm.</th>\n      <th>odch. std</th>\n      <th>mediana</th>\n      <th>min</th>\n      <th>max</th>\n      <th>I kwantyl</th>\n      <th>III kwantyl</th>\n    </tr>\n  </thead>\n  <tbody>\n    <tr>\n      <th>0</th>\n      <td>1000</td>\n      <td>165.595209</td>\n      <td>7.364633</td>\n      <td>165.988428</td>\n      <td>143.597732</td>\n      <td>184.050836</td>\n      <td>160.839731</td>\n      <td>170.184778</td>\n    </tr>\n  </tbody>\n</table>\n</div>",
      "text/plain": "      n  śr. arytm.  odch. std     mediana         min         max  \\\n0  1000  165.595209   7.364633  165.988428  143.597732  184.050836   \n\n    I kwantyl  III kwantyl  \n0  160.839731   170.184778  "
     },
     "metadata": {
      "transient": {}
     },
     "output_type": "display_data"
    },
    {
     "data": {
      "text/html": "<div>\n<style scoped>\n    .dataframe tbody tr th:only-of-type {\n        vertical-align: middle;\n    }\n\n    .dataframe tbody tr th {\n        vertical-align: top;\n    }\n\n    .dataframe thead th {\n        text-align: right;\n    }\n</style>\n<table border=\"1\" class=\"dataframe\">\n  <thead>\n    <tr style=\"text-align: right;\">\n      <th></th>\n      <th>n</th>\n      <th>śr. arytm.</th>\n      <th>odch. std</th>\n      <th>mediana</th>\n      <th>min</th>\n      <th>max</th>\n      <th>I kwantyl</th>\n      <th>III kwantyl</th>\n    </tr>\n  </thead>\n  <tbody>\n    <tr>\n      <th>0</th>\n      <td>1000</td>\n      <td>165.826165</td>\n      <td>7.251363</td>\n      <td>166.172942</td>\n      <td>143.597732</td>\n      <td>181.898289</td>\n      <td>160.937069</td>\n      <td>170.191941</td>\n    </tr>\n  </tbody>\n</table>\n</div>",
      "text/plain": "      n  śr. arytm.  odch. std     mediana         min         max  \\\n0  1000  165.826165   7.251363  166.172942  143.597732  181.898289   \n\n    I kwantyl  III kwantyl  \n0  160.937069   170.191941  "
     },
     "metadata": {
      "transient": {}
     },
     "output_type": "display_data"
    },
    {
     "data": {
      "text/plain": "'KONIEC--------------------------------------'"
     },
     "metadata": {
      "transient": {}
     },
     "output_type": "display_data"
    },
    {
     "data": {
      "text/plain": "'ROZKLAD JEDNOSTAJNY'"
     },
     "metadata": {
      "transient": {}
     },
     "output_type": "display_data"
    },
    {
     "data": {
      "text/html": "<div>\n<style scoped>\n    .dataframe tbody tr th:only-of-type {\n        vertical-align: middle;\n    }\n\n    .dataframe tbody tr th {\n        vertical-align: top;\n    }\n\n    .dataframe thead th {\n        text-align: right;\n    }\n</style>\n<table border=\"1\" class=\"dataframe\">\n  <thead>\n    <tr style=\"text-align: right;\">\n      <th></th>\n      <th>n</th>\n      <th>śr. arytm.</th>\n      <th>odch. std</th>\n      <th>mediana</th>\n      <th>min</th>\n      <th>max</th>\n      <th>I kwantyl</th>\n      <th>III kwantyl</th>\n    </tr>\n  </thead>\n  <tbody>\n    <tr>\n      <th>0</th>\n      <td>1000</td>\n      <td>0.489468</td>\n      <td>0.286879</td>\n      <td>0.478497</td>\n      <td>0.000779</td>\n      <td>0.998564</td>\n      <td>0.235811</td>\n      <td>0.741599</td>\n    </tr>\n  </tbody>\n</table>\n</div>",
      "text/plain": "      n  śr. arytm.  odch. std   mediana       min       max  I kwantyl  \\\n0  1000    0.489468   0.286879  0.478497  0.000779  0.998564   0.235811   \n\n   III kwantyl  \n0     0.741599  "
     },
     "metadata": {
      "transient": {}
     },
     "output_type": "display_data"
    },
    {
     "data": {
      "text/html": "<div>\n<style scoped>\n    .dataframe tbody tr th:only-of-type {\n        vertical-align: middle;\n    }\n\n    .dataframe tbody tr th {\n        vertical-align: top;\n    }\n\n    .dataframe thead th {\n        text-align: right;\n    }\n</style>\n<table border=\"1\" class=\"dataframe\">\n  <thead>\n    <tr style=\"text-align: right;\">\n      <th></th>\n      <th>n</th>\n      <th>śr. arytm.</th>\n      <th>odch. std</th>\n      <th>mediana</th>\n      <th>min</th>\n      <th>max</th>\n      <th>I kwantyl</th>\n      <th>III kwantyl</th>\n    </tr>\n  </thead>\n  <tbody>\n    <tr>\n      <th>0</th>\n      <td>1000</td>\n      <td>0.487431</td>\n      <td>0.287644</td>\n      <td>0.474683</td>\n      <td>0.000779</td>\n      <td>0.998564</td>\n      <td>0.235117</td>\n      <td>0.739934</td>\n    </tr>\n  </tbody>\n</table>\n</div>",
      "text/plain": "      n  śr. arytm.  odch. std   mediana       min       max  I kwantyl  \\\n0  1000    0.487431   0.287644  0.474683  0.000779  0.998564   0.235117   \n\n   III kwantyl  \n0     0.739934  "
     },
     "metadata": {
      "transient": {}
     },
     "output_type": "display_data"
    },
    {
     "data": {
      "text/html": "<div>\n<style scoped>\n    .dataframe tbody tr th:only-of-type {\n        vertical-align: middle;\n    }\n\n    .dataframe tbody tr th {\n        vertical-align: top;\n    }\n\n    .dataframe thead th {\n        text-align: right;\n    }\n</style>\n<table border=\"1\" class=\"dataframe\">\n  <thead>\n    <tr style=\"text-align: right;\">\n      <th></th>\n      <th>n</th>\n      <th>śr. arytm.</th>\n      <th>odch. std</th>\n      <th>mediana</th>\n      <th>min</th>\n      <th>max</th>\n      <th>I kwantyl</th>\n      <th>III kwantyl</th>\n    </tr>\n  </thead>\n  <tbody>\n    <tr>\n      <th>0</th>\n      <td>1000</td>\n      <td>0.491536</td>\n      <td>0.286773</td>\n      <td>0.479613</td>\n      <td>0.000779</td>\n      <td>0.998564</td>\n      <td>0.256604</td>\n      <td>0.745677</td>\n    </tr>\n  </tbody>\n</table>\n</div>",
      "text/plain": "      n  śr. arytm.  odch. std   mediana       min       max  I kwantyl  \\\n0  1000    0.491536   0.286773  0.479613  0.000779  0.998564   0.256604   \n\n   III kwantyl  \n0     0.745677  "
     },
     "metadata": {
      "transient": {}
     },
     "output_type": "display_data"
    },
    {
     "data": {
      "text/html": "<div>\n<style scoped>\n    .dataframe tbody tr th:only-of-type {\n        vertical-align: middle;\n    }\n\n    .dataframe tbody tr th {\n        vertical-align: top;\n    }\n\n    .dataframe thead th {\n        text-align: right;\n    }\n</style>\n<table border=\"1\" class=\"dataframe\">\n  <thead>\n    <tr style=\"text-align: right;\">\n      <th></th>\n      <th>n</th>\n      <th>śr. arytm.</th>\n      <th>odch. std</th>\n      <th>mediana</th>\n      <th>min</th>\n      <th>max</th>\n      <th>I kwantyl</th>\n      <th>III kwantyl</th>\n    </tr>\n  </thead>\n  <tbody>\n    <tr>\n      <th>0</th>\n      <td>1000</td>\n      <td>0.493488</td>\n      <td>0.286152</td>\n      <td>0.482608</td>\n      <td>0.000779</td>\n      <td>0.998037</td>\n      <td>0.256604</td>\n      <td>0.746258</td>\n    </tr>\n  </tbody>\n</table>\n</div>",
      "text/plain": "      n  śr. arytm.  odch. std   mediana       min       max  I kwantyl  \\\n0  1000    0.493488   0.286152  0.482608  0.000779  0.998037   0.256604   \n\n   III kwantyl  \n0     0.746258  "
     },
     "metadata": {
      "transient": {}
     },
     "output_type": "display_data"
    },
    {
     "data": {
      "text/html": "<div>\n<style scoped>\n    .dataframe tbody tr th:only-of-type {\n        vertical-align: middle;\n    }\n\n    .dataframe tbody tr th {\n        vertical-align: top;\n    }\n\n    .dataframe thead th {\n        text-align: right;\n    }\n</style>\n<table border=\"1\" class=\"dataframe\">\n  <thead>\n    <tr style=\"text-align: right;\">\n      <th></th>\n      <th>n</th>\n      <th>śr. arytm.</th>\n      <th>odch. std</th>\n      <th>mediana</th>\n      <th>min</th>\n      <th>max</th>\n      <th>I kwantyl</th>\n      <th>III kwantyl</th>\n    </tr>\n  </thead>\n  <tbody>\n    <tr>\n      <th>0</th>\n      <td>1000</td>\n      <td>0.492015</td>\n      <td>0.284621</td>\n      <td>0.476937</td>\n      <td>0.000779</td>\n      <td>0.998037</td>\n      <td>0.256604</td>\n      <td>0.738657</td>\n    </tr>\n  </tbody>\n</table>\n</div>",
      "text/plain": "      n  śr. arytm.  odch. std   mediana       min       max  I kwantyl  \\\n0  1000    0.492015   0.284621  0.476937  0.000779  0.998037   0.256604   \n\n   III kwantyl  \n0     0.738657  "
     },
     "metadata": {
      "transient": {}
     },
     "output_type": "display_data"
    },
    {
     "data": {
      "text/html": "<div>\n<style scoped>\n    .dataframe tbody tr th:only-of-type {\n        vertical-align: middle;\n    }\n\n    .dataframe tbody tr th {\n        vertical-align: top;\n    }\n\n    .dataframe thead th {\n        text-align: right;\n    }\n</style>\n<table border=\"1\" class=\"dataframe\">\n  <thead>\n    <tr style=\"text-align: right;\">\n      <th></th>\n      <th>n</th>\n      <th>śr. arytm.</th>\n      <th>odch. std</th>\n      <th>mediana</th>\n      <th>min</th>\n      <th>max</th>\n      <th>I kwantyl</th>\n      <th>III kwantyl</th>\n    </tr>\n  </thead>\n  <tbody>\n    <tr>\n      <th>0</th>\n      <td>1000</td>\n      <td>0.500957</td>\n      <td>0.283571</td>\n      <td>0.485453</td>\n      <td>0.000779</td>\n      <td>0.997199</td>\n      <td>0.265083</td>\n      <td>0.749325</td>\n    </tr>\n  </tbody>\n</table>\n</div>",
      "text/plain": "      n  śr. arytm.  odch. std   mediana       min       max  I kwantyl  \\\n0  1000    0.500957   0.283571  0.485453  0.000779  0.997199   0.265083   \n\n   III kwantyl  \n0     0.749325  "
     },
     "metadata": {
      "transient": {}
     },
     "output_type": "display_data"
    },
    {
     "data": {
      "text/html": "<div>\n<style scoped>\n    .dataframe tbody tr th:only-of-type {\n        vertical-align: middle;\n    }\n\n    .dataframe tbody tr th {\n        vertical-align: top;\n    }\n\n    .dataframe thead th {\n        text-align: right;\n    }\n</style>\n<table border=\"1\" class=\"dataframe\">\n  <thead>\n    <tr style=\"text-align: right;\">\n      <th></th>\n      <th>n</th>\n      <th>śr. arytm.</th>\n      <th>odch. std</th>\n      <th>mediana</th>\n      <th>min</th>\n      <th>max</th>\n      <th>I kwantyl</th>\n      <th>III kwantyl</th>\n    </tr>\n  </thead>\n  <tbody>\n    <tr>\n      <th>0</th>\n      <td>1000</td>\n      <td>0.494282</td>\n      <td>0.284153</td>\n      <td>0.476121</td>\n      <td>0.000779</td>\n      <td>0.997199</td>\n      <td>0.256221</td>\n      <td>0.745677</td>\n    </tr>\n  </tbody>\n</table>\n</div>",
      "text/plain": "      n  śr. arytm.  odch. std   mediana       min       max  I kwantyl  \\\n0  1000    0.494282   0.284153  0.476121  0.000779  0.997199   0.256221   \n\n   III kwantyl  \n0     0.745677  "
     },
     "metadata": {
      "transient": {}
     },
     "output_type": "display_data"
    },
    {
     "data": {
      "text/html": "<div>\n<style scoped>\n    .dataframe tbody tr th:only-of-type {\n        vertical-align: middle;\n    }\n\n    .dataframe tbody tr th {\n        vertical-align: top;\n    }\n\n    .dataframe thead th {\n        text-align: right;\n    }\n</style>\n<table border=\"1\" class=\"dataframe\">\n  <thead>\n    <tr style=\"text-align: right;\">\n      <th></th>\n      <th>n</th>\n      <th>śr. arytm.</th>\n      <th>odch. std</th>\n      <th>mediana</th>\n      <th>min</th>\n      <th>max</th>\n      <th>I kwantyl</th>\n      <th>III kwantyl</th>\n    </tr>\n  </thead>\n  <tbody>\n    <tr>\n      <th>0</th>\n      <td>1000</td>\n      <td>0.489636</td>\n      <td>0.28758</td>\n      <td>0.46248</td>\n      <td>0.000779</td>\n      <td>0.997199</td>\n      <td>0.233695</td>\n      <td>0.736924</td>\n    </tr>\n  </tbody>\n</table>\n</div>",
      "text/plain": "      n  śr. arytm.  odch. std  mediana       min       max  I kwantyl  \\\n0  1000    0.489636    0.28758  0.46248  0.000779  0.997199   0.233695   \n\n   III kwantyl  \n0     0.736924  "
     },
     "metadata": {
      "transient": {}
     },
     "output_type": "display_data"
    },
    {
     "data": {
      "text/html": "<div>\n<style scoped>\n    .dataframe tbody tr th:only-of-type {\n        vertical-align: middle;\n    }\n\n    .dataframe tbody tr th {\n        vertical-align: top;\n    }\n\n    .dataframe thead th {\n        text-align: right;\n    }\n</style>\n<table border=\"1\" class=\"dataframe\">\n  <thead>\n    <tr style=\"text-align: right;\">\n      <th></th>\n      <th>n</th>\n      <th>śr. arytm.</th>\n      <th>odch. std</th>\n      <th>mediana</th>\n      <th>min</th>\n      <th>max</th>\n      <th>I kwantyl</th>\n      <th>III kwantyl</th>\n    </tr>\n  </thead>\n  <tbody>\n    <tr>\n      <th>0</th>\n      <td>1000</td>\n      <td>0.491801</td>\n      <td>0.287017</td>\n      <td>0.472652</td>\n      <td>0.000779</td>\n      <td>0.989291</td>\n      <td>0.227985</td>\n      <td>0.745903</td>\n    </tr>\n  </tbody>\n</table>\n</div>",
      "text/plain": "      n  śr. arytm.  odch. std   mediana       min       max  I kwantyl  \\\n0  1000    0.491801   0.287017  0.472652  0.000779  0.989291   0.227985   \n\n   III kwantyl  \n0     0.745903  "
     },
     "metadata": {
      "transient": {}
     },
     "output_type": "display_data"
    },
    {
     "data": {
      "text/plain": "'KONIEC--------------------------------------'"
     },
     "metadata": {
      "transient": {}
     },
     "output_type": "display_data"
    }
   ],
   "source": [
    "percentages = [0.1, 0.2, 0.3, 0.4, 0.5, 0.6, 0.7, 0.8]\n",
    "\n",
    "def get_variants_with_removed(_df):\n",
    "  copy = pd.DataFrame(_df[0])\n",
    "  for percentage in percentages:\n",
    "    with_removed = remove_percentage_from_beginning(copy, percentage)\n",
    "    _df[percentage] = with_removed;\n",
    "  #print(\"new\", dataframes[0.5][:804])\n",
    "  return _df\n",
    "  \n",
    "def remove_percentage_from_beginning(_df, percentage):\n",
    "  n = math.floor(len(_df)*percentage)\n",
    "  for i in range(n):\n",
    "    _df[0][int(i)] = None\n",
    "  return _df\n",
    "\n",
    "\n",
    "normal_variants = get_variants_with_removed(df_normal)\n",
    "uniform_variants = get_variants_with_removed(df_uniform)\n",
    "\n",
    "#najpierw rozkład normalny, potem jednostajny\n",
    "for dict in [{\"percentages\": normal_variants, \"message\": \"ROZKLAD NORMALNY\"}, {\"percentages\": uniform_variants, \"message\": \"ROZKLAD JEDNOSTAJNY\"}]:\n",
    "  display(dict[\"message\"])\n",
    "  for percentage in dict[\"percentages\"]:\n",
    "    _df_with_remove = dict[\"percentages\"][percentage]\n",
    "    print_basic_stats(_df_with_remove)\n",
    "  display(\"KONIEC--------------------------------------\")\n",
    "    "
   ]
  },
  {
   "cell_type": "code",
   "execution_count": 5,
   "metadata": {},
   "outputs": [
    {
     "data": {
      "text/plain": "0.0"
     },
     "metadata": {
      "transient": {}
     },
     "output_type": "display_data"
    },
    {
     "data": {
      "text/html": "<div>\n<style scoped>\n    .dataframe tbody tr th:only-of-type {\n        vertical-align: middle;\n    }\n\n    .dataframe tbody tr th {\n        vertical-align: top;\n    }\n\n    .dataframe thead th {\n        text-align: right;\n    }\n</style>\n<table border=\"1\" class=\"dataframe\">\n  <thead>\n    <tr style=\"text-align: right;\">\n      <th></th>\n      <th>n</th>\n      <th>śr. arytm.</th>\n      <th>odch. std</th>\n      <th>mediana</th>\n      <th>min</th>\n      <th>max</th>\n      <th>I kwantyl</th>\n      <th>III kwantyl</th>\n    </tr>\n  </thead>\n  <tbody>\n    <tr>\n      <th>0</th>\n      <td>1000</td>\n      <td>165.581412</td>\n      <td>7.315189</td>\n      <td>165.803951</td>\n      <td>143.597732</td>\n      <td>185.026666</td>\n      <td>160.411961</td>\n      <td>170.539499</td>\n    </tr>\n  </tbody>\n</table>\n</div>",
      "text/plain": "      n  śr. arytm.  odch. std     mediana         min         max  \\\n0  1000  165.581412   7.315189  165.803951  143.597732  185.026666   \n\n    I kwantyl  III kwantyl  \n0  160.411961   170.539499  "
     },
     "metadata": {
      "transient": {}
     },
     "output_type": "display_data"
    },
    {
     "data": {
      "text/plain": "0.1"
     },
     "metadata": {
      "transient": {}
     },
     "output_type": "display_data"
    },
    {
     "data": {
      "text/html": "<div>\n<style scoped>\n    .dataframe tbody tr th:only-of-type {\n        vertical-align: middle;\n    }\n\n    .dataframe tbody tr th {\n        vertical-align: top;\n    }\n\n    .dataframe thead th {\n        text-align: right;\n    }\n</style>\n<table border=\"1\" class=\"dataframe\">\n  <thead>\n    <tr style=\"text-align: right;\">\n      <th></th>\n      <th>n</th>\n      <th>śr. arytm.</th>\n      <th>odch. std</th>\n      <th>mediana</th>\n      <th>min</th>\n      <th>max</th>\n      <th>I kwantyl</th>\n      <th>III kwantyl</th>\n    </tr>\n  </thead>\n  <tbody>\n    <tr>\n      <th>0</th>\n      <td>1000</td>\n      <td>165.620558</td>\n      <td>7.275544</td>\n      <td>165.899011</td>\n      <td>143.597732</td>\n      <td>184.33789</td>\n      <td>160.539667</td>\n      <td>170.570395</td>\n    </tr>\n  </tbody>\n</table>\n</div>",
      "text/plain": "      n  śr. arytm.  odch. std     mediana         min        max   I kwantyl  \\\n0  1000  165.620558   7.275544  165.899011  143.597732  184.33789  160.539667   \n\n   III kwantyl  \n0   170.570395  "
     },
     "metadata": {
      "transient": {}
     },
     "output_type": "display_data"
    },
    {
     "data": {
      "text/plain": "0.2"
     },
     "metadata": {
      "transient": {}
     },
     "output_type": "display_data"
    },
    {
     "data": {
      "text/html": "<div>\n<style scoped>\n    .dataframe tbody tr th:only-of-type {\n        vertical-align: middle;\n    }\n\n    .dataframe tbody tr th {\n        vertical-align: top;\n    }\n\n    .dataframe thead th {\n        text-align: right;\n    }\n</style>\n<table border=\"1\" class=\"dataframe\">\n  <thead>\n    <tr style=\"text-align: right;\">\n      <th></th>\n      <th>n</th>\n      <th>śr. arytm.</th>\n      <th>odch. std</th>\n      <th>mediana</th>\n      <th>min</th>\n      <th>max</th>\n      <th>I kwantyl</th>\n      <th>III kwantyl</th>\n    </tr>\n  </thead>\n  <tbody>\n    <tr>\n      <th>0</th>\n      <td>1000</td>\n      <td>165.680911</td>\n      <td>7.256678</td>\n      <td>165.987998</td>\n      <td>143.597732</td>\n      <td>184.33789</td>\n      <td>160.614711</td>\n      <td>170.632231</td>\n    </tr>\n  </tbody>\n</table>\n</div>",
      "text/plain": "      n  śr. arytm.  odch. std     mediana         min        max   I kwantyl  \\\n0  1000  165.680911   7.256678  165.987998  143.597732  184.33789  160.614711   \n\n   III kwantyl  \n0   170.632231  "
     },
     "metadata": {
      "transient": {}
     },
     "output_type": "display_data"
    },
    {
     "data": {
      "text/plain": "0.3"
     },
     "metadata": {
      "transient": {}
     },
     "output_type": "display_data"
    },
    {
     "data": {
      "text/html": "<div>\n<style scoped>\n    .dataframe tbody tr th:only-of-type {\n        vertical-align: middle;\n    }\n\n    .dataframe tbody tr th {\n        vertical-align: top;\n    }\n\n    .dataframe thead th {\n        text-align: right;\n    }\n</style>\n<table border=\"1\" class=\"dataframe\">\n  <thead>\n    <tr style=\"text-align: right;\">\n      <th></th>\n      <th>n</th>\n      <th>śr. arytm.</th>\n      <th>odch. std</th>\n      <th>mediana</th>\n      <th>min</th>\n      <th>max</th>\n      <th>I kwantyl</th>\n      <th>III kwantyl</th>\n    </tr>\n  </thead>\n  <tbody>\n    <tr>\n      <th>0</th>\n      <td>1000</td>\n      <td>165.77094</td>\n      <td>7.276605</td>\n      <td>166.068944</td>\n      <td>143.597732</td>\n      <td>184.33789</td>\n      <td>160.839731</td>\n      <td>170.642124</td>\n    </tr>\n  </tbody>\n</table>\n</div>",
      "text/plain": "      n  śr. arytm.  odch. std     mediana         min        max   I kwantyl  \\\n0  1000   165.77094   7.276605  166.068944  143.597732  184.33789  160.839731   \n\n   III kwantyl  \n0   170.642124  "
     },
     "metadata": {
      "transient": {}
     },
     "output_type": "display_data"
    },
    {
     "data": {
      "text/plain": "0.4"
     },
     "metadata": {
      "transient": {}
     },
     "output_type": "display_data"
    },
    {
     "data": {
      "text/html": "<div>\n<style scoped>\n    .dataframe tbody tr th:only-of-type {\n        vertical-align: middle;\n    }\n\n    .dataframe tbody tr th {\n        vertical-align: top;\n    }\n\n    .dataframe thead th {\n        text-align: right;\n    }\n</style>\n<table border=\"1\" class=\"dataframe\">\n  <thead>\n    <tr style=\"text-align: right;\">\n      <th></th>\n      <th>n</th>\n      <th>śr. arytm.</th>\n      <th>odch. std</th>\n      <th>mediana</th>\n      <th>min</th>\n      <th>max</th>\n      <th>I kwantyl</th>\n      <th>III kwantyl</th>\n    </tr>\n  </thead>\n  <tbody>\n    <tr>\n      <th>0</th>\n      <td>1000</td>\n      <td>165.602939</td>\n      <td>7.213576</td>\n      <td>165.958878</td>\n      <td>143.597732</td>\n      <td>184.33789</td>\n      <td>160.764009</td>\n      <td>170.430807</td>\n    </tr>\n  </tbody>\n</table>\n</div>",
      "text/plain": "      n  śr. arytm.  odch. std     mediana         min        max   I kwantyl  \\\n0  1000  165.602939   7.213576  165.958878  143.597732  184.33789  160.764009   \n\n   III kwantyl  \n0   170.430807  "
     },
     "metadata": {
      "transient": {}
     },
     "output_type": "display_data"
    },
    {
     "data": {
      "text/plain": "0.5"
     },
     "metadata": {
      "transient": {}
     },
     "output_type": "display_data"
    },
    {
     "data": {
      "text/html": "<div>\n<style scoped>\n    .dataframe tbody tr th:only-of-type {\n        vertical-align: middle;\n    }\n\n    .dataframe tbody tr th {\n        vertical-align: top;\n    }\n\n    .dataframe thead th {\n        text-align: right;\n    }\n</style>\n<table border=\"1\" class=\"dataframe\">\n  <thead>\n    <tr style=\"text-align: right;\">\n      <th></th>\n      <th>n</th>\n      <th>śr. arytm.</th>\n      <th>odch. std</th>\n      <th>mediana</th>\n      <th>min</th>\n      <th>max</th>\n      <th>I kwantyl</th>\n      <th>III kwantyl</th>\n    </tr>\n  </thead>\n  <tbody>\n    <tr>\n      <th>0</th>\n      <td>1000</td>\n      <td>165.608214</td>\n      <td>7.230883</td>\n      <td>166.083481</td>\n      <td>143.597732</td>\n      <td>184.050836</td>\n      <td>160.615386</td>\n      <td>170.430807</td>\n    </tr>\n  </tbody>\n</table>\n</div>",
      "text/plain": "      n  śr. arytm.  odch. std     mediana         min         max  \\\n0  1000  165.608214   7.230883  166.083481  143.597732  184.050836   \n\n    I kwantyl  III kwantyl  \n0  160.615386   170.430807  "
     },
     "metadata": {
      "transient": {}
     },
     "output_type": "display_data"
    },
    {
     "data": {
      "text/plain": "0.6"
     },
     "metadata": {
      "transient": {}
     },
     "output_type": "display_data"
    },
    {
     "data": {
      "text/html": "<div>\n<style scoped>\n    .dataframe tbody tr th:only-of-type {\n        vertical-align: middle;\n    }\n\n    .dataframe tbody tr th {\n        vertical-align: top;\n    }\n\n    .dataframe thead th {\n        text-align: right;\n    }\n</style>\n<table border=\"1\" class=\"dataframe\">\n  <thead>\n    <tr style=\"text-align: right;\">\n      <th></th>\n      <th>n</th>\n      <th>śr. arytm.</th>\n      <th>odch. std</th>\n      <th>mediana</th>\n      <th>min</th>\n      <th>max</th>\n      <th>I kwantyl</th>\n      <th>III kwantyl</th>\n    </tr>\n  </thead>\n  <tbody>\n    <tr>\n      <th>0</th>\n      <td>1000</td>\n      <td>165.510447</td>\n      <td>7.216662</td>\n      <td>165.892154</td>\n      <td>143.597732</td>\n      <td>184.050836</td>\n      <td>160.781425</td>\n      <td>170.184778</td>\n    </tr>\n  </tbody>\n</table>\n</div>",
      "text/plain": "      n  śr. arytm.  odch. std     mediana         min         max  \\\n0  1000  165.510447   7.216662  165.892154  143.597732  184.050836   \n\n    I kwantyl  III kwantyl  \n0  160.781425   170.184778  "
     },
     "metadata": {
      "transient": {}
     },
     "output_type": "display_data"
    },
    {
     "data": {
      "text/plain": "0.7"
     },
     "metadata": {
      "transient": {}
     },
     "output_type": "display_data"
    },
    {
     "data": {
      "text/html": "<div>\n<style scoped>\n    .dataframe tbody tr th:only-of-type {\n        vertical-align: middle;\n    }\n\n    .dataframe tbody tr th {\n        vertical-align: top;\n    }\n\n    .dataframe thead th {\n        text-align: right;\n    }\n</style>\n<table border=\"1\" class=\"dataframe\">\n  <thead>\n    <tr style=\"text-align: right;\">\n      <th></th>\n      <th>n</th>\n      <th>śr. arytm.</th>\n      <th>odch. std</th>\n      <th>mediana</th>\n      <th>min</th>\n      <th>max</th>\n      <th>I kwantyl</th>\n      <th>III kwantyl</th>\n    </tr>\n  </thead>\n  <tbody>\n    <tr>\n      <th>0</th>\n      <td>1000</td>\n      <td>165.595209</td>\n      <td>7.364633</td>\n      <td>165.988428</td>\n      <td>143.597732</td>\n      <td>184.050836</td>\n      <td>160.839731</td>\n      <td>170.184778</td>\n    </tr>\n  </tbody>\n</table>\n</div>",
      "text/plain": "      n  śr. arytm.  odch. std     mediana         min         max  \\\n0  1000  165.595209   7.364633  165.988428  143.597732  184.050836   \n\n    I kwantyl  III kwantyl  \n0  160.839731   170.184778  "
     },
     "metadata": {
      "transient": {}
     },
     "output_type": "display_data"
    },
    {
     "data": {
      "text/plain": "0.8"
     },
     "metadata": {
      "transient": {}
     },
     "output_type": "display_data"
    },
    {
     "data": {
      "text/html": "<div>\n<style scoped>\n    .dataframe tbody tr th:only-of-type {\n        vertical-align: middle;\n    }\n\n    .dataframe tbody tr th {\n        vertical-align: top;\n    }\n\n    .dataframe thead th {\n        text-align: right;\n    }\n</style>\n<table border=\"1\" class=\"dataframe\">\n  <thead>\n    <tr style=\"text-align: right;\">\n      <th></th>\n      <th>n</th>\n      <th>śr. arytm.</th>\n      <th>odch. std</th>\n      <th>mediana</th>\n      <th>min</th>\n      <th>max</th>\n      <th>I kwantyl</th>\n      <th>III kwantyl</th>\n    </tr>\n  </thead>\n  <tbody>\n    <tr>\n      <th>0</th>\n      <td>1000</td>\n      <td>165.826165</td>\n      <td>7.251363</td>\n      <td>166.172942</td>\n      <td>143.597732</td>\n      <td>181.898289</td>\n      <td>160.937069</td>\n      <td>170.191941</td>\n    </tr>\n  </tbody>\n</table>\n</div>",
      "text/plain": "      n  śr. arytm.  odch. std     mediana         min         max  \\\n0  1000  165.826165   7.251363  166.172942  143.597732  181.898289   \n\n    I kwantyl  III kwantyl  \n0  160.937069   170.191941  "
     },
     "metadata": {
      "transient": {}
     },
     "output_type": "display_data"
    },
    {
     "data": {
      "text/plain": "'0.0_mean'"
     },
     "metadata": {
      "transient": {}
     },
     "output_type": "display_data"
    },
    {
     "data": {
      "text/html": "<div>\n<style scoped>\n    .dataframe tbody tr th:only-of-type {\n        vertical-align: middle;\n    }\n\n    .dataframe tbody tr th {\n        vertical-align: top;\n    }\n\n    .dataframe thead th {\n        text-align: right;\n    }\n</style>\n<table border=\"1\" class=\"dataframe\">\n  <thead>\n    <tr style=\"text-align: right;\">\n      <th></th>\n      <th>n</th>\n      <th>śr. arytm.</th>\n      <th>odch. std</th>\n      <th>mediana</th>\n      <th>min</th>\n      <th>max</th>\n      <th>I kwantyl</th>\n      <th>III kwantyl</th>\n    </tr>\n  </thead>\n  <tbody>\n    <tr>\n      <th>0</th>\n      <td>1000</td>\n      <td>165.581412</td>\n      <td>7.315189</td>\n      <td>165.803951</td>\n      <td>143.597732</td>\n      <td>185.026666</td>\n      <td>160.411961</td>\n      <td>170.539499</td>\n    </tr>\n  </tbody>\n</table>\n</div>",
      "text/plain": "      n  śr. arytm.  odch. std     mediana         min         max  \\\n0  1000  165.581412   7.315189  165.803951  143.597732  185.026666   \n\n    I kwantyl  III kwantyl  \n0  160.411961   170.539499  "
     },
     "metadata": {
      "transient": {}
     },
     "output_type": "display_data"
    },
    {
     "data": {
      "text/plain": "'0.0_median'"
     },
     "metadata": {
      "transient": {}
     },
     "output_type": "display_data"
    },
    {
     "data": {
      "text/html": "<div>\n<style scoped>\n    .dataframe tbody tr th:only-of-type {\n        vertical-align: middle;\n    }\n\n    .dataframe tbody tr th {\n        vertical-align: top;\n    }\n\n    .dataframe thead th {\n        text-align: right;\n    }\n</style>\n<table border=\"1\" class=\"dataframe\">\n  <thead>\n    <tr style=\"text-align: right;\">\n      <th></th>\n      <th>n</th>\n      <th>śr. arytm.</th>\n      <th>odch. std</th>\n      <th>mediana</th>\n      <th>min</th>\n      <th>max</th>\n      <th>I kwantyl</th>\n      <th>III kwantyl</th>\n    </tr>\n  </thead>\n  <tbody>\n    <tr>\n      <th>0</th>\n      <td>1000</td>\n      <td>165.581412</td>\n      <td>7.315189</td>\n      <td>165.803951</td>\n      <td>143.597732</td>\n      <td>185.026666</td>\n      <td>160.411961</td>\n      <td>170.539499</td>\n    </tr>\n  </tbody>\n</table>\n</div>",
      "text/plain": "      n  śr. arytm.  odch. std     mediana         min         max  \\\n0  1000  165.581412   7.315189  165.803951  143.597732  185.026666   \n\n    I kwantyl  III kwantyl  \n0  160.411961   170.539499  "
     },
     "metadata": {
      "transient": {}
     },
     "output_type": "display_data"
    },
    {
     "data": {
      "text/plain": "'0.0_random'"
     },
     "metadata": {
      "transient": {}
     },
     "output_type": "display_data"
    },
    {
     "data": {
      "text/html": "<div>\n<style scoped>\n    .dataframe tbody tr th:only-of-type {\n        vertical-align: middle;\n    }\n\n    .dataframe tbody tr th {\n        vertical-align: top;\n    }\n\n    .dataframe thead th {\n        text-align: right;\n    }\n</style>\n<table border=\"1\" class=\"dataframe\">\n  <thead>\n    <tr style=\"text-align: right;\">\n      <th></th>\n      <th>n</th>\n      <th>śr. arytm.</th>\n      <th>odch. std</th>\n      <th>mediana</th>\n      <th>min</th>\n      <th>max</th>\n      <th>I kwantyl</th>\n      <th>III kwantyl</th>\n    </tr>\n  </thead>\n  <tbody>\n    <tr>\n      <th>0</th>\n      <td>1000</td>\n      <td>165.581412</td>\n      <td>7.315189</td>\n      <td>165.803951</td>\n      <td>143.597732</td>\n      <td>185.026666</td>\n      <td>160.411961</td>\n      <td>170.539499</td>\n    </tr>\n  </tbody>\n</table>\n</div>",
      "text/plain": "      n  śr. arytm.  odch. std     mediana         min         max  \\\n0  1000  165.581412   7.315189  165.803951  143.597732  185.026666   \n\n    I kwantyl  III kwantyl  \n0  160.411961   170.539499  "
     },
     "metadata": {
      "transient": {}
     },
     "output_type": "display_data"
    },
    {
     "data": {
      "text/plain": "'0.1_mean'"
     },
     "metadata": {
      "transient": {}
     },
     "output_type": "display_data"
    },
    {
     "data": {
      "text/html": "<div>\n<style scoped>\n    .dataframe tbody tr th:only-of-type {\n        vertical-align: middle;\n    }\n\n    .dataframe tbody tr th {\n        vertical-align: top;\n    }\n\n    .dataframe thead th {\n        text-align: right;\n    }\n</style>\n<table border=\"1\" class=\"dataframe\">\n  <thead>\n    <tr style=\"text-align: right;\">\n      <th></th>\n      <th>n</th>\n      <th>śr. arytm.</th>\n      <th>odch. std</th>\n      <th>mediana</th>\n      <th>min</th>\n      <th>max</th>\n      <th>I kwantyl</th>\n      <th>III kwantyl</th>\n    </tr>\n  </thead>\n  <tbody>\n    <tr>\n      <th>0</th>\n      <td>1000</td>\n      <td>165.620558</td>\n      <td>7.275544</td>\n      <td>165.899011</td>\n      <td>143.597732</td>\n      <td>184.33789</td>\n      <td>160.539667</td>\n      <td>170.570395</td>\n    </tr>\n  </tbody>\n</table>\n</div>",
      "text/plain": "      n  śr. arytm.  odch. std     mediana         min        max   I kwantyl  \\\n0  1000  165.620558   7.275544  165.899011  143.597732  184.33789  160.539667   \n\n   III kwantyl  \n0   170.570395  "
     },
     "metadata": {
      "transient": {}
     },
     "output_type": "display_data"
    },
    {
     "data": {
      "text/plain": "'0.1_median'"
     },
     "metadata": {
      "transient": {}
     },
     "output_type": "display_data"
    },
    {
     "data": {
      "text/html": "<div>\n<style scoped>\n    .dataframe tbody tr th:only-of-type {\n        vertical-align: middle;\n    }\n\n    .dataframe tbody tr th {\n        vertical-align: top;\n    }\n\n    .dataframe thead th {\n        text-align: right;\n    }\n</style>\n<table border=\"1\" class=\"dataframe\">\n  <thead>\n    <tr style=\"text-align: right;\">\n      <th></th>\n      <th>n</th>\n      <th>śr. arytm.</th>\n      <th>odch. std</th>\n      <th>mediana</th>\n      <th>min</th>\n      <th>max</th>\n      <th>I kwantyl</th>\n      <th>III kwantyl</th>\n    </tr>\n  </thead>\n  <tbody>\n    <tr>\n      <th>0</th>\n      <td>1000</td>\n      <td>165.620558</td>\n      <td>7.275544</td>\n      <td>165.899011</td>\n      <td>143.597732</td>\n      <td>184.33789</td>\n      <td>160.539667</td>\n      <td>170.570395</td>\n    </tr>\n  </tbody>\n</table>\n</div>",
      "text/plain": "      n  śr. arytm.  odch. std     mediana         min        max   I kwantyl  \\\n0  1000  165.620558   7.275544  165.899011  143.597732  184.33789  160.539667   \n\n   III kwantyl  \n0   170.570395  "
     },
     "metadata": {
      "transient": {}
     },
     "output_type": "display_data"
    },
    {
     "data": {
      "text/plain": "'0.1_random'"
     },
     "metadata": {
      "transient": {}
     },
     "output_type": "display_data"
    },
    {
     "data": {
      "text/html": "<div>\n<style scoped>\n    .dataframe tbody tr th:only-of-type {\n        vertical-align: middle;\n    }\n\n    .dataframe tbody tr th {\n        vertical-align: top;\n    }\n\n    .dataframe thead th {\n        text-align: right;\n    }\n</style>\n<table border=\"1\" class=\"dataframe\">\n  <thead>\n    <tr style=\"text-align: right;\">\n      <th></th>\n      <th>n</th>\n      <th>śr. arytm.</th>\n      <th>odch. std</th>\n      <th>mediana</th>\n      <th>min</th>\n      <th>max</th>\n      <th>I kwantyl</th>\n      <th>III kwantyl</th>\n    </tr>\n  </thead>\n  <tbody>\n    <tr>\n      <th>0</th>\n      <td>1000</td>\n      <td>165.620558</td>\n      <td>7.275544</td>\n      <td>165.899011</td>\n      <td>143.597732</td>\n      <td>184.33789</td>\n      <td>160.539667</td>\n      <td>170.570395</td>\n    </tr>\n  </tbody>\n</table>\n</div>",
      "text/plain": "      n  śr. arytm.  odch. std     mediana         min        max   I kwantyl  \\\n0  1000  165.620558   7.275544  165.899011  143.597732  184.33789  160.539667   \n\n   III kwantyl  \n0   170.570395  "
     },
     "metadata": {
      "transient": {}
     },
     "output_type": "display_data"
    },
    {
     "data": {
      "text/plain": "'0.2_mean'"
     },
     "metadata": {
      "transient": {}
     },
     "output_type": "display_data"
    },
    {
     "data": {
      "text/html": "<div>\n<style scoped>\n    .dataframe tbody tr th:only-of-type {\n        vertical-align: middle;\n    }\n\n    .dataframe tbody tr th {\n        vertical-align: top;\n    }\n\n    .dataframe thead th {\n        text-align: right;\n    }\n</style>\n<table border=\"1\" class=\"dataframe\">\n  <thead>\n    <tr style=\"text-align: right;\">\n      <th></th>\n      <th>n</th>\n      <th>śr. arytm.</th>\n      <th>odch. std</th>\n      <th>mediana</th>\n      <th>min</th>\n      <th>max</th>\n      <th>I kwantyl</th>\n      <th>III kwantyl</th>\n    </tr>\n  </thead>\n  <tbody>\n    <tr>\n      <th>0</th>\n      <td>1000</td>\n      <td>165.680911</td>\n      <td>7.256678</td>\n      <td>165.987998</td>\n      <td>143.597732</td>\n      <td>184.33789</td>\n      <td>160.614711</td>\n      <td>170.632231</td>\n    </tr>\n  </tbody>\n</table>\n</div>",
      "text/plain": "      n  śr. arytm.  odch. std     mediana         min        max   I kwantyl  \\\n0  1000  165.680911   7.256678  165.987998  143.597732  184.33789  160.614711   \n\n   III kwantyl  \n0   170.632231  "
     },
     "metadata": {
      "transient": {}
     },
     "output_type": "display_data"
    },
    {
     "data": {
      "text/plain": "'0.2_median'"
     },
     "metadata": {
      "transient": {}
     },
     "output_type": "display_data"
    },
    {
     "data": {
      "text/html": "<div>\n<style scoped>\n    .dataframe tbody tr th:only-of-type {\n        vertical-align: middle;\n    }\n\n    .dataframe tbody tr th {\n        vertical-align: top;\n    }\n\n    .dataframe thead th {\n        text-align: right;\n    }\n</style>\n<table border=\"1\" class=\"dataframe\">\n  <thead>\n    <tr style=\"text-align: right;\">\n      <th></th>\n      <th>n</th>\n      <th>śr. arytm.</th>\n      <th>odch. std</th>\n      <th>mediana</th>\n      <th>min</th>\n      <th>max</th>\n      <th>I kwantyl</th>\n      <th>III kwantyl</th>\n    </tr>\n  </thead>\n  <tbody>\n    <tr>\n      <th>0</th>\n      <td>1000</td>\n      <td>165.680911</td>\n      <td>7.256678</td>\n      <td>165.987998</td>\n      <td>143.597732</td>\n      <td>184.33789</td>\n      <td>160.614711</td>\n      <td>170.632231</td>\n    </tr>\n  </tbody>\n</table>\n</div>",
      "text/plain": "      n  śr. arytm.  odch. std     mediana         min        max   I kwantyl  \\\n0  1000  165.680911   7.256678  165.987998  143.597732  184.33789  160.614711   \n\n   III kwantyl  \n0   170.632231  "
     },
     "metadata": {
      "transient": {}
     },
     "output_type": "display_data"
    },
    {
     "data": {
      "text/plain": "'0.2_random'"
     },
     "metadata": {
      "transient": {}
     },
     "output_type": "display_data"
    },
    {
     "data": {
      "text/html": "<div>\n<style scoped>\n    .dataframe tbody tr th:only-of-type {\n        vertical-align: middle;\n    }\n\n    .dataframe tbody tr th {\n        vertical-align: top;\n    }\n\n    .dataframe thead th {\n        text-align: right;\n    }\n</style>\n<table border=\"1\" class=\"dataframe\">\n  <thead>\n    <tr style=\"text-align: right;\">\n      <th></th>\n      <th>n</th>\n      <th>śr. arytm.</th>\n      <th>odch. std</th>\n      <th>mediana</th>\n      <th>min</th>\n      <th>max</th>\n      <th>I kwantyl</th>\n      <th>III kwantyl</th>\n    </tr>\n  </thead>\n  <tbody>\n    <tr>\n      <th>0</th>\n      <td>1000</td>\n      <td>165.680911</td>\n      <td>7.256678</td>\n      <td>165.987998</td>\n      <td>143.597732</td>\n      <td>184.33789</td>\n      <td>160.614711</td>\n      <td>170.632231</td>\n    </tr>\n  </tbody>\n</table>\n</div>",
      "text/plain": "      n  śr. arytm.  odch. std     mediana         min        max   I kwantyl  \\\n0  1000  165.680911   7.256678  165.987998  143.597732  184.33789  160.614711   \n\n   III kwantyl  \n0   170.632231  "
     },
     "metadata": {
      "transient": {}
     },
     "output_type": "display_data"
    },
    {
     "data": {
      "text/plain": "'0.3_mean'"
     },
     "metadata": {
      "transient": {}
     },
     "output_type": "display_data"
    },
    {
     "data": {
      "text/html": "<div>\n<style scoped>\n    .dataframe tbody tr th:only-of-type {\n        vertical-align: middle;\n    }\n\n    .dataframe tbody tr th {\n        vertical-align: top;\n    }\n\n    .dataframe thead th {\n        text-align: right;\n    }\n</style>\n<table border=\"1\" class=\"dataframe\">\n  <thead>\n    <tr style=\"text-align: right;\">\n      <th></th>\n      <th>n</th>\n      <th>śr. arytm.</th>\n      <th>odch. std</th>\n      <th>mediana</th>\n      <th>min</th>\n      <th>max</th>\n      <th>I kwantyl</th>\n      <th>III kwantyl</th>\n    </tr>\n  </thead>\n  <tbody>\n    <tr>\n      <th>0</th>\n      <td>1000</td>\n      <td>165.77094</td>\n      <td>7.276605</td>\n      <td>166.068944</td>\n      <td>143.597732</td>\n      <td>184.33789</td>\n      <td>160.839731</td>\n      <td>170.642124</td>\n    </tr>\n  </tbody>\n</table>\n</div>",
      "text/plain": "      n  śr. arytm.  odch. std     mediana         min        max   I kwantyl  \\\n0  1000   165.77094   7.276605  166.068944  143.597732  184.33789  160.839731   \n\n   III kwantyl  \n0   170.642124  "
     },
     "metadata": {
      "transient": {}
     },
     "output_type": "display_data"
    },
    {
     "data": {
      "text/plain": "'0.3_median'"
     },
     "metadata": {
      "transient": {}
     },
     "output_type": "display_data"
    },
    {
     "data": {
      "text/html": "<div>\n<style scoped>\n    .dataframe tbody tr th:only-of-type {\n        vertical-align: middle;\n    }\n\n    .dataframe tbody tr th {\n        vertical-align: top;\n    }\n\n    .dataframe thead th {\n        text-align: right;\n    }\n</style>\n<table border=\"1\" class=\"dataframe\">\n  <thead>\n    <tr style=\"text-align: right;\">\n      <th></th>\n      <th>n</th>\n      <th>śr. arytm.</th>\n      <th>odch. std</th>\n      <th>mediana</th>\n      <th>min</th>\n      <th>max</th>\n      <th>I kwantyl</th>\n      <th>III kwantyl</th>\n    </tr>\n  </thead>\n  <tbody>\n    <tr>\n      <th>0</th>\n      <td>1000</td>\n      <td>165.77094</td>\n      <td>7.276605</td>\n      <td>166.068944</td>\n      <td>143.597732</td>\n      <td>184.33789</td>\n      <td>160.839731</td>\n      <td>170.642124</td>\n    </tr>\n  </tbody>\n</table>\n</div>",
      "text/plain": "      n  śr. arytm.  odch. std     mediana         min        max   I kwantyl  \\\n0  1000   165.77094   7.276605  166.068944  143.597732  184.33789  160.839731   \n\n   III kwantyl  \n0   170.642124  "
     },
     "metadata": {
      "transient": {}
     },
     "output_type": "display_data"
    },
    {
     "data": {
      "text/plain": "'0.3_random'"
     },
     "metadata": {
      "transient": {}
     },
     "output_type": "display_data"
    },
    {
     "data": {
      "text/html": "<div>\n<style scoped>\n    .dataframe tbody tr th:only-of-type {\n        vertical-align: middle;\n    }\n\n    .dataframe tbody tr th {\n        vertical-align: top;\n    }\n\n    .dataframe thead th {\n        text-align: right;\n    }\n</style>\n<table border=\"1\" class=\"dataframe\">\n  <thead>\n    <tr style=\"text-align: right;\">\n      <th></th>\n      <th>n</th>\n      <th>śr. arytm.</th>\n      <th>odch. std</th>\n      <th>mediana</th>\n      <th>min</th>\n      <th>max</th>\n      <th>I kwantyl</th>\n      <th>III kwantyl</th>\n    </tr>\n  </thead>\n  <tbody>\n    <tr>\n      <th>0</th>\n      <td>1000</td>\n      <td>165.77094</td>\n      <td>7.276605</td>\n      <td>166.068944</td>\n      <td>143.597732</td>\n      <td>184.33789</td>\n      <td>160.839731</td>\n      <td>170.642124</td>\n    </tr>\n  </tbody>\n</table>\n</div>",
      "text/plain": "      n  śr. arytm.  odch. std     mediana         min        max   I kwantyl  \\\n0  1000   165.77094   7.276605  166.068944  143.597732  184.33789  160.839731   \n\n   III kwantyl  \n0   170.642124  "
     },
     "metadata": {
      "transient": {}
     },
     "output_type": "display_data"
    },
    {
     "data": {
      "text/plain": "'0.4_mean'"
     },
     "metadata": {
      "transient": {}
     },
     "output_type": "display_data"
    },
    {
     "data": {
      "text/html": "<div>\n<style scoped>\n    .dataframe tbody tr th:only-of-type {\n        vertical-align: middle;\n    }\n\n    .dataframe tbody tr th {\n        vertical-align: top;\n    }\n\n    .dataframe thead th {\n        text-align: right;\n    }\n</style>\n<table border=\"1\" class=\"dataframe\">\n  <thead>\n    <tr style=\"text-align: right;\">\n      <th></th>\n      <th>n</th>\n      <th>śr. arytm.</th>\n      <th>odch. std</th>\n      <th>mediana</th>\n      <th>min</th>\n      <th>max</th>\n      <th>I kwantyl</th>\n      <th>III kwantyl</th>\n    </tr>\n  </thead>\n  <tbody>\n    <tr>\n      <th>0</th>\n      <td>1000</td>\n      <td>165.602939</td>\n      <td>7.213576</td>\n      <td>165.958878</td>\n      <td>143.597732</td>\n      <td>184.33789</td>\n      <td>160.764009</td>\n      <td>170.430807</td>\n    </tr>\n  </tbody>\n</table>\n</div>",
      "text/plain": "      n  śr. arytm.  odch. std     mediana         min        max   I kwantyl  \\\n0  1000  165.602939   7.213576  165.958878  143.597732  184.33789  160.764009   \n\n   III kwantyl  \n0   170.430807  "
     },
     "metadata": {
      "transient": {}
     },
     "output_type": "display_data"
    },
    {
     "data": {
      "text/plain": "'0.4_median'"
     },
     "metadata": {
      "transient": {}
     },
     "output_type": "display_data"
    },
    {
     "data": {
      "text/html": "<div>\n<style scoped>\n    .dataframe tbody tr th:only-of-type {\n        vertical-align: middle;\n    }\n\n    .dataframe tbody tr th {\n        vertical-align: top;\n    }\n\n    .dataframe thead th {\n        text-align: right;\n    }\n</style>\n<table border=\"1\" class=\"dataframe\">\n  <thead>\n    <tr style=\"text-align: right;\">\n      <th></th>\n      <th>n</th>\n      <th>śr. arytm.</th>\n      <th>odch. std</th>\n      <th>mediana</th>\n      <th>min</th>\n      <th>max</th>\n      <th>I kwantyl</th>\n      <th>III kwantyl</th>\n    </tr>\n  </thead>\n  <tbody>\n    <tr>\n      <th>0</th>\n      <td>1000</td>\n      <td>165.602939</td>\n      <td>7.213576</td>\n      <td>165.958878</td>\n      <td>143.597732</td>\n      <td>184.33789</td>\n      <td>160.764009</td>\n      <td>170.430807</td>\n    </tr>\n  </tbody>\n</table>\n</div>",
      "text/plain": "      n  śr. arytm.  odch. std     mediana         min        max   I kwantyl  \\\n0  1000  165.602939   7.213576  165.958878  143.597732  184.33789  160.764009   \n\n   III kwantyl  \n0   170.430807  "
     },
     "metadata": {
      "transient": {}
     },
     "output_type": "display_data"
    },
    {
     "data": {
      "text/plain": "'0.4_random'"
     },
     "metadata": {
      "transient": {}
     },
     "output_type": "display_data"
    },
    {
     "data": {
      "text/html": "<div>\n<style scoped>\n    .dataframe tbody tr th:only-of-type {\n        vertical-align: middle;\n    }\n\n    .dataframe tbody tr th {\n        vertical-align: top;\n    }\n\n    .dataframe thead th {\n        text-align: right;\n    }\n</style>\n<table border=\"1\" class=\"dataframe\">\n  <thead>\n    <tr style=\"text-align: right;\">\n      <th></th>\n      <th>n</th>\n      <th>śr. arytm.</th>\n      <th>odch. std</th>\n      <th>mediana</th>\n      <th>min</th>\n      <th>max</th>\n      <th>I kwantyl</th>\n      <th>III kwantyl</th>\n    </tr>\n  </thead>\n  <tbody>\n    <tr>\n      <th>0</th>\n      <td>1000</td>\n      <td>165.602939</td>\n      <td>7.213576</td>\n      <td>165.958878</td>\n      <td>143.597732</td>\n      <td>184.33789</td>\n      <td>160.764009</td>\n      <td>170.430807</td>\n    </tr>\n  </tbody>\n</table>\n</div>",
      "text/plain": "      n  śr. arytm.  odch. std     mediana         min        max   I kwantyl  \\\n0  1000  165.602939   7.213576  165.958878  143.597732  184.33789  160.764009   \n\n   III kwantyl  \n0   170.430807  "
     },
     "metadata": {
      "transient": {}
     },
     "output_type": "display_data"
    },
    {
     "data": {
      "text/plain": "'0.5_mean'"
     },
     "metadata": {
      "transient": {}
     },
     "output_type": "display_data"
    },
    {
     "data": {
      "text/html": "<div>\n<style scoped>\n    .dataframe tbody tr th:only-of-type {\n        vertical-align: middle;\n    }\n\n    .dataframe tbody tr th {\n        vertical-align: top;\n    }\n\n    .dataframe thead th {\n        text-align: right;\n    }\n</style>\n<table border=\"1\" class=\"dataframe\">\n  <thead>\n    <tr style=\"text-align: right;\">\n      <th></th>\n      <th>n</th>\n      <th>śr. arytm.</th>\n      <th>odch. std</th>\n      <th>mediana</th>\n      <th>min</th>\n      <th>max</th>\n      <th>I kwantyl</th>\n      <th>III kwantyl</th>\n    </tr>\n  </thead>\n  <tbody>\n    <tr>\n      <th>0</th>\n      <td>1000</td>\n      <td>165.608214</td>\n      <td>7.230883</td>\n      <td>166.083481</td>\n      <td>143.597732</td>\n      <td>184.050836</td>\n      <td>160.615386</td>\n      <td>170.430807</td>\n    </tr>\n  </tbody>\n</table>\n</div>",
      "text/plain": "      n  śr. arytm.  odch. std     mediana         min         max  \\\n0  1000  165.608214   7.230883  166.083481  143.597732  184.050836   \n\n    I kwantyl  III kwantyl  \n0  160.615386   170.430807  "
     },
     "metadata": {
      "transient": {}
     },
     "output_type": "display_data"
    },
    {
     "data": {
      "text/plain": "'0.5_median'"
     },
     "metadata": {
      "transient": {}
     },
     "output_type": "display_data"
    },
    {
     "data": {
      "text/html": "<div>\n<style scoped>\n    .dataframe tbody tr th:only-of-type {\n        vertical-align: middle;\n    }\n\n    .dataframe tbody tr th {\n        vertical-align: top;\n    }\n\n    .dataframe thead th {\n        text-align: right;\n    }\n</style>\n<table border=\"1\" class=\"dataframe\">\n  <thead>\n    <tr style=\"text-align: right;\">\n      <th></th>\n      <th>n</th>\n      <th>śr. arytm.</th>\n      <th>odch. std</th>\n      <th>mediana</th>\n      <th>min</th>\n      <th>max</th>\n      <th>I kwantyl</th>\n      <th>III kwantyl</th>\n    </tr>\n  </thead>\n  <tbody>\n    <tr>\n      <th>0</th>\n      <td>1000</td>\n      <td>165.608214</td>\n      <td>7.230883</td>\n      <td>166.083481</td>\n      <td>143.597732</td>\n      <td>184.050836</td>\n      <td>160.615386</td>\n      <td>170.430807</td>\n    </tr>\n  </tbody>\n</table>\n</div>",
      "text/plain": "      n  śr. arytm.  odch. std     mediana         min         max  \\\n0  1000  165.608214   7.230883  166.083481  143.597732  184.050836   \n\n    I kwantyl  III kwantyl  \n0  160.615386   170.430807  "
     },
     "metadata": {
      "transient": {}
     },
     "output_type": "display_data"
    },
    {
     "data": {
      "text/plain": "'0.5_random'"
     },
     "metadata": {
      "transient": {}
     },
     "output_type": "display_data"
    },
    {
     "data": {
      "text/html": "<div>\n<style scoped>\n    .dataframe tbody tr th:only-of-type {\n        vertical-align: middle;\n    }\n\n    .dataframe tbody tr th {\n        vertical-align: top;\n    }\n\n    .dataframe thead th {\n        text-align: right;\n    }\n</style>\n<table border=\"1\" class=\"dataframe\">\n  <thead>\n    <tr style=\"text-align: right;\">\n      <th></th>\n      <th>n</th>\n      <th>śr. arytm.</th>\n      <th>odch. std</th>\n      <th>mediana</th>\n      <th>min</th>\n      <th>max</th>\n      <th>I kwantyl</th>\n      <th>III kwantyl</th>\n    </tr>\n  </thead>\n  <tbody>\n    <tr>\n      <th>0</th>\n      <td>1000</td>\n      <td>165.608214</td>\n      <td>7.230883</td>\n      <td>166.083481</td>\n      <td>143.597732</td>\n      <td>184.050836</td>\n      <td>160.615386</td>\n      <td>170.430807</td>\n    </tr>\n  </tbody>\n</table>\n</div>",
      "text/plain": "      n  śr. arytm.  odch. std     mediana         min         max  \\\n0  1000  165.608214   7.230883  166.083481  143.597732  184.050836   \n\n    I kwantyl  III kwantyl  \n0  160.615386   170.430807  "
     },
     "metadata": {
      "transient": {}
     },
     "output_type": "display_data"
    },
    {
     "data": {
      "text/plain": "'0.6_mean'"
     },
     "metadata": {
      "transient": {}
     },
     "output_type": "display_data"
    },
    {
     "data": {
      "text/html": "<div>\n<style scoped>\n    .dataframe tbody tr th:only-of-type {\n        vertical-align: middle;\n    }\n\n    .dataframe tbody tr th {\n        vertical-align: top;\n    }\n\n    .dataframe thead th {\n        text-align: right;\n    }\n</style>\n<table border=\"1\" class=\"dataframe\">\n  <thead>\n    <tr style=\"text-align: right;\">\n      <th></th>\n      <th>n</th>\n      <th>śr. arytm.</th>\n      <th>odch. std</th>\n      <th>mediana</th>\n      <th>min</th>\n      <th>max</th>\n      <th>I kwantyl</th>\n      <th>III kwantyl</th>\n    </tr>\n  </thead>\n  <tbody>\n    <tr>\n      <th>0</th>\n      <td>1000</td>\n      <td>165.510447</td>\n      <td>7.216662</td>\n      <td>165.892154</td>\n      <td>143.597732</td>\n      <td>184.050836</td>\n      <td>160.781425</td>\n      <td>170.184778</td>\n    </tr>\n  </tbody>\n</table>\n</div>",
      "text/plain": "      n  śr. arytm.  odch. std     mediana         min         max  \\\n0  1000  165.510447   7.216662  165.892154  143.597732  184.050836   \n\n    I kwantyl  III kwantyl  \n0  160.781425   170.184778  "
     },
     "metadata": {
      "transient": {}
     },
     "output_type": "display_data"
    },
    {
     "data": {
      "text/plain": "'0.6_median'"
     },
     "metadata": {
      "transient": {}
     },
     "output_type": "display_data"
    },
    {
     "data": {
      "text/html": "<div>\n<style scoped>\n    .dataframe tbody tr th:only-of-type {\n        vertical-align: middle;\n    }\n\n    .dataframe tbody tr th {\n        vertical-align: top;\n    }\n\n    .dataframe thead th {\n        text-align: right;\n    }\n</style>\n<table border=\"1\" class=\"dataframe\">\n  <thead>\n    <tr style=\"text-align: right;\">\n      <th></th>\n      <th>n</th>\n      <th>śr. arytm.</th>\n      <th>odch. std</th>\n      <th>mediana</th>\n      <th>min</th>\n      <th>max</th>\n      <th>I kwantyl</th>\n      <th>III kwantyl</th>\n    </tr>\n  </thead>\n  <tbody>\n    <tr>\n      <th>0</th>\n      <td>1000</td>\n      <td>165.510447</td>\n      <td>7.216662</td>\n      <td>165.892154</td>\n      <td>143.597732</td>\n      <td>184.050836</td>\n      <td>160.781425</td>\n      <td>170.184778</td>\n    </tr>\n  </tbody>\n</table>\n</div>",
      "text/plain": "      n  śr. arytm.  odch. std     mediana         min         max  \\\n0  1000  165.510447   7.216662  165.892154  143.597732  184.050836   \n\n    I kwantyl  III kwantyl  \n0  160.781425   170.184778  "
     },
     "metadata": {
      "transient": {}
     },
     "output_type": "display_data"
    },
    {
     "data": {
      "text/plain": "'0.6_random'"
     },
     "metadata": {
      "transient": {}
     },
     "output_type": "display_data"
    },
    {
     "data": {
      "text/html": "<div>\n<style scoped>\n    .dataframe tbody tr th:only-of-type {\n        vertical-align: middle;\n    }\n\n    .dataframe tbody tr th {\n        vertical-align: top;\n    }\n\n    .dataframe thead th {\n        text-align: right;\n    }\n</style>\n<table border=\"1\" class=\"dataframe\">\n  <thead>\n    <tr style=\"text-align: right;\">\n      <th></th>\n      <th>n</th>\n      <th>śr. arytm.</th>\n      <th>odch. std</th>\n      <th>mediana</th>\n      <th>min</th>\n      <th>max</th>\n      <th>I kwantyl</th>\n      <th>III kwantyl</th>\n    </tr>\n  </thead>\n  <tbody>\n    <tr>\n      <th>0</th>\n      <td>1000</td>\n      <td>165.510447</td>\n      <td>7.216662</td>\n      <td>165.892154</td>\n      <td>143.597732</td>\n      <td>184.050836</td>\n      <td>160.781425</td>\n      <td>170.184778</td>\n    </tr>\n  </tbody>\n</table>\n</div>",
      "text/plain": "      n  śr. arytm.  odch. std     mediana         min         max  \\\n0  1000  165.510447   7.216662  165.892154  143.597732  184.050836   \n\n    I kwantyl  III kwantyl  \n0  160.781425   170.184778  "
     },
     "metadata": {
      "transient": {}
     },
     "output_type": "display_data"
    },
    {
     "data": {
      "text/plain": "'0.7_mean'"
     },
     "metadata": {
      "transient": {}
     },
     "output_type": "display_data"
    },
    {
     "data": {
      "text/html": "<div>\n<style scoped>\n    .dataframe tbody tr th:only-of-type {\n        vertical-align: middle;\n    }\n\n    .dataframe tbody tr th {\n        vertical-align: top;\n    }\n\n    .dataframe thead th {\n        text-align: right;\n    }\n</style>\n<table border=\"1\" class=\"dataframe\">\n  <thead>\n    <tr style=\"text-align: right;\">\n      <th></th>\n      <th>n</th>\n      <th>śr. arytm.</th>\n      <th>odch. std</th>\n      <th>mediana</th>\n      <th>min</th>\n      <th>max</th>\n      <th>I kwantyl</th>\n      <th>III kwantyl</th>\n    </tr>\n  </thead>\n  <tbody>\n    <tr>\n      <th>0</th>\n      <td>1000</td>\n      <td>165.595209</td>\n      <td>7.364633</td>\n      <td>165.988428</td>\n      <td>143.597732</td>\n      <td>184.050836</td>\n      <td>160.839731</td>\n      <td>170.184778</td>\n    </tr>\n  </tbody>\n</table>\n</div>",
      "text/plain": "      n  śr. arytm.  odch. std     mediana         min         max  \\\n0  1000  165.595209   7.364633  165.988428  143.597732  184.050836   \n\n    I kwantyl  III kwantyl  \n0  160.839731   170.184778  "
     },
     "metadata": {
      "transient": {}
     },
     "output_type": "display_data"
    },
    {
     "data": {
      "text/plain": "'0.7_median'"
     },
     "metadata": {
      "transient": {}
     },
     "output_type": "display_data"
    },
    {
     "data": {
      "text/html": "<div>\n<style scoped>\n    .dataframe tbody tr th:only-of-type {\n        vertical-align: middle;\n    }\n\n    .dataframe tbody tr th {\n        vertical-align: top;\n    }\n\n    .dataframe thead th {\n        text-align: right;\n    }\n</style>\n<table border=\"1\" class=\"dataframe\">\n  <thead>\n    <tr style=\"text-align: right;\">\n      <th></th>\n      <th>n</th>\n      <th>śr. arytm.</th>\n      <th>odch. std</th>\n      <th>mediana</th>\n      <th>min</th>\n      <th>max</th>\n      <th>I kwantyl</th>\n      <th>III kwantyl</th>\n    </tr>\n  </thead>\n  <tbody>\n    <tr>\n      <th>0</th>\n      <td>1000</td>\n      <td>165.595209</td>\n      <td>7.364633</td>\n      <td>165.988428</td>\n      <td>143.597732</td>\n      <td>184.050836</td>\n      <td>160.839731</td>\n      <td>170.184778</td>\n    </tr>\n  </tbody>\n</table>\n</div>",
      "text/plain": "      n  śr. arytm.  odch. std     mediana         min         max  \\\n0  1000  165.595209   7.364633  165.988428  143.597732  184.050836   \n\n    I kwantyl  III kwantyl  \n0  160.839731   170.184778  "
     },
     "metadata": {
      "transient": {}
     },
     "output_type": "display_data"
    },
    {
     "data": {
      "text/plain": "'0.7_random'"
     },
     "metadata": {
      "transient": {}
     },
     "output_type": "display_data"
    },
    {
     "data": {
      "text/html": "<div>\n<style scoped>\n    .dataframe tbody tr th:only-of-type {\n        vertical-align: middle;\n    }\n\n    .dataframe tbody tr th {\n        vertical-align: top;\n    }\n\n    .dataframe thead th {\n        text-align: right;\n    }\n</style>\n<table border=\"1\" class=\"dataframe\">\n  <thead>\n    <tr style=\"text-align: right;\">\n      <th></th>\n      <th>n</th>\n      <th>śr. arytm.</th>\n      <th>odch. std</th>\n      <th>mediana</th>\n      <th>min</th>\n      <th>max</th>\n      <th>I kwantyl</th>\n      <th>III kwantyl</th>\n    </tr>\n  </thead>\n  <tbody>\n    <tr>\n      <th>0</th>\n      <td>1000</td>\n      <td>165.595209</td>\n      <td>7.364633</td>\n      <td>165.988428</td>\n      <td>143.597732</td>\n      <td>184.050836</td>\n      <td>160.839731</td>\n      <td>170.184778</td>\n    </tr>\n  </tbody>\n</table>\n</div>",
      "text/plain": "      n  śr. arytm.  odch. std     mediana         min         max  \\\n0  1000  165.595209   7.364633  165.988428  143.597732  184.050836   \n\n    I kwantyl  III kwantyl  \n0  160.839731   170.184778  "
     },
     "metadata": {
      "transient": {}
     },
     "output_type": "display_data"
    },
    {
     "data": {
      "text/plain": "'0.8_mean'"
     },
     "metadata": {
      "transient": {}
     },
     "output_type": "display_data"
    },
    {
     "data": {
      "text/html": "<div>\n<style scoped>\n    .dataframe tbody tr th:only-of-type {\n        vertical-align: middle;\n    }\n\n    .dataframe tbody tr th {\n        vertical-align: top;\n    }\n\n    .dataframe thead th {\n        text-align: right;\n    }\n</style>\n<table border=\"1\" class=\"dataframe\">\n  <thead>\n    <tr style=\"text-align: right;\">\n      <th></th>\n      <th>n</th>\n      <th>śr. arytm.</th>\n      <th>odch. std</th>\n      <th>mediana</th>\n      <th>min</th>\n      <th>max</th>\n      <th>I kwantyl</th>\n      <th>III kwantyl</th>\n    </tr>\n  </thead>\n  <tbody>\n    <tr>\n      <th>0</th>\n      <td>1000</td>\n      <td>165.826165</td>\n      <td>7.251363</td>\n      <td>166.172942</td>\n      <td>143.597732</td>\n      <td>181.898289</td>\n      <td>160.937069</td>\n      <td>170.191941</td>\n    </tr>\n  </tbody>\n</table>\n</div>",
      "text/plain": "      n  śr. arytm.  odch. std     mediana         min         max  \\\n0  1000  165.826165   7.251363  166.172942  143.597732  181.898289   \n\n    I kwantyl  III kwantyl  \n0  160.937069   170.191941  "
     },
     "metadata": {
      "transient": {}
     },
     "output_type": "display_data"
    },
    {
     "data": {
      "text/plain": "'0.8_median'"
     },
     "metadata": {
      "transient": {}
     },
     "output_type": "display_data"
    },
    {
     "data": {
      "text/html": "<div>\n<style scoped>\n    .dataframe tbody tr th:only-of-type {\n        vertical-align: middle;\n    }\n\n    .dataframe tbody tr th {\n        vertical-align: top;\n    }\n\n    .dataframe thead th {\n        text-align: right;\n    }\n</style>\n<table border=\"1\" class=\"dataframe\">\n  <thead>\n    <tr style=\"text-align: right;\">\n      <th></th>\n      <th>n</th>\n      <th>śr. arytm.</th>\n      <th>odch. std</th>\n      <th>mediana</th>\n      <th>min</th>\n      <th>max</th>\n      <th>I kwantyl</th>\n      <th>III kwantyl</th>\n    </tr>\n  </thead>\n  <tbody>\n    <tr>\n      <th>0</th>\n      <td>1000</td>\n      <td>165.826165</td>\n      <td>7.251363</td>\n      <td>166.172942</td>\n      <td>143.597732</td>\n      <td>181.898289</td>\n      <td>160.937069</td>\n      <td>170.191941</td>\n    </tr>\n  </tbody>\n</table>\n</div>",
      "text/plain": "      n  śr. arytm.  odch. std     mediana         min         max  \\\n0  1000  165.826165   7.251363  166.172942  143.597732  181.898289   \n\n    I kwantyl  III kwantyl  \n0  160.937069   170.191941  "
     },
     "metadata": {
      "transient": {}
     },
     "output_type": "display_data"
    },
    {
     "data": {
      "text/plain": "'0.8_random'"
     },
     "metadata": {
      "transient": {}
     },
     "output_type": "display_data"
    },
    {
     "data": {
      "text/html": "<div>\n<style scoped>\n    .dataframe tbody tr th:only-of-type {\n        vertical-align: middle;\n    }\n\n    .dataframe tbody tr th {\n        vertical-align: top;\n    }\n\n    .dataframe thead th {\n        text-align: right;\n    }\n</style>\n<table border=\"1\" class=\"dataframe\">\n  <thead>\n    <tr style=\"text-align: right;\">\n      <th></th>\n      <th>n</th>\n      <th>śr. arytm.</th>\n      <th>odch. std</th>\n      <th>mediana</th>\n      <th>min</th>\n      <th>max</th>\n      <th>I kwantyl</th>\n      <th>III kwantyl</th>\n    </tr>\n  </thead>\n  <tbody>\n    <tr>\n      <th>0</th>\n      <td>1000</td>\n      <td>165.826165</td>\n      <td>7.251363</td>\n      <td>166.172942</td>\n      <td>143.597732</td>\n      <td>181.898289</td>\n      <td>160.937069</td>\n      <td>170.191941</td>\n    </tr>\n  </tbody>\n</table>\n</div>",
      "text/plain": "      n  śr. arytm.  odch. std     mediana         min         max  \\\n0  1000  165.826165   7.251363  166.172942  143.597732  181.898289   \n\n    I kwantyl  III kwantyl  \n0  160.937069   170.191941  "
     },
     "metadata": {
      "transient": {}
     },
     "output_type": "display_data"
    },
    {
     "data": {
      "text/plain": "0.0"
     },
     "metadata": {
      "transient": {}
     },
     "output_type": "display_data"
    },
    {
     "data": {
      "text/html": "<div>\n<style scoped>\n    .dataframe tbody tr th:only-of-type {\n        vertical-align: middle;\n    }\n\n    .dataframe tbody tr th {\n        vertical-align: top;\n    }\n\n    .dataframe thead th {\n        text-align: right;\n    }\n</style>\n<table border=\"1\" class=\"dataframe\">\n  <thead>\n    <tr style=\"text-align: right;\">\n      <th></th>\n      <th>n</th>\n      <th>śr. arytm.</th>\n      <th>odch. std</th>\n      <th>mediana</th>\n      <th>min</th>\n      <th>max</th>\n      <th>I kwantyl</th>\n      <th>III kwantyl</th>\n    </tr>\n  </thead>\n  <tbody>\n    <tr>\n      <th>0</th>\n      <td>1000</td>\n      <td>0.489468</td>\n      <td>0.286879</td>\n      <td>0.478497</td>\n      <td>0.000779</td>\n      <td>0.998564</td>\n      <td>0.235811</td>\n      <td>0.741599</td>\n    </tr>\n  </tbody>\n</table>\n</div>",
      "text/plain": "      n  śr. arytm.  odch. std   mediana       min       max  I kwantyl  \\\n0  1000    0.489468   0.286879  0.478497  0.000779  0.998564   0.235811   \n\n   III kwantyl  \n0     0.741599  "
     },
     "metadata": {
      "transient": {}
     },
     "output_type": "display_data"
    },
    {
     "data": {
      "text/plain": "0.1"
     },
     "metadata": {
      "transient": {}
     },
     "output_type": "display_data"
    },
    {
     "data": {
      "text/html": "<div>\n<style scoped>\n    .dataframe tbody tr th:only-of-type {\n        vertical-align: middle;\n    }\n\n    .dataframe tbody tr th {\n        vertical-align: top;\n    }\n\n    .dataframe thead th {\n        text-align: right;\n    }\n</style>\n<table border=\"1\" class=\"dataframe\">\n  <thead>\n    <tr style=\"text-align: right;\">\n      <th></th>\n      <th>n</th>\n      <th>śr. arytm.</th>\n      <th>odch. std</th>\n      <th>mediana</th>\n      <th>min</th>\n      <th>max</th>\n      <th>I kwantyl</th>\n      <th>III kwantyl</th>\n    </tr>\n  </thead>\n  <tbody>\n    <tr>\n      <th>0</th>\n      <td>1000</td>\n      <td>0.487431</td>\n      <td>0.287644</td>\n      <td>0.474683</td>\n      <td>0.000779</td>\n      <td>0.998564</td>\n      <td>0.235117</td>\n      <td>0.739934</td>\n    </tr>\n  </tbody>\n</table>\n</div>",
      "text/plain": "      n  śr. arytm.  odch. std   mediana       min       max  I kwantyl  \\\n0  1000    0.487431   0.287644  0.474683  0.000779  0.998564   0.235117   \n\n   III kwantyl  \n0     0.739934  "
     },
     "metadata": {
      "transient": {}
     },
     "output_type": "display_data"
    },
    {
     "data": {
      "text/plain": "0.2"
     },
     "metadata": {
      "transient": {}
     },
     "output_type": "display_data"
    },
    {
     "data": {
      "text/html": "<div>\n<style scoped>\n    .dataframe tbody tr th:only-of-type {\n        vertical-align: middle;\n    }\n\n    .dataframe tbody tr th {\n        vertical-align: top;\n    }\n\n    .dataframe thead th {\n        text-align: right;\n    }\n</style>\n<table border=\"1\" class=\"dataframe\">\n  <thead>\n    <tr style=\"text-align: right;\">\n      <th></th>\n      <th>n</th>\n      <th>śr. arytm.</th>\n      <th>odch. std</th>\n      <th>mediana</th>\n      <th>min</th>\n      <th>max</th>\n      <th>I kwantyl</th>\n      <th>III kwantyl</th>\n    </tr>\n  </thead>\n  <tbody>\n    <tr>\n      <th>0</th>\n      <td>1000</td>\n      <td>0.491536</td>\n      <td>0.286773</td>\n      <td>0.479613</td>\n      <td>0.000779</td>\n      <td>0.998564</td>\n      <td>0.256604</td>\n      <td>0.745677</td>\n    </tr>\n  </tbody>\n</table>\n</div>",
      "text/plain": "      n  śr. arytm.  odch. std   mediana       min       max  I kwantyl  \\\n0  1000    0.491536   0.286773  0.479613  0.000779  0.998564   0.256604   \n\n   III kwantyl  \n0     0.745677  "
     },
     "metadata": {
      "transient": {}
     },
     "output_type": "display_data"
    },
    {
     "data": {
      "text/plain": "0.3"
     },
     "metadata": {
      "transient": {}
     },
     "output_type": "display_data"
    },
    {
     "data": {
      "text/html": "<div>\n<style scoped>\n    .dataframe tbody tr th:only-of-type {\n        vertical-align: middle;\n    }\n\n    .dataframe tbody tr th {\n        vertical-align: top;\n    }\n\n    .dataframe thead th {\n        text-align: right;\n    }\n</style>\n<table border=\"1\" class=\"dataframe\">\n  <thead>\n    <tr style=\"text-align: right;\">\n      <th></th>\n      <th>n</th>\n      <th>śr. arytm.</th>\n      <th>odch. std</th>\n      <th>mediana</th>\n      <th>min</th>\n      <th>max</th>\n      <th>I kwantyl</th>\n      <th>III kwantyl</th>\n    </tr>\n  </thead>\n  <tbody>\n    <tr>\n      <th>0</th>\n      <td>1000</td>\n      <td>0.493488</td>\n      <td>0.286152</td>\n      <td>0.482608</td>\n      <td>0.000779</td>\n      <td>0.998037</td>\n      <td>0.256604</td>\n      <td>0.746258</td>\n    </tr>\n  </tbody>\n</table>\n</div>",
      "text/plain": "      n  śr. arytm.  odch. std   mediana       min       max  I kwantyl  \\\n0  1000    0.493488   0.286152  0.482608  0.000779  0.998037   0.256604   \n\n   III kwantyl  \n0     0.746258  "
     },
     "metadata": {
      "transient": {}
     },
     "output_type": "display_data"
    },
    {
     "data": {
      "text/plain": "0.4"
     },
     "metadata": {
      "transient": {}
     },
     "output_type": "display_data"
    },
    {
     "data": {
      "text/html": "<div>\n<style scoped>\n    .dataframe tbody tr th:only-of-type {\n        vertical-align: middle;\n    }\n\n    .dataframe tbody tr th {\n        vertical-align: top;\n    }\n\n    .dataframe thead th {\n        text-align: right;\n    }\n</style>\n<table border=\"1\" class=\"dataframe\">\n  <thead>\n    <tr style=\"text-align: right;\">\n      <th></th>\n      <th>n</th>\n      <th>śr. arytm.</th>\n      <th>odch. std</th>\n      <th>mediana</th>\n      <th>min</th>\n      <th>max</th>\n      <th>I kwantyl</th>\n      <th>III kwantyl</th>\n    </tr>\n  </thead>\n  <tbody>\n    <tr>\n      <th>0</th>\n      <td>1000</td>\n      <td>0.492015</td>\n      <td>0.284621</td>\n      <td>0.476937</td>\n      <td>0.000779</td>\n      <td>0.998037</td>\n      <td>0.256604</td>\n      <td>0.738657</td>\n    </tr>\n  </tbody>\n</table>\n</div>",
      "text/plain": "      n  śr. arytm.  odch. std   mediana       min       max  I kwantyl  \\\n0  1000    0.492015   0.284621  0.476937  0.000779  0.998037   0.256604   \n\n   III kwantyl  \n0     0.738657  "
     },
     "metadata": {
      "transient": {}
     },
     "output_type": "display_data"
    },
    {
     "data": {
      "text/plain": "0.5"
     },
     "metadata": {
      "transient": {}
     },
     "output_type": "display_data"
    },
    {
     "data": {
      "text/html": "<div>\n<style scoped>\n    .dataframe tbody tr th:only-of-type {\n        vertical-align: middle;\n    }\n\n    .dataframe tbody tr th {\n        vertical-align: top;\n    }\n\n    .dataframe thead th {\n        text-align: right;\n    }\n</style>\n<table border=\"1\" class=\"dataframe\">\n  <thead>\n    <tr style=\"text-align: right;\">\n      <th></th>\n      <th>n</th>\n      <th>śr. arytm.</th>\n      <th>odch. std</th>\n      <th>mediana</th>\n      <th>min</th>\n      <th>max</th>\n      <th>I kwantyl</th>\n      <th>III kwantyl</th>\n    </tr>\n  </thead>\n  <tbody>\n    <tr>\n      <th>0</th>\n      <td>1000</td>\n      <td>0.500957</td>\n      <td>0.283571</td>\n      <td>0.485453</td>\n      <td>0.000779</td>\n      <td>0.997199</td>\n      <td>0.265083</td>\n      <td>0.749325</td>\n    </tr>\n  </tbody>\n</table>\n</div>",
      "text/plain": "      n  śr. arytm.  odch. std   mediana       min       max  I kwantyl  \\\n0  1000    0.500957   0.283571  0.485453  0.000779  0.997199   0.265083   \n\n   III kwantyl  \n0     0.749325  "
     },
     "metadata": {
      "transient": {}
     },
     "output_type": "display_data"
    },
    {
     "data": {
      "text/plain": "0.6"
     },
     "metadata": {
      "transient": {}
     },
     "output_type": "display_data"
    },
    {
     "data": {
      "text/html": "<div>\n<style scoped>\n    .dataframe tbody tr th:only-of-type {\n        vertical-align: middle;\n    }\n\n    .dataframe tbody tr th {\n        vertical-align: top;\n    }\n\n    .dataframe thead th {\n        text-align: right;\n    }\n</style>\n<table border=\"1\" class=\"dataframe\">\n  <thead>\n    <tr style=\"text-align: right;\">\n      <th></th>\n      <th>n</th>\n      <th>śr. arytm.</th>\n      <th>odch. std</th>\n      <th>mediana</th>\n      <th>min</th>\n      <th>max</th>\n      <th>I kwantyl</th>\n      <th>III kwantyl</th>\n    </tr>\n  </thead>\n  <tbody>\n    <tr>\n      <th>0</th>\n      <td>1000</td>\n      <td>0.494282</td>\n      <td>0.284153</td>\n      <td>0.476121</td>\n      <td>0.000779</td>\n      <td>0.997199</td>\n      <td>0.256221</td>\n      <td>0.745677</td>\n    </tr>\n  </tbody>\n</table>\n</div>",
      "text/plain": "      n  śr. arytm.  odch. std   mediana       min       max  I kwantyl  \\\n0  1000    0.494282   0.284153  0.476121  0.000779  0.997199   0.256221   \n\n   III kwantyl  \n0     0.745677  "
     },
     "metadata": {
      "transient": {}
     },
     "output_type": "display_data"
    },
    {
     "data": {
      "text/plain": "0.7"
     },
     "metadata": {
      "transient": {}
     },
     "output_type": "display_data"
    },
    {
     "data": {
      "text/html": "<div>\n<style scoped>\n    .dataframe tbody tr th:only-of-type {\n        vertical-align: middle;\n    }\n\n    .dataframe tbody tr th {\n        vertical-align: top;\n    }\n\n    .dataframe thead th {\n        text-align: right;\n    }\n</style>\n<table border=\"1\" class=\"dataframe\">\n  <thead>\n    <tr style=\"text-align: right;\">\n      <th></th>\n      <th>n</th>\n      <th>śr. arytm.</th>\n      <th>odch. std</th>\n      <th>mediana</th>\n      <th>min</th>\n      <th>max</th>\n      <th>I kwantyl</th>\n      <th>III kwantyl</th>\n    </tr>\n  </thead>\n  <tbody>\n    <tr>\n      <th>0</th>\n      <td>1000</td>\n      <td>0.489636</td>\n      <td>0.28758</td>\n      <td>0.46248</td>\n      <td>0.000779</td>\n      <td>0.997199</td>\n      <td>0.233695</td>\n      <td>0.736924</td>\n    </tr>\n  </tbody>\n</table>\n</div>",
      "text/plain": "      n  śr. arytm.  odch. std  mediana       min       max  I kwantyl  \\\n0  1000    0.489636    0.28758  0.46248  0.000779  0.997199   0.233695   \n\n   III kwantyl  \n0     0.736924  "
     },
     "metadata": {
      "transient": {}
     },
     "output_type": "display_data"
    },
    {
     "data": {
      "text/plain": "0.8"
     },
     "metadata": {
      "transient": {}
     },
     "output_type": "display_data"
    },
    {
     "data": {
      "text/html": "<div>\n<style scoped>\n    .dataframe tbody tr th:only-of-type {\n        vertical-align: middle;\n    }\n\n    .dataframe tbody tr th {\n        vertical-align: top;\n    }\n\n    .dataframe thead th {\n        text-align: right;\n    }\n</style>\n<table border=\"1\" class=\"dataframe\">\n  <thead>\n    <tr style=\"text-align: right;\">\n      <th></th>\n      <th>n</th>\n      <th>śr. arytm.</th>\n      <th>odch. std</th>\n      <th>mediana</th>\n      <th>min</th>\n      <th>max</th>\n      <th>I kwantyl</th>\n      <th>III kwantyl</th>\n    </tr>\n  </thead>\n  <tbody>\n    <tr>\n      <th>0</th>\n      <td>1000</td>\n      <td>0.491801</td>\n      <td>0.287017</td>\n      <td>0.472652</td>\n      <td>0.000779</td>\n      <td>0.989291</td>\n      <td>0.227985</td>\n      <td>0.745903</td>\n    </tr>\n  </tbody>\n</table>\n</div>",
      "text/plain": "      n  śr. arytm.  odch. std   mediana       min       max  I kwantyl  \\\n0  1000    0.491801   0.287017  0.472652  0.000779  0.989291   0.227985   \n\n   III kwantyl  \n0     0.745903  "
     },
     "metadata": {
      "transient": {}
     },
     "output_type": "display_data"
    },
    {
     "data": {
      "text/plain": "'0.0_mean'"
     },
     "metadata": {
      "transient": {}
     },
     "output_type": "display_data"
    },
    {
     "data": {
      "text/html": "<div>\n<style scoped>\n    .dataframe tbody tr th:only-of-type {\n        vertical-align: middle;\n    }\n\n    .dataframe tbody tr th {\n        vertical-align: top;\n    }\n\n    .dataframe thead th {\n        text-align: right;\n    }\n</style>\n<table border=\"1\" class=\"dataframe\">\n  <thead>\n    <tr style=\"text-align: right;\">\n      <th></th>\n      <th>n</th>\n      <th>śr. arytm.</th>\n      <th>odch. std</th>\n      <th>mediana</th>\n      <th>min</th>\n      <th>max</th>\n      <th>I kwantyl</th>\n      <th>III kwantyl</th>\n    </tr>\n  </thead>\n  <tbody>\n    <tr>\n      <th>0</th>\n      <td>1000</td>\n      <td>0.489468</td>\n      <td>0.286879</td>\n      <td>0.478497</td>\n      <td>0.000779</td>\n      <td>0.998564</td>\n      <td>0.235811</td>\n      <td>0.741599</td>\n    </tr>\n  </tbody>\n</table>\n</div>",
      "text/plain": "      n  śr. arytm.  odch. std   mediana       min       max  I kwantyl  \\\n0  1000    0.489468   0.286879  0.478497  0.000779  0.998564   0.235811   \n\n   III kwantyl  \n0     0.741599  "
     },
     "metadata": {
      "transient": {}
     },
     "output_type": "display_data"
    },
    {
     "data": {
      "text/plain": "'0.0_median'"
     },
     "metadata": {
      "transient": {}
     },
     "output_type": "display_data"
    },
    {
     "data": {
      "text/html": "<div>\n<style scoped>\n    .dataframe tbody tr th:only-of-type {\n        vertical-align: middle;\n    }\n\n    .dataframe tbody tr th {\n        vertical-align: top;\n    }\n\n    .dataframe thead th {\n        text-align: right;\n    }\n</style>\n<table border=\"1\" class=\"dataframe\">\n  <thead>\n    <tr style=\"text-align: right;\">\n      <th></th>\n      <th>n</th>\n      <th>śr. arytm.</th>\n      <th>odch. std</th>\n      <th>mediana</th>\n      <th>min</th>\n      <th>max</th>\n      <th>I kwantyl</th>\n      <th>III kwantyl</th>\n    </tr>\n  </thead>\n  <tbody>\n    <tr>\n      <th>0</th>\n      <td>1000</td>\n      <td>0.489468</td>\n      <td>0.286879</td>\n      <td>0.478497</td>\n      <td>0.000779</td>\n      <td>0.998564</td>\n      <td>0.235811</td>\n      <td>0.741599</td>\n    </tr>\n  </tbody>\n</table>\n</div>",
      "text/plain": "      n  śr. arytm.  odch. std   mediana       min       max  I kwantyl  \\\n0  1000    0.489468   0.286879  0.478497  0.000779  0.998564   0.235811   \n\n   III kwantyl  \n0     0.741599  "
     },
     "metadata": {
      "transient": {}
     },
     "output_type": "display_data"
    },
    {
     "data": {
      "text/plain": "'0.0_random'"
     },
     "metadata": {
      "transient": {}
     },
     "output_type": "display_data"
    },
    {
     "data": {
      "text/html": "<div>\n<style scoped>\n    .dataframe tbody tr th:only-of-type {\n        vertical-align: middle;\n    }\n\n    .dataframe tbody tr th {\n        vertical-align: top;\n    }\n\n    .dataframe thead th {\n        text-align: right;\n    }\n</style>\n<table border=\"1\" class=\"dataframe\">\n  <thead>\n    <tr style=\"text-align: right;\">\n      <th></th>\n      <th>n</th>\n      <th>śr. arytm.</th>\n      <th>odch. std</th>\n      <th>mediana</th>\n      <th>min</th>\n      <th>max</th>\n      <th>I kwantyl</th>\n      <th>III kwantyl</th>\n    </tr>\n  </thead>\n  <tbody>\n    <tr>\n      <th>0</th>\n      <td>1000</td>\n      <td>0.489468</td>\n      <td>0.286879</td>\n      <td>0.478497</td>\n      <td>0.000779</td>\n      <td>0.998564</td>\n      <td>0.235811</td>\n      <td>0.741599</td>\n    </tr>\n  </tbody>\n</table>\n</div>",
      "text/plain": "      n  śr. arytm.  odch. std   mediana       min       max  I kwantyl  \\\n0  1000    0.489468   0.286879  0.478497  0.000779  0.998564   0.235811   \n\n   III kwantyl  \n0     0.741599  "
     },
     "metadata": {
      "transient": {}
     },
     "output_type": "display_data"
    },
    {
     "data": {
      "text/plain": "'0.1_mean'"
     },
     "metadata": {
      "transient": {}
     },
     "output_type": "display_data"
    },
    {
     "data": {
      "text/html": "<div>\n<style scoped>\n    .dataframe tbody tr th:only-of-type {\n        vertical-align: middle;\n    }\n\n    .dataframe tbody tr th {\n        vertical-align: top;\n    }\n\n    .dataframe thead th {\n        text-align: right;\n    }\n</style>\n<table border=\"1\" class=\"dataframe\">\n  <thead>\n    <tr style=\"text-align: right;\">\n      <th></th>\n      <th>n</th>\n      <th>śr. arytm.</th>\n      <th>odch. std</th>\n      <th>mediana</th>\n      <th>min</th>\n      <th>max</th>\n      <th>I kwantyl</th>\n      <th>III kwantyl</th>\n    </tr>\n  </thead>\n  <tbody>\n    <tr>\n      <th>0</th>\n      <td>1000</td>\n      <td>0.487431</td>\n      <td>0.287644</td>\n      <td>0.474683</td>\n      <td>0.000779</td>\n      <td>0.998564</td>\n      <td>0.235117</td>\n      <td>0.739934</td>\n    </tr>\n  </tbody>\n</table>\n</div>",
      "text/plain": "      n  śr. arytm.  odch. std   mediana       min       max  I kwantyl  \\\n0  1000    0.487431   0.287644  0.474683  0.000779  0.998564   0.235117   \n\n   III kwantyl  \n0     0.739934  "
     },
     "metadata": {
      "transient": {}
     },
     "output_type": "display_data"
    },
    {
     "data": {
      "text/plain": "'0.1_median'"
     },
     "metadata": {
      "transient": {}
     },
     "output_type": "display_data"
    },
    {
     "data": {
      "text/html": "<div>\n<style scoped>\n    .dataframe tbody tr th:only-of-type {\n        vertical-align: middle;\n    }\n\n    .dataframe tbody tr th {\n        vertical-align: top;\n    }\n\n    .dataframe thead th {\n        text-align: right;\n    }\n</style>\n<table border=\"1\" class=\"dataframe\">\n  <thead>\n    <tr style=\"text-align: right;\">\n      <th></th>\n      <th>n</th>\n      <th>śr. arytm.</th>\n      <th>odch. std</th>\n      <th>mediana</th>\n      <th>min</th>\n      <th>max</th>\n      <th>I kwantyl</th>\n      <th>III kwantyl</th>\n    </tr>\n  </thead>\n  <tbody>\n    <tr>\n      <th>0</th>\n      <td>1000</td>\n      <td>0.487431</td>\n      <td>0.287644</td>\n      <td>0.474683</td>\n      <td>0.000779</td>\n      <td>0.998564</td>\n      <td>0.235117</td>\n      <td>0.739934</td>\n    </tr>\n  </tbody>\n</table>\n</div>",
      "text/plain": "      n  śr. arytm.  odch. std   mediana       min       max  I kwantyl  \\\n0  1000    0.487431   0.287644  0.474683  0.000779  0.998564   0.235117   \n\n   III kwantyl  \n0     0.739934  "
     },
     "metadata": {
      "transient": {}
     },
     "output_type": "display_data"
    },
    {
     "data": {
      "text/plain": "'0.1_random'"
     },
     "metadata": {
      "transient": {}
     },
     "output_type": "display_data"
    },
    {
     "data": {
      "text/html": "<div>\n<style scoped>\n    .dataframe tbody tr th:only-of-type {\n        vertical-align: middle;\n    }\n\n    .dataframe tbody tr th {\n        vertical-align: top;\n    }\n\n    .dataframe thead th {\n        text-align: right;\n    }\n</style>\n<table border=\"1\" class=\"dataframe\">\n  <thead>\n    <tr style=\"text-align: right;\">\n      <th></th>\n      <th>n</th>\n      <th>śr. arytm.</th>\n      <th>odch. std</th>\n      <th>mediana</th>\n      <th>min</th>\n      <th>max</th>\n      <th>I kwantyl</th>\n      <th>III kwantyl</th>\n    </tr>\n  </thead>\n  <tbody>\n    <tr>\n      <th>0</th>\n      <td>1000</td>\n      <td>0.487431</td>\n      <td>0.287644</td>\n      <td>0.474683</td>\n      <td>0.000779</td>\n      <td>0.998564</td>\n      <td>0.235117</td>\n      <td>0.739934</td>\n    </tr>\n  </tbody>\n</table>\n</div>",
      "text/plain": "      n  śr. arytm.  odch. std   mediana       min       max  I kwantyl  \\\n0  1000    0.487431   0.287644  0.474683  0.000779  0.998564   0.235117   \n\n   III kwantyl  \n0     0.739934  "
     },
     "metadata": {
      "transient": {}
     },
     "output_type": "display_data"
    },
    {
     "data": {
      "text/plain": "'0.2_mean'"
     },
     "metadata": {
      "transient": {}
     },
     "output_type": "display_data"
    },
    {
     "data": {
      "text/html": "<div>\n<style scoped>\n    .dataframe tbody tr th:only-of-type {\n        vertical-align: middle;\n    }\n\n    .dataframe tbody tr th {\n        vertical-align: top;\n    }\n\n    .dataframe thead th {\n        text-align: right;\n    }\n</style>\n<table border=\"1\" class=\"dataframe\">\n  <thead>\n    <tr style=\"text-align: right;\">\n      <th></th>\n      <th>n</th>\n      <th>śr. arytm.</th>\n      <th>odch. std</th>\n      <th>mediana</th>\n      <th>min</th>\n      <th>max</th>\n      <th>I kwantyl</th>\n      <th>III kwantyl</th>\n    </tr>\n  </thead>\n  <tbody>\n    <tr>\n      <th>0</th>\n      <td>1000</td>\n      <td>0.491536</td>\n      <td>0.286773</td>\n      <td>0.479613</td>\n      <td>0.000779</td>\n      <td>0.998564</td>\n      <td>0.256604</td>\n      <td>0.745677</td>\n    </tr>\n  </tbody>\n</table>\n</div>",
      "text/plain": "      n  śr. arytm.  odch. std   mediana       min       max  I kwantyl  \\\n0  1000    0.491536   0.286773  0.479613  0.000779  0.998564   0.256604   \n\n   III kwantyl  \n0     0.745677  "
     },
     "metadata": {
      "transient": {}
     },
     "output_type": "display_data"
    },
    {
     "data": {
      "text/plain": "'0.2_median'"
     },
     "metadata": {
      "transient": {}
     },
     "output_type": "display_data"
    },
    {
     "data": {
      "text/html": "<div>\n<style scoped>\n    .dataframe tbody tr th:only-of-type {\n        vertical-align: middle;\n    }\n\n    .dataframe tbody tr th {\n        vertical-align: top;\n    }\n\n    .dataframe thead th {\n        text-align: right;\n    }\n</style>\n<table border=\"1\" class=\"dataframe\">\n  <thead>\n    <tr style=\"text-align: right;\">\n      <th></th>\n      <th>n</th>\n      <th>śr. arytm.</th>\n      <th>odch. std</th>\n      <th>mediana</th>\n      <th>min</th>\n      <th>max</th>\n      <th>I kwantyl</th>\n      <th>III kwantyl</th>\n    </tr>\n  </thead>\n  <tbody>\n    <tr>\n      <th>0</th>\n      <td>1000</td>\n      <td>0.491536</td>\n      <td>0.286773</td>\n      <td>0.479613</td>\n      <td>0.000779</td>\n      <td>0.998564</td>\n      <td>0.256604</td>\n      <td>0.745677</td>\n    </tr>\n  </tbody>\n</table>\n</div>",
      "text/plain": "      n  śr. arytm.  odch. std   mediana       min       max  I kwantyl  \\\n0  1000    0.491536   0.286773  0.479613  0.000779  0.998564   0.256604   \n\n   III kwantyl  \n0     0.745677  "
     },
     "metadata": {
      "transient": {}
     },
     "output_type": "display_data"
    },
    {
     "data": {
      "text/plain": "'0.2_random'"
     },
     "metadata": {
      "transient": {}
     },
     "output_type": "display_data"
    },
    {
     "data": {
      "text/html": "<div>\n<style scoped>\n    .dataframe tbody tr th:only-of-type {\n        vertical-align: middle;\n    }\n\n    .dataframe tbody tr th {\n        vertical-align: top;\n    }\n\n    .dataframe thead th {\n        text-align: right;\n    }\n</style>\n<table border=\"1\" class=\"dataframe\">\n  <thead>\n    <tr style=\"text-align: right;\">\n      <th></th>\n      <th>n</th>\n      <th>śr. arytm.</th>\n      <th>odch. std</th>\n      <th>mediana</th>\n      <th>min</th>\n      <th>max</th>\n      <th>I kwantyl</th>\n      <th>III kwantyl</th>\n    </tr>\n  </thead>\n  <tbody>\n    <tr>\n      <th>0</th>\n      <td>1000</td>\n      <td>0.491536</td>\n      <td>0.286773</td>\n      <td>0.479613</td>\n      <td>0.000779</td>\n      <td>0.998564</td>\n      <td>0.256604</td>\n      <td>0.745677</td>\n    </tr>\n  </tbody>\n</table>\n</div>",
      "text/plain": "      n  śr. arytm.  odch. std   mediana       min       max  I kwantyl  \\\n0  1000    0.491536   0.286773  0.479613  0.000779  0.998564   0.256604   \n\n   III kwantyl  \n0     0.745677  "
     },
     "metadata": {
      "transient": {}
     },
     "output_type": "display_data"
    },
    {
     "data": {
      "text/plain": "'0.3_mean'"
     },
     "metadata": {
      "transient": {}
     },
     "output_type": "display_data"
    },
    {
     "data": {
      "text/html": "<div>\n<style scoped>\n    .dataframe tbody tr th:only-of-type {\n        vertical-align: middle;\n    }\n\n    .dataframe tbody tr th {\n        vertical-align: top;\n    }\n\n    .dataframe thead th {\n        text-align: right;\n    }\n</style>\n<table border=\"1\" class=\"dataframe\">\n  <thead>\n    <tr style=\"text-align: right;\">\n      <th></th>\n      <th>n</th>\n      <th>śr. arytm.</th>\n      <th>odch. std</th>\n      <th>mediana</th>\n      <th>min</th>\n      <th>max</th>\n      <th>I kwantyl</th>\n      <th>III kwantyl</th>\n    </tr>\n  </thead>\n  <tbody>\n    <tr>\n      <th>0</th>\n      <td>1000</td>\n      <td>0.493488</td>\n      <td>0.286152</td>\n      <td>0.482608</td>\n      <td>0.000779</td>\n      <td>0.998037</td>\n      <td>0.256604</td>\n      <td>0.746258</td>\n    </tr>\n  </tbody>\n</table>\n</div>",
      "text/plain": "      n  śr. arytm.  odch. std   mediana       min       max  I kwantyl  \\\n0  1000    0.493488   0.286152  0.482608  0.000779  0.998037   0.256604   \n\n   III kwantyl  \n0     0.746258  "
     },
     "metadata": {
      "transient": {}
     },
     "output_type": "display_data"
    },
    {
     "data": {
      "text/plain": "'0.3_median'"
     },
     "metadata": {
      "transient": {}
     },
     "output_type": "display_data"
    },
    {
     "data": {
      "text/html": "<div>\n<style scoped>\n    .dataframe tbody tr th:only-of-type {\n        vertical-align: middle;\n    }\n\n    .dataframe tbody tr th {\n        vertical-align: top;\n    }\n\n    .dataframe thead th {\n        text-align: right;\n    }\n</style>\n<table border=\"1\" class=\"dataframe\">\n  <thead>\n    <tr style=\"text-align: right;\">\n      <th></th>\n      <th>n</th>\n      <th>śr. arytm.</th>\n      <th>odch. std</th>\n      <th>mediana</th>\n      <th>min</th>\n      <th>max</th>\n      <th>I kwantyl</th>\n      <th>III kwantyl</th>\n    </tr>\n  </thead>\n  <tbody>\n    <tr>\n      <th>0</th>\n      <td>1000</td>\n      <td>0.493488</td>\n      <td>0.286152</td>\n      <td>0.482608</td>\n      <td>0.000779</td>\n      <td>0.998037</td>\n      <td>0.256604</td>\n      <td>0.746258</td>\n    </tr>\n  </tbody>\n</table>\n</div>",
      "text/plain": "      n  śr. arytm.  odch. std   mediana       min       max  I kwantyl  \\\n0  1000    0.493488   0.286152  0.482608  0.000779  0.998037   0.256604   \n\n   III kwantyl  \n0     0.746258  "
     },
     "metadata": {
      "transient": {}
     },
     "output_type": "display_data"
    },
    {
     "data": {
      "text/plain": "'0.3_random'"
     },
     "metadata": {
      "transient": {}
     },
     "output_type": "display_data"
    },
    {
     "data": {
      "text/html": "<div>\n<style scoped>\n    .dataframe tbody tr th:only-of-type {\n        vertical-align: middle;\n    }\n\n    .dataframe tbody tr th {\n        vertical-align: top;\n    }\n\n    .dataframe thead th {\n        text-align: right;\n    }\n</style>\n<table border=\"1\" class=\"dataframe\">\n  <thead>\n    <tr style=\"text-align: right;\">\n      <th></th>\n      <th>n</th>\n      <th>śr. arytm.</th>\n      <th>odch. std</th>\n      <th>mediana</th>\n      <th>min</th>\n      <th>max</th>\n      <th>I kwantyl</th>\n      <th>III kwantyl</th>\n    </tr>\n  </thead>\n  <tbody>\n    <tr>\n      <th>0</th>\n      <td>1000</td>\n      <td>0.493488</td>\n      <td>0.286152</td>\n      <td>0.482608</td>\n      <td>0.000779</td>\n      <td>0.998037</td>\n      <td>0.256604</td>\n      <td>0.746258</td>\n    </tr>\n  </tbody>\n</table>\n</div>",
      "text/plain": "      n  śr. arytm.  odch. std   mediana       min       max  I kwantyl  \\\n0  1000    0.493488   0.286152  0.482608  0.000779  0.998037   0.256604   \n\n   III kwantyl  \n0     0.746258  "
     },
     "metadata": {
      "transient": {}
     },
     "output_type": "display_data"
    },
    {
     "data": {
      "text/plain": "'0.4_mean'"
     },
     "metadata": {
      "transient": {}
     },
     "output_type": "display_data"
    },
    {
     "data": {
      "text/html": "<div>\n<style scoped>\n    .dataframe tbody tr th:only-of-type {\n        vertical-align: middle;\n    }\n\n    .dataframe tbody tr th {\n        vertical-align: top;\n    }\n\n    .dataframe thead th {\n        text-align: right;\n    }\n</style>\n<table border=\"1\" class=\"dataframe\">\n  <thead>\n    <tr style=\"text-align: right;\">\n      <th></th>\n      <th>n</th>\n      <th>śr. arytm.</th>\n      <th>odch. std</th>\n      <th>mediana</th>\n      <th>min</th>\n      <th>max</th>\n      <th>I kwantyl</th>\n      <th>III kwantyl</th>\n    </tr>\n  </thead>\n  <tbody>\n    <tr>\n      <th>0</th>\n      <td>1000</td>\n      <td>0.492015</td>\n      <td>0.284621</td>\n      <td>0.476937</td>\n      <td>0.000779</td>\n      <td>0.998037</td>\n      <td>0.256604</td>\n      <td>0.738657</td>\n    </tr>\n  </tbody>\n</table>\n</div>",
      "text/plain": "      n  śr. arytm.  odch. std   mediana       min       max  I kwantyl  \\\n0  1000    0.492015   0.284621  0.476937  0.000779  0.998037   0.256604   \n\n   III kwantyl  \n0     0.738657  "
     },
     "metadata": {
      "transient": {}
     },
     "output_type": "display_data"
    },
    {
     "data": {
      "text/plain": "'0.4_median'"
     },
     "metadata": {
      "transient": {}
     },
     "output_type": "display_data"
    },
    {
     "data": {
      "text/html": "<div>\n<style scoped>\n    .dataframe tbody tr th:only-of-type {\n        vertical-align: middle;\n    }\n\n    .dataframe tbody tr th {\n        vertical-align: top;\n    }\n\n    .dataframe thead th {\n        text-align: right;\n    }\n</style>\n<table border=\"1\" class=\"dataframe\">\n  <thead>\n    <tr style=\"text-align: right;\">\n      <th></th>\n      <th>n</th>\n      <th>śr. arytm.</th>\n      <th>odch. std</th>\n      <th>mediana</th>\n      <th>min</th>\n      <th>max</th>\n      <th>I kwantyl</th>\n      <th>III kwantyl</th>\n    </tr>\n  </thead>\n  <tbody>\n    <tr>\n      <th>0</th>\n      <td>1000</td>\n      <td>0.492015</td>\n      <td>0.284621</td>\n      <td>0.476937</td>\n      <td>0.000779</td>\n      <td>0.998037</td>\n      <td>0.256604</td>\n      <td>0.738657</td>\n    </tr>\n  </tbody>\n</table>\n</div>",
      "text/plain": "      n  śr. arytm.  odch. std   mediana       min       max  I kwantyl  \\\n0  1000    0.492015   0.284621  0.476937  0.000779  0.998037   0.256604   \n\n   III kwantyl  \n0     0.738657  "
     },
     "metadata": {
      "transient": {}
     },
     "output_type": "display_data"
    },
    {
     "data": {
      "text/plain": "'0.4_random'"
     },
     "metadata": {
      "transient": {}
     },
     "output_type": "display_data"
    },
    {
     "data": {
      "text/html": "<div>\n<style scoped>\n    .dataframe tbody tr th:only-of-type {\n        vertical-align: middle;\n    }\n\n    .dataframe tbody tr th {\n        vertical-align: top;\n    }\n\n    .dataframe thead th {\n        text-align: right;\n    }\n</style>\n<table border=\"1\" class=\"dataframe\">\n  <thead>\n    <tr style=\"text-align: right;\">\n      <th></th>\n      <th>n</th>\n      <th>śr. arytm.</th>\n      <th>odch. std</th>\n      <th>mediana</th>\n      <th>min</th>\n      <th>max</th>\n      <th>I kwantyl</th>\n      <th>III kwantyl</th>\n    </tr>\n  </thead>\n  <tbody>\n    <tr>\n      <th>0</th>\n      <td>1000</td>\n      <td>0.492015</td>\n      <td>0.284621</td>\n      <td>0.476937</td>\n      <td>0.000779</td>\n      <td>0.998037</td>\n      <td>0.256604</td>\n      <td>0.738657</td>\n    </tr>\n  </tbody>\n</table>\n</div>",
      "text/plain": "      n  śr. arytm.  odch. std   mediana       min       max  I kwantyl  \\\n0  1000    0.492015   0.284621  0.476937  0.000779  0.998037   0.256604   \n\n   III kwantyl  \n0     0.738657  "
     },
     "metadata": {
      "transient": {}
     },
     "output_type": "display_data"
    },
    {
     "data": {
      "text/plain": "'0.5_mean'"
     },
     "metadata": {
      "transient": {}
     },
     "output_type": "display_data"
    },
    {
     "data": {
      "text/html": "<div>\n<style scoped>\n    .dataframe tbody tr th:only-of-type {\n        vertical-align: middle;\n    }\n\n    .dataframe tbody tr th {\n        vertical-align: top;\n    }\n\n    .dataframe thead th {\n        text-align: right;\n    }\n</style>\n<table border=\"1\" class=\"dataframe\">\n  <thead>\n    <tr style=\"text-align: right;\">\n      <th></th>\n      <th>n</th>\n      <th>śr. arytm.</th>\n      <th>odch. std</th>\n      <th>mediana</th>\n      <th>min</th>\n      <th>max</th>\n      <th>I kwantyl</th>\n      <th>III kwantyl</th>\n    </tr>\n  </thead>\n  <tbody>\n    <tr>\n      <th>0</th>\n      <td>1000</td>\n      <td>0.500957</td>\n      <td>0.283571</td>\n      <td>0.485453</td>\n      <td>0.000779</td>\n      <td>0.997199</td>\n      <td>0.265083</td>\n      <td>0.749325</td>\n    </tr>\n  </tbody>\n</table>\n</div>",
      "text/plain": "      n  śr. arytm.  odch. std   mediana       min       max  I kwantyl  \\\n0  1000    0.500957   0.283571  0.485453  0.000779  0.997199   0.265083   \n\n   III kwantyl  \n0     0.749325  "
     },
     "metadata": {
      "transient": {}
     },
     "output_type": "display_data"
    },
    {
     "data": {
      "text/plain": "'0.5_median'"
     },
     "metadata": {
      "transient": {}
     },
     "output_type": "display_data"
    },
    {
     "data": {
      "text/html": "<div>\n<style scoped>\n    .dataframe tbody tr th:only-of-type {\n        vertical-align: middle;\n    }\n\n    .dataframe tbody tr th {\n        vertical-align: top;\n    }\n\n    .dataframe thead th {\n        text-align: right;\n    }\n</style>\n<table border=\"1\" class=\"dataframe\">\n  <thead>\n    <tr style=\"text-align: right;\">\n      <th></th>\n      <th>n</th>\n      <th>śr. arytm.</th>\n      <th>odch. std</th>\n      <th>mediana</th>\n      <th>min</th>\n      <th>max</th>\n      <th>I kwantyl</th>\n      <th>III kwantyl</th>\n    </tr>\n  </thead>\n  <tbody>\n    <tr>\n      <th>0</th>\n      <td>1000</td>\n      <td>0.500957</td>\n      <td>0.283571</td>\n      <td>0.485453</td>\n      <td>0.000779</td>\n      <td>0.997199</td>\n      <td>0.265083</td>\n      <td>0.749325</td>\n    </tr>\n  </tbody>\n</table>\n</div>",
      "text/plain": "      n  śr. arytm.  odch. std   mediana       min       max  I kwantyl  \\\n0  1000    0.500957   0.283571  0.485453  0.000779  0.997199   0.265083   \n\n   III kwantyl  \n0     0.749325  "
     },
     "metadata": {
      "transient": {}
     },
     "output_type": "display_data"
    },
    {
     "data": {
      "text/plain": "'0.5_random'"
     },
     "metadata": {
      "transient": {}
     },
     "output_type": "display_data"
    },
    {
     "data": {
      "text/html": "<div>\n<style scoped>\n    .dataframe tbody tr th:only-of-type {\n        vertical-align: middle;\n    }\n\n    .dataframe tbody tr th {\n        vertical-align: top;\n    }\n\n    .dataframe thead th {\n        text-align: right;\n    }\n</style>\n<table border=\"1\" class=\"dataframe\">\n  <thead>\n    <tr style=\"text-align: right;\">\n      <th></th>\n      <th>n</th>\n      <th>śr. arytm.</th>\n      <th>odch. std</th>\n      <th>mediana</th>\n      <th>min</th>\n      <th>max</th>\n      <th>I kwantyl</th>\n      <th>III kwantyl</th>\n    </tr>\n  </thead>\n  <tbody>\n    <tr>\n      <th>0</th>\n      <td>1000</td>\n      <td>0.500957</td>\n      <td>0.283571</td>\n      <td>0.485453</td>\n      <td>0.000779</td>\n      <td>0.997199</td>\n      <td>0.265083</td>\n      <td>0.749325</td>\n    </tr>\n  </tbody>\n</table>\n</div>",
      "text/plain": "      n  śr. arytm.  odch. std   mediana       min       max  I kwantyl  \\\n0  1000    0.500957   0.283571  0.485453  0.000779  0.997199   0.265083   \n\n   III kwantyl  \n0     0.749325  "
     },
     "metadata": {
      "transient": {}
     },
     "output_type": "display_data"
    },
    {
     "data": {
      "text/plain": "'0.6_mean'"
     },
     "metadata": {
      "transient": {}
     },
     "output_type": "display_data"
    },
    {
     "data": {
      "text/html": "<div>\n<style scoped>\n    .dataframe tbody tr th:only-of-type {\n        vertical-align: middle;\n    }\n\n    .dataframe tbody tr th {\n        vertical-align: top;\n    }\n\n    .dataframe thead th {\n        text-align: right;\n    }\n</style>\n<table border=\"1\" class=\"dataframe\">\n  <thead>\n    <tr style=\"text-align: right;\">\n      <th></th>\n      <th>n</th>\n      <th>śr. arytm.</th>\n      <th>odch. std</th>\n      <th>mediana</th>\n      <th>min</th>\n      <th>max</th>\n      <th>I kwantyl</th>\n      <th>III kwantyl</th>\n    </tr>\n  </thead>\n  <tbody>\n    <tr>\n      <th>0</th>\n      <td>1000</td>\n      <td>0.494282</td>\n      <td>0.284153</td>\n      <td>0.476121</td>\n      <td>0.000779</td>\n      <td>0.997199</td>\n      <td>0.256221</td>\n      <td>0.745677</td>\n    </tr>\n  </tbody>\n</table>\n</div>",
      "text/plain": "      n  śr. arytm.  odch. std   mediana       min       max  I kwantyl  \\\n0  1000    0.494282   0.284153  0.476121  0.000779  0.997199   0.256221   \n\n   III kwantyl  \n0     0.745677  "
     },
     "metadata": {
      "transient": {}
     },
     "output_type": "display_data"
    },
    {
     "data": {
      "text/plain": "'0.6_median'"
     },
     "metadata": {
      "transient": {}
     },
     "output_type": "display_data"
    },
    {
     "data": {
      "text/html": "<div>\n<style scoped>\n    .dataframe tbody tr th:only-of-type {\n        vertical-align: middle;\n    }\n\n    .dataframe tbody tr th {\n        vertical-align: top;\n    }\n\n    .dataframe thead th {\n        text-align: right;\n    }\n</style>\n<table border=\"1\" class=\"dataframe\">\n  <thead>\n    <tr style=\"text-align: right;\">\n      <th></th>\n      <th>n</th>\n      <th>śr. arytm.</th>\n      <th>odch. std</th>\n      <th>mediana</th>\n      <th>min</th>\n      <th>max</th>\n      <th>I kwantyl</th>\n      <th>III kwantyl</th>\n    </tr>\n  </thead>\n  <tbody>\n    <tr>\n      <th>0</th>\n      <td>1000</td>\n      <td>0.494282</td>\n      <td>0.284153</td>\n      <td>0.476121</td>\n      <td>0.000779</td>\n      <td>0.997199</td>\n      <td>0.256221</td>\n      <td>0.745677</td>\n    </tr>\n  </tbody>\n</table>\n</div>",
      "text/plain": "      n  śr. arytm.  odch. std   mediana       min       max  I kwantyl  \\\n0  1000    0.494282   0.284153  0.476121  0.000779  0.997199   0.256221   \n\n   III kwantyl  \n0     0.745677  "
     },
     "metadata": {
      "transient": {}
     },
     "output_type": "display_data"
    },
    {
     "data": {
      "text/plain": "'0.6_random'"
     },
     "metadata": {
      "transient": {}
     },
     "output_type": "display_data"
    },
    {
     "data": {
      "text/html": "<div>\n<style scoped>\n    .dataframe tbody tr th:only-of-type {\n        vertical-align: middle;\n    }\n\n    .dataframe tbody tr th {\n        vertical-align: top;\n    }\n\n    .dataframe thead th {\n        text-align: right;\n    }\n</style>\n<table border=\"1\" class=\"dataframe\">\n  <thead>\n    <tr style=\"text-align: right;\">\n      <th></th>\n      <th>n</th>\n      <th>śr. arytm.</th>\n      <th>odch. std</th>\n      <th>mediana</th>\n      <th>min</th>\n      <th>max</th>\n      <th>I kwantyl</th>\n      <th>III kwantyl</th>\n    </tr>\n  </thead>\n  <tbody>\n    <tr>\n      <th>0</th>\n      <td>1000</td>\n      <td>0.494282</td>\n      <td>0.284153</td>\n      <td>0.476121</td>\n      <td>0.000779</td>\n      <td>0.997199</td>\n      <td>0.256221</td>\n      <td>0.745677</td>\n    </tr>\n  </tbody>\n</table>\n</div>",
      "text/plain": "      n  śr. arytm.  odch. std   mediana       min       max  I kwantyl  \\\n0  1000    0.494282   0.284153  0.476121  0.000779  0.997199   0.256221   \n\n   III kwantyl  \n0     0.745677  "
     },
     "metadata": {
      "transient": {}
     },
     "output_type": "display_data"
    },
    {
     "data": {
      "text/plain": "'0.7_mean'"
     },
     "metadata": {
      "transient": {}
     },
     "output_type": "display_data"
    },
    {
     "data": {
      "text/html": "<div>\n<style scoped>\n    .dataframe tbody tr th:only-of-type {\n        vertical-align: middle;\n    }\n\n    .dataframe tbody tr th {\n        vertical-align: top;\n    }\n\n    .dataframe thead th {\n        text-align: right;\n    }\n</style>\n<table border=\"1\" class=\"dataframe\">\n  <thead>\n    <tr style=\"text-align: right;\">\n      <th></th>\n      <th>n</th>\n      <th>śr. arytm.</th>\n      <th>odch. std</th>\n      <th>mediana</th>\n      <th>min</th>\n      <th>max</th>\n      <th>I kwantyl</th>\n      <th>III kwantyl</th>\n    </tr>\n  </thead>\n  <tbody>\n    <tr>\n      <th>0</th>\n      <td>1000</td>\n      <td>0.489636</td>\n      <td>0.28758</td>\n      <td>0.46248</td>\n      <td>0.000779</td>\n      <td>0.997199</td>\n      <td>0.233695</td>\n      <td>0.736924</td>\n    </tr>\n  </tbody>\n</table>\n</div>",
      "text/plain": "      n  śr. arytm.  odch. std  mediana       min       max  I kwantyl  \\\n0  1000    0.489636    0.28758  0.46248  0.000779  0.997199   0.233695   \n\n   III kwantyl  \n0     0.736924  "
     },
     "metadata": {
      "transient": {}
     },
     "output_type": "display_data"
    },
    {
     "data": {
      "text/plain": "'0.7_median'"
     },
     "metadata": {
      "transient": {}
     },
     "output_type": "display_data"
    },
    {
     "data": {
      "text/html": "<div>\n<style scoped>\n    .dataframe tbody tr th:only-of-type {\n        vertical-align: middle;\n    }\n\n    .dataframe tbody tr th {\n        vertical-align: top;\n    }\n\n    .dataframe thead th {\n        text-align: right;\n    }\n</style>\n<table border=\"1\" class=\"dataframe\">\n  <thead>\n    <tr style=\"text-align: right;\">\n      <th></th>\n      <th>n</th>\n      <th>śr. arytm.</th>\n      <th>odch. std</th>\n      <th>mediana</th>\n      <th>min</th>\n      <th>max</th>\n      <th>I kwantyl</th>\n      <th>III kwantyl</th>\n    </tr>\n  </thead>\n  <tbody>\n    <tr>\n      <th>0</th>\n      <td>1000</td>\n      <td>0.489636</td>\n      <td>0.28758</td>\n      <td>0.46248</td>\n      <td>0.000779</td>\n      <td>0.997199</td>\n      <td>0.233695</td>\n      <td>0.736924</td>\n    </tr>\n  </tbody>\n</table>\n</div>",
      "text/plain": "      n  śr. arytm.  odch. std  mediana       min       max  I kwantyl  \\\n0  1000    0.489636    0.28758  0.46248  0.000779  0.997199   0.233695   \n\n   III kwantyl  \n0     0.736924  "
     },
     "metadata": {
      "transient": {}
     },
     "output_type": "display_data"
    },
    {
     "data": {
      "text/plain": "'0.7_random'"
     },
     "metadata": {
      "transient": {}
     },
     "output_type": "display_data"
    },
    {
     "data": {
      "text/html": "<div>\n<style scoped>\n    .dataframe tbody tr th:only-of-type {\n        vertical-align: middle;\n    }\n\n    .dataframe tbody tr th {\n        vertical-align: top;\n    }\n\n    .dataframe thead th {\n        text-align: right;\n    }\n</style>\n<table border=\"1\" class=\"dataframe\">\n  <thead>\n    <tr style=\"text-align: right;\">\n      <th></th>\n      <th>n</th>\n      <th>śr. arytm.</th>\n      <th>odch. std</th>\n      <th>mediana</th>\n      <th>min</th>\n      <th>max</th>\n      <th>I kwantyl</th>\n      <th>III kwantyl</th>\n    </tr>\n  </thead>\n  <tbody>\n    <tr>\n      <th>0</th>\n      <td>1000</td>\n      <td>0.489636</td>\n      <td>0.28758</td>\n      <td>0.46248</td>\n      <td>0.000779</td>\n      <td>0.997199</td>\n      <td>0.233695</td>\n      <td>0.736924</td>\n    </tr>\n  </tbody>\n</table>\n</div>",
      "text/plain": "      n  śr. arytm.  odch. std  mediana       min       max  I kwantyl  \\\n0  1000    0.489636    0.28758  0.46248  0.000779  0.997199   0.233695   \n\n   III kwantyl  \n0     0.736924  "
     },
     "metadata": {
      "transient": {}
     },
     "output_type": "display_data"
    },
    {
     "data": {
      "text/plain": "'0.8_mean'"
     },
     "metadata": {
      "transient": {}
     },
     "output_type": "display_data"
    },
    {
     "data": {
      "text/html": "<div>\n<style scoped>\n    .dataframe tbody tr th:only-of-type {\n        vertical-align: middle;\n    }\n\n    .dataframe tbody tr th {\n        vertical-align: top;\n    }\n\n    .dataframe thead th {\n        text-align: right;\n    }\n</style>\n<table border=\"1\" class=\"dataframe\">\n  <thead>\n    <tr style=\"text-align: right;\">\n      <th></th>\n      <th>n</th>\n      <th>śr. arytm.</th>\n      <th>odch. std</th>\n      <th>mediana</th>\n      <th>min</th>\n      <th>max</th>\n      <th>I kwantyl</th>\n      <th>III kwantyl</th>\n    </tr>\n  </thead>\n  <tbody>\n    <tr>\n      <th>0</th>\n      <td>1000</td>\n      <td>0.491801</td>\n      <td>0.287017</td>\n      <td>0.472652</td>\n      <td>0.000779</td>\n      <td>0.989291</td>\n      <td>0.227985</td>\n      <td>0.745903</td>\n    </tr>\n  </tbody>\n</table>\n</div>",
      "text/plain": "      n  śr. arytm.  odch. std   mediana       min       max  I kwantyl  \\\n0  1000    0.491801   0.287017  0.472652  0.000779  0.989291   0.227985   \n\n   III kwantyl  \n0     0.745903  "
     },
     "metadata": {
      "transient": {}
     },
     "output_type": "display_data"
    },
    {
     "data": {
      "text/plain": "'0.8_median'"
     },
     "metadata": {
      "transient": {}
     },
     "output_type": "display_data"
    },
    {
     "data": {
      "text/html": "<div>\n<style scoped>\n    .dataframe tbody tr th:only-of-type {\n        vertical-align: middle;\n    }\n\n    .dataframe tbody tr th {\n        vertical-align: top;\n    }\n\n    .dataframe thead th {\n        text-align: right;\n    }\n</style>\n<table border=\"1\" class=\"dataframe\">\n  <thead>\n    <tr style=\"text-align: right;\">\n      <th></th>\n      <th>n</th>\n      <th>śr. arytm.</th>\n      <th>odch. std</th>\n      <th>mediana</th>\n      <th>min</th>\n      <th>max</th>\n      <th>I kwantyl</th>\n      <th>III kwantyl</th>\n    </tr>\n  </thead>\n  <tbody>\n    <tr>\n      <th>0</th>\n      <td>1000</td>\n      <td>0.491801</td>\n      <td>0.287017</td>\n      <td>0.472652</td>\n      <td>0.000779</td>\n      <td>0.989291</td>\n      <td>0.227985</td>\n      <td>0.745903</td>\n    </tr>\n  </tbody>\n</table>\n</div>",
      "text/plain": "      n  śr. arytm.  odch. std   mediana       min       max  I kwantyl  \\\n0  1000    0.491801   0.287017  0.472652  0.000779  0.989291   0.227985   \n\n   III kwantyl  \n0     0.745903  "
     },
     "metadata": {
      "transient": {}
     },
     "output_type": "display_data"
    },
    {
     "data": {
      "text/plain": "'0.8_random'"
     },
     "metadata": {
      "transient": {}
     },
     "output_type": "display_data"
    },
    {
     "data": {
      "text/html": "<div>\n<style scoped>\n    .dataframe tbody tr th:only-of-type {\n        vertical-align: middle;\n    }\n\n    .dataframe tbody tr th {\n        vertical-align: top;\n    }\n\n    .dataframe thead th {\n        text-align: right;\n    }\n</style>\n<table border=\"1\" class=\"dataframe\">\n  <thead>\n    <tr style=\"text-align: right;\">\n      <th></th>\n      <th>n</th>\n      <th>śr. arytm.</th>\n      <th>odch. std</th>\n      <th>mediana</th>\n      <th>min</th>\n      <th>max</th>\n      <th>I kwantyl</th>\n      <th>III kwantyl</th>\n    </tr>\n  </thead>\n  <tbody>\n    <tr>\n      <th>0</th>\n      <td>1000</td>\n      <td>0.491801</td>\n      <td>0.287017</td>\n      <td>0.472652</td>\n      <td>0.000779</td>\n      <td>0.989291</td>\n      <td>0.227985</td>\n      <td>0.745903</td>\n    </tr>\n  </tbody>\n</table>\n</div>",
      "text/plain": "      n  śr. arytm.  odch. std   mediana       min       max  I kwantyl  \\\n0  1000    0.491801   0.287017  0.472652  0.000779  0.989291   0.227985   \n\n   III kwantyl  \n0     0.745903  "
     },
     "metadata": {
      "transient": {}
     },
     "output_type": "display_data"
    }
   ],
   "source": [
    "from random import randint\n",
    "\n",
    "def prefill(_df):\n",
    "  for col in _df.columns:\n",
    "    mean = str(col) + '_uzupelnianie_srednia_arytm'\n",
    "    median = str(col) + '_uzupelnianie_mediana'\n",
    "    random = str( col ) + '_uzupelnianie_losowa'\n",
    "    _df[mean] = _df[col]\n",
    "    _df[mean].fillna(_df[mean].mean())\n",
    "\n",
    "    _df[median] = _df[col]\n",
    "    _df[median].fillna(_df[median].median())\n",
    "\n",
    "    min = _df[col].min()\n",
    "    max = _df[col].max()\n",
    "    if max==0: \n",
    "      return\n",
    "    _df[random] = _df[col]\n",
    "    _df[random].fillna(randint(int(min),int(max)))\n",
    "\n",
    "  \n",
    "prefill(normal_variants)\n",
    "prefill(uniform_variants)\n",
    "\n",
    "for column in normal_variants:\n",
    "  display(\"Prefill danych dla rozkladu normalnego\")\n",
    "  display(column)\n",
    "  print_basic_stats(normal_variants[column])\n",
    "\n",
    "for column in uniform_variants:\n",
    "  display(\"Prefill danych dla rozkladu jednolitego\")\n",
    "  display(column)\n",
    "  print_basic_stats(uniform_variants[column])\n",
    "\n",
    "# def fill_mean(_df):\n",
    "#   for col in _df.columns:\n",
    "#     mean = _df[col].mean()\n",
    "#     _df[col].fillna(mean)\n",
    "\n",
    "# def fill_median(_df):\n",
    "#   for col in _df.columns:\n",
    "#     mean = _df[col].mean()\n",
    "#     _df[col].fillna(mean)\n",
    "\n",
    "# def fill_random(_df):\n",
    "#   for col in _df.columns:\n",
    "#     min = _df[col].min()\n",
    "#     max = _df[col].max()\n",
    "#     _df[col].fillna(randrange(min, max))\n",
    "    \n"
   ]
  },
  {
   "cell_type": "code",
   "execution_count": null,
   "metadata": {},
   "outputs": [],
   "source": []
  },
  {
   "cell_type": "code",
   "execution_count": null,
   "metadata": {},
   "outputs": [],
   "source": []
  }
 ],
 "metadata": {
  "kernelspec": {
   "display_name": "Python 3",
   "name": "python3"
  },
  "language_info": {
   "codemirror_mode": {
    "name": "ipython",
    "version": 3
   },
   "file_extension": ".py",
   "mimetype": "text/x-python",
   "name": "python",
   "nbconvert_exporter": "python",
   "pygments_lexer": "ipython3",
   "version": "3.8.5"
  },
  "orig_nbformat": 2
 },
 "nbformat": 4,
 "nbformat_minor": 2
}