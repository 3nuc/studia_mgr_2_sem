{
 "cells": [
  {
   "cell_type": "markdown",
   "metadata": {},
   "source": [
    "# Zadanie 6-7 - klasyfikator dokumentów\n",
    "## Zaimplementuj klasyfikator dokumentów\n",
    "\n",
    "Zbiór danych:\n",
    "\n",
    "    2225 dokumentów ze strony internetowej BBC News, odpowiadających historiom z pięciu topowych tematów opisywanych w latach 2004-2005\n",
    "    5 etykiet klas (business, entertainment, politics, sport, tech)\n",
    "\n",
    "Kroki budowy klasyfikatora:\n",
    "\n",
    "    Podziel zbiór danych na dwie części: 50% dokumentów część treningowa, 50% dokumentów część testowa\n",
    "    Utwórz wektorowe reprezentacje dokumentów stosując algorytm TF-IDF + wcześniejsza lematyzacja, usuwanie stop-words\n",
    "    Wytrenuj wybrany model klasyfikatora na części treningowej zbioru danych\n",
    "    Zweryfikuj jakość (trafność klasyfikacji) modelu na testowej części danych\n",
    "\n",
    "Jako dowód wykonania zadania proszę zamieścić kod źródłowy oraz krótki raport zawierający informację o trafności klasyfikacji oraz macierz pomyłek zarówno dla części treningowej jak i testowej zbioru danych.\n",
    " \n",
    "\t\n",
    "bbc-fulltext.zip bbc-fulltext.zip https://cez2.wi.pb.edu.pl/moodle/pluginfile.php/38964/mod_assign/introattachment/0/bbc-fulltext.zip?forcedownload=1\n",
    "5 November 2019, 11:30 AM"
   ]
  },
  {
   "cell_type": "markdown",
   "metadata": {},
   "source": [
    "# Take all files from the bbc dir for splitting into test/training cases"
   ]
  },
  {
   "cell_type": "code",
   "execution_count": null,
   "metadata": {},
   "outputs": [],
   "source": [
    "import os\n",
    "from glob import glob\n",
    "# Get files from folder recursively\n",
    "def get_all_files(PATH):\n",
    "    [y for x in os.walk(PATH) for y in glob(os.path.join(x[0], '*.txt'))]\n",
    "  \n",
    "#eg. X = 'business/01.txt' Y = 'business'\n",
    "business_text      = get_all_files('./bbc/business')\n",
    "entertainment_text = get_all_files('./bbc/entertainment')\n",
    "politics_text      = get_all_files('./bbc/politics')\n",
    "sport_text         = get_all_files('./bbc/sport')\n",
    "tech_text          = get_all_files('./bbc/tech')\n"
   ]
  }
 ],
 "metadata": {
  "kernelspec": {
   "display_name": "Python 3",
   "name": "python3"
  },
  "language_info": {
   "name": "python",
   "nbconvert_exporter": "python",
   "version": "3.8.5-final"
  },
  "orig_nbformat": 2
 },
 "nbformat": 4,
 "nbformat_minor": 2
}